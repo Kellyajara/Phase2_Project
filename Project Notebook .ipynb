{
 "cells": [
  {
   "cell_type": "markdown",
   "metadata": {},
   "source": [
    "# Imports"
   ]
  },
  {
   "cell_type": "code",
   "execution_count": 1,
   "metadata": {},
   "outputs": [],
   "source": [
    "import pandas as pd\n",
    "import numpy as np\n",
    "import matplotlib.pyplot as plt \n",
    "%matplotlib inline \n",
    "import seaborn as sns\n",
    "import warnings\n",
    "warnings.filterwarnings(\"ignore\")"
   ]
  },
  {
   "cell_type": "code",
   "execution_count": 2,
   "metadata": {},
   "outputs": [
    {
     "data": {
      "text/html": [
       "<div>\n",
       "<style scoped>\n",
       "    .dataframe tbody tr th:only-of-type {\n",
       "        vertical-align: middle;\n",
       "    }\n",
       "\n",
       "    .dataframe tbody tr th {\n",
       "        vertical-align: top;\n",
       "    }\n",
       "\n",
       "    .dataframe thead th {\n",
       "        text-align: right;\n",
       "    }\n",
       "</style>\n",
       "<table border=\"1\" class=\"dataframe\">\n",
       "  <thead>\n",
       "    <tr style=\"text-align: right;\">\n",
       "      <th></th>\n",
       "      <th>id</th>\n",
       "      <th>date</th>\n",
       "      <th>price</th>\n",
       "      <th>bedrooms</th>\n",
       "      <th>bathrooms</th>\n",
       "      <th>sqft_living</th>\n",
       "      <th>sqft_lot</th>\n",
       "      <th>floors</th>\n",
       "      <th>waterfront</th>\n",
       "      <th>greenbelt</th>\n",
       "      <th>...</th>\n",
       "      <th>sewer_system</th>\n",
       "      <th>sqft_above</th>\n",
       "      <th>sqft_basement</th>\n",
       "      <th>sqft_garage</th>\n",
       "      <th>sqft_patio</th>\n",
       "      <th>yr_built</th>\n",
       "      <th>yr_renovated</th>\n",
       "      <th>address</th>\n",
       "      <th>lat</th>\n",
       "      <th>long</th>\n",
       "    </tr>\n",
       "  </thead>\n",
       "  <tbody>\n",
       "    <tr>\n",
       "      <th>0</th>\n",
       "      <td>7399300360</td>\n",
       "      <td>5/24/2022</td>\n",
       "      <td>675000.0</td>\n",
       "      <td>4</td>\n",
       "      <td>1.0</td>\n",
       "      <td>1180</td>\n",
       "      <td>7140</td>\n",
       "      <td>1.0</td>\n",
       "      <td>NO</td>\n",
       "      <td>NO</td>\n",
       "      <td>...</td>\n",
       "      <td>PUBLIC</td>\n",
       "      <td>1180</td>\n",
       "      <td>0</td>\n",
       "      <td>0</td>\n",
       "      <td>40</td>\n",
       "      <td>1969</td>\n",
       "      <td>0</td>\n",
       "      <td>2102 Southeast 21st Court, Renton, Washington ...</td>\n",
       "      <td>47.461975</td>\n",
       "      <td>-122.19052</td>\n",
       "    </tr>\n",
       "    <tr>\n",
       "      <th>1</th>\n",
       "      <td>8910500230</td>\n",
       "      <td>12/13/2021</td>\n",
       "      <td>920000.0</td>\n",
       "      <td>5</td>\n",
       "      <td>2.5</td>\n",
       "      <td>2770</td>\n",
       "      <td>6703</td>\n",
       "      <td>1.0</td>\n",
       "      <td>NO</td>\n",
       "      <td>NO</td>\n",
       "      <td>...</td>\n",
       "      <td>PUBLIC</td>\n",
       "      <td>1570</td>\n",
       "      <td>1570</td>\n",
       "      <td>0</td>\n",
       "      <td>240</td>\n",
       "      <td>1950</td>\n",
       "      <td>0</td>\n",
       "      <td>11231 Greenwood Avenue North, Seattle, Washing...</td>\n",
       "      <td>47.711525</td>\n",
       "      <td>-122.35591</td>\n",
       "    </tr>\n",
       "    <tr>\n",
       "      <th>2</th>\n",
       "      <td>1180000275</td>\n",
       "      <td>9/29/2021</td>\n",
       "      <td>311000.0</td>\n",
       "      <td>6</td>\n",
       "      <td>2.0</td>\n",
       "      <td>2880</td>\n",
       "      <td>6156</td>\n",
       "      <td>1.0</td>\n",
       "      <td>NO</td>\n",
       "      <td>NO</td>\n",
       "      <td>...</td>\n",
       "      <td>PUBLIC</td>\n",
       "      <td>1580</td>\n",
       "      <td>1580</td>\n",
       "      <td>0</td>\n",
       "      <td>0</td>\n",
       "      <td>1956</td>\n",
       "      <td>0</td>\n",
       "      <td>8504 South 113th Street, Seattle, Washington 9...</td>\n",
       "      <td>47.502045</td>\n",
       "      <td>-122.22520</td>\n",
       "    </tr>\n",
       "    <tr>\n",
       "      <th>3</th>\n",
       "      <td>1604601802</td>\n",
       "      <td>12/14/2021</td>\n",
       "      <td>775000.0</td>\n",
       "      <td>3</td>\n",
       "      <td>3.0</td>\n",
       "      <td>2160</td>\n",
       "      <td>1400</td>\n",
       "      <td>2.0</td>\n",
       "      <td>NO</td>\n",
       "      <td>NO</td>\n",
       "      <td>...</td>\n",
       "      <td>PUBLIC</td>\n",
       "      <td>1090</td>\n",
       "      <td>1070</td>\n",
       "      <td>200</td>\n",
       "      <td>270</td>\n",
       "      <td>2010</td>\n",
       "      <td>0</td>\n",
       "      <td>4079 Letitia Avenue South, Seattle, Washington...</td>\n",
       "      <td>47.566110</td>\n",
       "      <td>-122.29020</td>\n",
       "    </tr>\n",
       "    <tr>\n",
       "      <th>4</th>\n",
       "      <td>8562780790</td>\n",
       "      <td>8/24/2021</td>\n",
       "      <td>592500.0</td>\n",
       "      <td>2</td>\n",
       "      <td>2.0</td>\n",
       "      <td>1120</td>\n",
       "      <td>758</td>\n",
       "      <td>2.0</td>\n",
       "      <td>NO</td>\n",
       "      <td>NO</td>\n",
       "      <td>...</td>\n",
       "      <td>PUBLIC</td>\n",
       "      <td>1120</td>\n",
       "      <td>550</td>\n",
       "      <td>550</td>\n",
       "      <td>30</td>\n",
       "      <td>2012</td>\n",
       "      <td>0</td>\n",
       "      <td>2193 Northwest Talus Drive, Issaquah, Washingt...</td>\n",
       "      <td>47.532470</td>\n",
       "      <td>-122.07188</td>\n",
       "    </tr>\n",
       "  </tbody>\n",
       "</table>\n",
       "<p>5 rows × 25 columns</p>\n",
       "</div>"
      ],
      "text/plain": [
       "           id        date     price  bedrooms  bathrooms  sqft_living  \\\n",
       "0  7399300360   5/24/2022  675000.0         4        1.0         1180   \n",
       "1  8910500230  12/13/2021  920000.0         5        2.5         2770   \n",
       "2  1180000275   9/29/2021  311000.0         6        2.0         2880   \n",
       "3  1604601802  12/14/2021  775000.0         3        3.0         2160   \n",
       "4  8562780790   8/24/2021  592500.0         2        2.0         1120   \n",
       "\n",
       "   sqft_lot  floors waterfront greenbelt  ... sewer_system sqft_above  \\\n",
       "0      7140     1.0         NO        NO  ...       PUBLIC       1180   \n",
       "1      6703     1.0         NO        NO  ...       PUBLIC       1570   \n",
       "2      6156     1.0         NO        NO  ...       PUBLIC       1580   \n",
       "3      1400     2.0         NO        NO  ...       PUBLIC       1090   \n",
       "4       758     2.0         NO        NO  ...       PUBLIC       1120   \n",
       "\n",
       "  sqft_basement sqft_garage sqft_patio yr_built  yr_renovated  \\\n",
       "0             0           0         40     1969             0   \n",
       "1          1570           0        240     1950             0   \n",
       "2          1580           0          0     1956             0   \n",
       "3          1070         200        270     2010             0   \n",
       "4           550         550         30     2012             0   \n",
       "\n",
       "                                             address        lat       long  \n",
       "0  2102 Southeast 21st Court, Renton, Washington ...  47.461975 -122.19052  \n",
       "1  11231 Greenwood Avenue North, Seattle, Washing...  47.711525 -122.35591  \n",
       "2  8504 South 113th Street, Seattle, Washington 9...  47.502045 -122.22520  \n",
       "3  4079 Letitia Avenue South, Seattle, Washington...  47.566110 -122.29020  \n",
       "4  2193 Northwest Talus Drive, Issaquah, Washingt...  47.532470 -122.07188  \n",
       "\n",
       "[5 rows x 25 columns]"
      ]
     },
     "execution_count": 2,
     "metadata": {},
     "output_type": "execute_result"
    }
   ],
   "source": [
    "housing_df= pd.read_csv('data/kc_house_data.csv')\n",
    "housing_df.head()"
   ]
  },
  {
   "cell_type": "markdown",
   "metadata": {},
   "source": [
    "# Finding and Removing Null Values"
   ]
  },
  {
   "cell_type": "code",
   "execution_count": 3,
   "metadata": {},
   "outputs": [
    {
     "data": {
      "text/plain": [
       "id                0\n",
       "date              0\n",
       "price             0\n",
       "bedrooms          0\n",
       "bathrooms         0\n",
       "sqft_living       0\n",
       "sqft_lot          0\n",
       "floors            0\n",
       "waterfront        0\n",
       "greenbelt         0\n",
       "nuisance          0\n",
       "view              0\n",
       "condition         0\n",
       "grade             0\n",
       "heat_source      32\n",
       "sewer_system     14\n",
       "sqft_above        0\n",
       "sqft_basement     0\n",
       "sqft_garage       0\n",
       "sqft_patio        0\n",
       "yr_built          0\n",
       "yr_renovated      0\n",
       "address           0\n",
       "lat               0\n",
       "long              0\n",
       "dtype: int64"
      ]
     },
     "execution_count": 3,
     "metadata": {},
     "output_type": "execute_result"
    }
   ],
   "source": [
    "housing_df.isna().sum()"
   ]
  },
  {
   "cell_type": "code",
   "execution_count": 4,
   "metadata": {},
   "outputs": [],
   "source": [
    "housing_df.dropna(inplace = True)"
   ]
  },
  {
   "cell_type": "code",
   "execution_count": 5,
   "metadata": {},
   "outputs": [
    {
     "name": "stdout",
     "output_type": "stream",
     "text": [
      "<class 'pandas.core.frame.DataFrame'>\n",
      "Int64Index: 30111 entries, 0 to 30154\n",
      "Data columns (total 25 columns):\n",
      " #   Column         Non-Null Count  Dtype  \n",
      "---  ------         --------------  -----  \n",
      " 0   id             30111 non-null  int64  \n",
      " 1   date           30111 non-null  object \n",
      " 2   price          30111 non-null  float64\n",
      " 3   bedrooms       30111 non-null  int64  \n",
      " 4   bathrooms      30111 non-null  float64\n",
      " 5   sqft_living    30111 non-null  int64  \n",
      " 6   sqft_lot       30111 non-null  int64  \n",
      " 7   floors         30111 non-null  float64\n",
      " 8   waterfront     30111 non-null  object \n",
      " 9   greenbelt      30111 non-null  object \n",
      " 10  nuisance       30111 non-null  object \n",
      " 11  view           30111 non-null  object \n",
      " 12  condition      30111 non-null  object \n",
      " 13  grade          30111 non-null  object \n",
      " 14  heat_source    30111 non-null  object \n",
      " 15  sewer_system   30111 non-null  object \n",
      " 16  sqft_above     30111 non-null  int64  \n",
      " 17  sqft_basement  30111 non-null  int64  \n",
      " 18  sqft_garage    30111 non-null  int64  \n",
      " 19  sqft_patio     30111 non-null  int64  \n",
      " 20  yr_built       30111 non-null  int64  \n",
      " 21  yr_renovated   30111 non-null  int64  \n",
      " 22  address        30111 non-null  object \n",
      " 23  lat            30111 non-null  float64\n",
      " 24  long           30111 non-null  float64\n",
      "dtypes: float64(5), int64(10), object(10)\n",
      "memory usage: 6.0+ MB\n"
     ]
    }
   ],
   "source": [
    "housing_df.info()"
   ]
  },
  {
   "cell_type": "code",
   "execution_count": 6,
   "metadata": {},
   "outputs": [
    {
     "data": {
      "text/plain": [
       "Average      18515\n",
       "Good          8052\n",
       "Very Good     3258\n",
       "Fair           225\n",
       "Poor            61\n",
       "Name: condition, dtype: int64"
      ]
     },
     "execution_count": 6,
     "metadata": {},
     "output_type": "execute_result"
    }
   ],
   "source": [
    "housing_df['condition'].value_counts()"
   ]
  },
  {
   "cell_type": "code",
   "execution_count": 7,
   "metadata": {},
   "outputs": [
    {
     "data": {
      "text/plain": [
       "7 Average        11693\n",
       "8 Good            9400\n",
       "9 Better          3804\n",
       "6 Low Average     2852\n",
       "10 Very Good      1369\n",
       "11 Excellent       406\n",
       "5 Fair             385\n",
       "12 Luxury          122\n",
       "4 Low               46\n",
       "13 Mansion          24\n",
       "3 Poor               9\n",
       "2 Substandard        1\n",
       "Name: grade, dtype: int64"
      ]
     },
     "execution_count": 7,
     "metadata": {},
     "output_type": "execute_result"
    }
   ],
   "source": [
    "housing_df['grade'].value_counts()"
   ]
  },
  {
   "cell_type": "markdown",
   "metadata": {},
   "source": [
    "# Creating a new column with zipcodes"
   ]
  },
  {
   "cell_type": "code",
   "execution_count": 8,
   "metadata": {},
   "outputs": [
    {
     "data": {
      "text/plain": [
<<<<<<< HEAD
       "Avenue, 108 Foothill Blvd, Rancho Cucamonga, California 91730, United States          38\n",
       "Delridge Way Southwest, Seattle, Washington 98106, United States                      24\n",
       "9th Ave, Nebraska City, Nebraska 68410, United States                                 21\n",
       "South 35th Avenue, Bellevue, Nebraska 68123, United States                            20\n",
       "15th Avenue, Plattsmouth, Nebraska 68048, United States                               17\n",
       "                                                                                      ..\n",
       "1810 Northwest Goode Place, Issaquah, Washington 98027, United States                  1\n",
       "537 Northeast 82nd Street, Seattle, Washington 98115, United States                    1\n",
       "4237 S Bozeman St, Seattle, Washington 98118, United States                            1\n",
       "7312 Alonzo Avenue Northwest, Seattle, Washington 98117, United States                 1\n",
       "16521 Southeast Auburn-Black Diamond Road, Auburn, Washington 98092, United States     1\n",
=======
       "Avenue, 108 Foothill Blvd, Rancho Cucamonga, California 91730, United States    38\n",
       "Delridge Way Southwest, Seattle, Washington 98106, United States                24\n",
       "9th Ave, Nebraska City, Nebraska 68410, United States                           21\n",
       "South 35th Avenue, Bellevue, Nebraska 68123, United States                      20\n",
       "A, Leadwood, Missouri 63653, United States                                      17\n",
       "                                                                                ..\n",
       "1607 55th Court Southeast, Auburn, Washington 98092, United States               1\n",
       "3115 South 366th Court, Federal Way, Washington 98003, United States             1\n",
       "2524 South 354th Street, Federal Way, Washington 98003, United States            1\n",
       "1805B 25th Ave, Seattle, Washington 98122, United States                         1\n",
       "1506 Davis Avenue South, Renton, Washington 98055, United States                 1\n",
>>>>>>> add
       "Name: address, Length: 29519, dtype: int64"
      ]
     },
     "execution_count": 8,
     "metadata": {},
     "output_type": "execute_result"
    }
   ],
   "source": [
    "housing_df['address'].value_counts()"
   ]
  },
  {
   "cell_type": "code",
   "execution_count": 9,
   "metadata": {},
   "outputs": [],
   "source": [
    "housing_df['zipcode'] = housing_df['address'].str.findall(r'([0-9]\\d+)').apply(\n",
    "    lambda x: x[-1] if len(x) >= 1 else '')\n",
    "housing_df['zipcode'] = housing_df['zipcode'].astype(int)"
   ]
  },
  {
   "cell_type": "code",
   "execution_count": 10,
   "metadata": {},
   "outputs": [],
   "source": [
    "housing_df = housing_df.drop(columns =['id', 'yr_renovated'], axis = 1 )"
   ]
  },
  {
   "cell_type": "code",
   "execution_count": 11,
   "metadata": {},
   "outputs": [
    {
     "data": {
      "text/html": [
       "<div>\n",
       "<style scoped>\n",
       "    .dataframe tbody tr th:only-of-type {\n",
       "        vertical-align: middle;\n",
       "    }\n",
       "\n",
       "    .dataframe tbody tr th {\n",
       "        vertical-align: top;\n",
       "    }\n",
       "\n",
       "    .dataframe thead th {\n",
       "        text-align: right;\n",
       "    }\n",
       "</style>\n",
       "<table border=\"1\" class=\"dataframe\">\n",
       "  <thead>\n",
       "    <tr style=\"text-align: right;\">\n",
       "      <th></th>\n",
       "      <th>date</th>\n",
       "      <th>price</th>\n",
       "      <th>bedrooms</th>\n",
       "      <th>bathrooms</th>\n",
       "      <th>sqft_living</th>\n",
       "      <th>sqft_lot</th>\n",
       "      <th>floors</th>\n",
       "      <th>waterfront</th>\n",
       "      <th>greenbelt</th>\n",
       "      <th>nuisance</th>\n",
       "      <th>...</th>\n",
       "      <th>sewer_system</th>\n",
       "      <th>sqft_above</th>\n",
       "      <th>sqft_basement</th>\n",
       "      <th>sqft_garage</th>\n",
       "      <th>sqft_patio</th>\n",
       "      <th>yr_built</th>\n",
       "      <th>address</th>\n",
       "      <th>lat</th>\n",
       "      <th>long</th>\n",
       "      <th>zipcode</th>\n",
       "    </tr>\n",
       "  </thead>\n",
       "  <tbody>\n",
       "    <tr>\n",
       "      <th>0</th>\n",
       "      <td>5/24/2022</td>\n",
       "      <td>675000.0</td>\n",
       "      <td>4</td>\n",
       "      <td>1.0</td>\n",
       "      <td>1180</td>\n",
       "      <td>7140</td>\n",
       "      <td>1.0</td>\n",
       "      <td>NO</td>\n",
       "      <td>NO</td>\n",
       "      <td>NO</td>\n",
       "      <td>...</td>\n",
       "      <td>PUBLIC</td>\n",
       "      <td>1180</td>\n",
       "      <td>0</td>\n",
       "      <td>0</td>\n",
       "      <td>40</td>\n",
       "      <td>1969</td>\n",
       "      <td>2102 Southeast 21st Court, Renton, Washington ...</td>\n",
       "      <td>47.461975</td>\n",
       "      <td>-122.19052</td>\n",
       "      <td>98055</td>\n",
       "    </tr>\n",
       "    <tr>\n",
       "      <th>1</th>\n",
       "      <td>12/13/2021</td>\n",
       "      <td>920000.0</td>\n",
       "      <td>5</td>\n",
       "      <td>2.5</td>\n",
       "      <td>2770</td>\n",
       "      <td>6703</td>\n",
       "      <td>1.0</td>\n",
       "      <td>NO</td>\n",
       "      <td>NO</td>\n",
       "      <td>YES</td>\n",
       "      <td>...</td>\n",
       "      <td>PUBLIC</td>\n",
       "      <td>1570</td>\n",
       "      <td>1570</td>\n",
       "      <td>0</td>\n",
       "      <td>240</td>\n",
       "      <td>1950</td>\n",
       "      <td>11231 Greenwood Avenue North, Seattle, Washing...</td>\n",
       "      <td>47.711525</td>\n",
       "      <td>-122.35591</td>\n",
       "      <td>98133</td>\n",
       "    </tr>\n",
       "    <tr>\n",
       "      <th>2</th>\n",
       "      <td>9/29/2021</td>\n",
       "      <td>311000.0</td>\n",
       "      <td>6</td>\n",
       "      <td>2.0</td>\n",
       "      <td>2880</td>\n",
       "      <td>6156</td>\n",
       "      <td>1.0</td>\n",
       "      <td>NO</td>\n",
       "      <td>NO</td>\n",
       "      <td>NO</td>\n",
       "      <td>...</td>\n",
       "      <td>PUBLIC</td>\n",
       "      <td>1580</td>\n",
       "      <td>1580</td>\n",
       "      <td>0</td>\n",
       "      <td>0</td>\n",
       "      <td>1956</td>\n",
       "      <td>8504 South 113th Street, Seattle, Washington 9...</td>\n",
       "      <td>47.502045</td>\n",
       "      <td>-122.22520</td>\n",
       "      <td>98178</td>\n",
       "    </tr>\n",
       "    <tr>\n",
       "      <th>3</th>\n",
       "      <td>12/14/2021</td>\n",
       "      <td>775000.0</td>\n",
       "      <td>3</td>\n",
       "      <td>3.0</td>\n",
       "      <td>2160</td>\n",
       "      <td>1400</td>\n",
       "      <td>2.0</td>\n",
       "      <td>NO</td>\n",
       "      <td>NO</td>\n",
       "      <td>NO</td>\n",
       "      <td>...</td>\n",
       "      <td>PUBLIC</td>\n",
       "      <td>1090</td>\n",
       "      <td>1070</td>\n",
       "      <td>200</td>\n",
       "      <td>270</td>\n",
       "      <td>2010</td>\n",
       "      <td>4079 Letitia Avenue South, Seattle, Washington...</td>\n",
       "      <td>47.566110</td>\n",
       "      <td>-122.29020</td>\n",
       "      <td>98118</td>\n",
       "    </tr>\n",
       "    <tr>\n",
       "      <th>4</th>\n",
       "      <td>8/24/2021</td>\n",
       "      <td>592500.0</td>\n",
       "      <td>2</td>\n",
       "      <td>2.0</td>\n",
       "      <td>1120</td>\n",
       "      <td>758</td>\n",
       "      <td>2.0</td>\n",
       "      <td>NO</td>\n",
       "      <td>NO</td>\n",
       "      <td>YES</td>\n",
       "      <td>...</td>\n",
       "      <td>PUBLIC</td>\n",
       "      <td>1120</td>\n",
       "      <td>550</td>\n",
       "      <td>550</td>\n",
       "      <td>30</td>\n",
       "      <td>2012</td>\n",
       "      <td>2193 Northwest Talus Drive, Issaquah, Washingt...</td>\n",
       "      <td>47.532470</td>\n",
       "      <td>-122.07188</td>\n",
       "      <td>98027</td>\n",
       "    </tr>\n",
       "    <tr>\n",
       "      <th>...</th>\n",
       "      <td>...</td>\n",
       "      <td>...</td>\n",
       "      <td>...</td>\n",
       "      <td>...</td>\n",
       "      <td>...</td>\n",
       "      <td>...</td>\n",
       "      <td>...</td>\n",
       "      <td>...</td>\n",
       "      <td>...</td>\n",
       "      <td>...</td>\n",
       "      <td>...</td>\n",
       "      <td>...</td>\n",
       "      <td>...</td>\n",
       "      <td>...</td>\n",
       "      <td>...</td>\n",
       "      <td>...</td>\n",
       "      <td>...</td>\n",
       "      <td>...</td>\n",
       "      <td>...</td>\n",
       "      <td>...</td>\n",
       "      <td>...</td>\n",
       "    </tr>\n",
       "    <tr>\n",
       "      <th>30150</th>\n",
       "      <td>11/30/2021</td>\n",
       "      <td>1555000.0</td>\n",
       "      <td>5</td>\n",
       "      <td>2.0</td>\n",
       "      <td>1910</td>\n",
       "      <td>4000</td>\n",
       "      <td>1.5</td>\n",
       "      <td>NO</td>\n",
       "      <td>NO</td>\n",
       "      <td>NO</td>\n",
       "      <td>...</td>\n",
       "      <td>PUBLIC</td>\n",
       "      <td>1600</td>\n",
       "      <td>1130</td>\n",
       "      <td>0</td>\n",
       "      <td>210</td>\n",
       "      <td>1921</td>\n",
       "      <td>4673 Eastern Avenue North, Seattle, Washington...</td>\n",
       "      <td>47.664740</td>\n",
       "      <td>-122.32940</td>\n",
       "      <td>98103</td>\n",
       "    </tr>\n",
       "    <tr>\n",
       "      <th>30151</th>\n",
       "      <td>6/16/2021</td>\n",
       "      <td>1313000.0</td>\n",
       "      <td>3</td>\n",
       "      <td>2.0</td>\n",
       "      <td>2020</td>\n",
       "      <td>5800</td>\n",
       "      <td>2.0</td>\n",
       "      <td>NO</td>\n",
       "      <td>NO</td>\n",
       "      <td>NO</td>\n",
       "      <td>...</td>\n",
       "      <td>PUBLIC</td>\n",
       "      <td>2020</td>\n",
       "      <td>0</td>\n",
       "      <td>0</td>\n",
       "      <td>520</td>\n",
       "      <td>2011</td>\n",
       "      <td>4131 44th Avenue Southwest, Seattle, Washingto...</td>\n",
       "      <td>47.565610</td>\n",
       "      <td>-122.38851</td>\n",
       "      <td>98116</td>\n",
       "    </tr>\n",
       "    <tr>\n",
       "      <th>30152</th>\n",
       "      <td>5/27/2022</td>\n",
       "      <td>800000.0</td>\n",
       "      <td>3</td>\n",
       "      <td>2.0</td>\n",
       "      <td>1620</td>\n",
       "      <td>3600</td>\n",
       "      <td>1.0</td>\n",
       "      <td>NO</td>\n",
       "      <td>NO</td>\n",
       "      <td>YES</td>\n",
       "      <td>...</td>\n",
       "      <td>PUBLIC</td>\n",
       "      <td>940</td>\n",
       "      <td>920</td>\n",
       "      <td>240</td>\n",
       "      <td>110</td>\n",
       "      <td>1995</td>\n",
       "      <td>910 Martin Luther King Jr Way, Seattle, Washin...</td>\n",
       "      <td>47.610395</td>\n",
       "      <td>-122.29585</td>\n",
       "      <td>98122</td>\n",
       "    </tr>\n",
       "    <tr>\n",
       "      <th>30153</th>\n",
       "      <td>2/24/2022</td>\n",
       "      <td>775000.0</td>\n",
       "      <td>3</td>\n",
       "      <td>2.5</td>\n",
       "      <td>2570</td>\n",
       "      <td>2889</td>\n",
       "      <td>2.0</td>\n",
       "      <td>NO</td>\n",
       "      <td>NO</td>\n",
       "      <td>NO</td>\n",
       "      <td>...</td>\n",
       "      <td>PUBLIC</td>\n",
       "      <td>1830</td>\n",
       "      <td>740</td>\n",
       "      <td>480</td>\n",
       "      <td>100</td>\n",
       "      <td>2006</td>\n",
       "      <td>17127 114th Avenue Southeast, Renton, Washingt...</td>\n",
       "      <td>47.449490</td>\n",
       "      <td>-122.18908</td>\n",
       "      <td>98055</td>\n",
       "    </tr>\n",
       "    <tr>\n",
       "      <th>30154</th>\n",
       "      <td>4/29/2022</td>\n",
       "      <td>500000.0</td>\n",
       "      <td>3</td>\n",
       "      <td>1.5</td>\n",
       "      <td>1200</td>\n",
       "      <td>11058</td>\n",
       "      <td>1.0</td>\n",
       "      <td>NO</td>\n",
       "      <td>NO</td>\n",
       "      <td>NO</td>\n",
       "      <td>...</td>\n",
       "      <td>PUBLIC</td>\n",
       "      <td>1200</td>\n",
       "      <td>0</td>\n",
       "      <td>420</td>\n",
       "      <td>0</td>\n",
       "      <td>1965</td>\n",
       "      <td>18615 7th Avenue South, Burien, Washington 981...</td>\n",
       "      <td>47.435840</td>\n",
       "      <td>-122.32634</td>\n",
       "      <td>98148</td>\n",
       "    </tr>\n",
       "  </tbody>\n",
       "</table>\n",
       "<p>30111 rows × 24 columns</p>\n",
       "</div>"
      ],
      "text/plain": [
       "             date      price  bedrooms  bathrooms  sqft_living  sqft_lot  \\\n",
       "0       5/24/2022   675000.0         4        1.0         1180      7140   \n",
       "1      12/13/2021   920000.0         5        2.5         2770      6703   \n",
       "2       9/29/2021   311000.0         6        2.0         2880      6156   \n",
       "3      12/14/2021   775000.0         3        3.0         2160      1400   \n",
       "4       8/24/2021   592500.0         2        2.0         1120       758   \n",
       "...           ...        ...       ...        ...          ...       ...   \n",
       "30150  11/30/2021  1555000.0         5        2.0         1910      4000   \n",
       "30151   6/16/2021  1313000.0         3        2.0         2020      5800   \n",
       "30152   5/27/2022   800000.0         3        2.0         1620      3600   \n",
       "30153   2/24/2022   775000.0         3        2.5         2570      2889   \n",
       "30154   4/29/2022   500000.0         3        1.5         1200     11058   \n",
       "\n",
       "       floors waterfront greenbelt nuisance  ... sewer_system sqft_above  \\\n",
       "0         1.0         NO        NO       NO  ...       PUBLIC       1180   \n",
       "1         1.0         NO        NO      YES  ...       PUBLIC       1570   \n",
       "2         1.0         NO        NO       NO  ...       PUBLIC       1580   \n",
       "3         2.0         NO        NO       NO  ...       PUBLIC       1090   \n",
       "4         2.0         NO        NO      YES  ...       PUBLIC       1120   \n",
       "...       ...        ...       ...      ...  ...          ...        ...   \n",
       "30150     1.5         NO        NO       NO  ...       PUBLIC       1600   \n",
       "30151     2.0         NO        NO       NO  ...       PUBLIC       2020   \n",
       "30152     1.0         NO        NO      YES  ...       PUBLIC        940   \n",
       "30153     2.0         NO        NO       NO  ...       PUBLIC       1830   \n",
       "30154     1.0         NO        NO       NO  ...       PUBLIC       1200   \n",
       "\n",
       "      sqft_basement sqft_garage sqft_patio  yr_built  \\\n",
       "0                 0           0         40      1969   \n",
       "1              1570           0        240      1950   \n",
       "2              1580           0          0      1956   \n",
       "3              1070         200        270      2010   \n",
       "4               550         550         30      2012   \n",
       "...             ...         ...        ...       ...   \n",
       "30150          1130           0        210      1921   \n",
       "30151             0           0        520      2011   \n",
       "30152           920         240        110      1995   \n",
       "30153           740         480        100      2006   \n",
       "30154             0         420          0      1965   \n",
       "\n",
       "                                                 address        lat  \\\n",
       "0      2102 Southeast 21st Court, Renton, Washington ...  47.461975   \n",
       "1      11231 Greenwood Avenue North, Seattle, Washing...  47.711525   \n",
       "2      8504 South 113th Street, Seattle, Washington 9...  47.502045   \n",
       "3      4079 Letitia Avenue South, Seattle, Washington...  47.566110   \n",
       "4      2193 Northwest Talus Drive, Issaquah, Washingt...  47.532470   \n",
       "...                                                  ...        ...   \n",
       "30150  4673 Eastern Avenue North, Seattle, Washington...  47.664740   \n",
       "30151  4131 44th Avenue Southwest, Seattle, Washingto...  47.565610   \n",
       "30152  910 Martin Luther King Jr Way, Seattle, Washin...  47.610395   \n",
       "30153  17127 114th Avenue Southeast, Renton, Washingt...  47.449490   \n",
       "30154  18615 7th Avenue South, Burien, Washington 981...  47.435840   \n",
       "\n",
       "            long  zipcode  \n",
       "0     -122.19052    98055  \n",
       "1     -122.35591    98133  \n",
       "2     -122.22520    98178  \n",
       "3     -122.29020    98118  \n",
       "4     -122.07188    98027  \n",
       "...          ...      ...  \n",
       "30150 -122.32940    98103  \n",
       "30151 -122.38851    98116  \n",
       "30152 -122.29585    98122  \n",
       "30153 -122.18908    98055  \n",
       "30154 -122.32634    98148  \n",
       "\n",
       "[30111 rows x 24 columns]"
      ]
     },
     "execution_count": 11,
     "metadata": {},
     "output_type": "execute_result"
    }
   ],
   "source": [
    "housing_df"
   ]
  },
  {
   "cell_type": "markdown",
   "metadata": {},
   "source": [
    "# Creating a new column based on condition values"
   ]
  },
  {
   "cell_type": "code",
   "execution_count": 12,
   "metadata": {},
   "outputs": [
    {
     "data": {
      "text/plain": [
       "Average      18515\n",
       "Good          8052\n",
       "Very Good     3258\n",
       "Fair           225\n",
       "Poor            61\n",
       "Name: condition, dtype: int64"
      ]
     },
     "execution_count": 12,
     "metadata": {},
     "output_type": "execute_result"
    }
   ],
   "source": [
    "housing_df['condition'].value_counts()"
   ]
  },
  {
   "cell_type": "code",
   "execution_count": 13,
   "metadata": {},
   "outputs": [],
   "source": [
    "housing_df[\"condition\"] = housing_df[\"condition\"].astype('category')\n",
    "housing_df[\"condition\"] = housing_df[\"condition\"].cat.reorder_categories(\n",
    "    [\"Poor\",\"Fair\",\"Average\",\"Good\",\"Very Good\"])"
   ]
  },
  {
   "cell_type": "code",
   "execution_count": 14,
   "metadata": {},
   "outputs": [
    {
     "data": {
      "text/plain": [
       "2    18515\n",
       "3     8052\n",
       "4     3258\n",
       "1      225\n",
       "0       61\n",
       "Name: condition_code, dtype: int64"
      ]
     },
     "execution_count": 14,
     "metadata": {},
     "output_type": "execute_result"
    }
   ],
   "source": [
    "housing_df[\"condition_code\"] = housing_df[\"condition\"].cat.codes\n",
    "housing_df[\"condition_code\"].value_counts()"
   ]
  },
  {
   "cell_type": "markdown",
   "metadata": {},
   "source": [
    "# Splitting string and numerical value form the grades column. Creating a new column with grades numerical value"
   ]
  },
  {
   "cell_type": "code",
   "execution_count": 15,
   "metadata": {},
   "outputs": [
    {
     "data": {
      "text/plain": [
       "array(['7 Average', '9 Better', '8 Good', '6 Low Average', '10 Very Good',\n",
       "       '5 Fair', '11 Excellent', '12 Luxury', '4 Low', '13 Mansion',\n",
       "       '3 Poor', '2 Substandard'], dtype=object)"
      ]
     },
     "execution_count": 15,
     "metadata": {},
     "output_type": "execute_result"
    }
   ],
   "source": [
    "housing_df[\"grade\"].unique()"
   ]
  },
  {
   "cell_type": "code",
   "execution_count": 16,
   "metadata": {},
   "outputs": [],
   "source": [
    "import string\n",
    "housing_df[\"grade_str\"] = housing_df[\"grade\"].str.strip(string.digits)\n",
    "housing_df[\"grade_str\"] = housing_df[\"grade_str\"].str.strip()"
   ]
  },
  {
   "cell_type": "code",
   "execution_count": 17,
   "metadata": {},
   "outputs": [
    {
     "data": {
      "text/plain": [
       "5     11693\n",
       "6      9400\n",
       "7      3804\n",
       "4      2852\n",
       "8      1369\n",
       "9       406\n",
       "3       385\n",
       "10      122\n",
       "2        46\n",
       "11       24\n",
       "1         9\n",
       "0         1\n",
       "Name: grade_code, dtype: int64"
      ]
     },
     "execution_count": 17,
     "metadata": {},
     "output_type": "execute_result"
    }
   ],
   "source": [
    "housing_df[\"grade_code\"] = housing_df[\"grade_str\"].astype('category')\n",
    "categories = ['Substandard','Poor','Low','Fair','Low Average','Average','Good','Better',\n",
    "             'Very Good','Excellent','Luxury','Mansion']\n",
    "housing_df[\"grade_code\"] = housing_df[\"grade_code\"].cat.reorder_categories(categories)\n",
    "housing_df[\"grade_code\"] = housing_df[\"grade_code\"].cat.codes\n",
    "housing_df[\"grade_code\"].value_counts()"
   ]
  },
  {
   "cell_type": "markdown",
   "metadata": {},
   "source": [
    "# Repeating steps above w/ view column"
   ]
  },
  {
   "cell_type": "code",
   "execution_count": 18,
   "metadata": {},
   "outputs": [
    {
     "data": {
      "text/plain": [
       "0    26555\n",
       "2     1910\n",
       "3      877\n",
       "4      549\n",
       "1      220\n",
       "Name: view_code, dtype: int64"
      ]
     },
     "execution_count": 18,
     "metadata": {},
     "output_type": "execute_result"
    }
   ],
   "source": [
    "housing_df[\"view_code\"] = housing_df[\"view\"].astype('category')\n",
    "categories2 = [\"NONE\",\"FAIR\",\"AVERAGE\",\"GOOD\",\"EXCELLENT\"]\n",
    "housing_df[\"view_code\"] = housing_df[\"view_code\"].cat.reorder_categories(categories2)\n",
    "housing_df[\"view_code\"] = housing_df[\"view_code\"].cat.codes\n",
    "housing_df[\"view_code\"].value_counts()"
   ]
  },
  {
   "cell_type": "markdown",
   "metadata": {},
   "source": [
    "## Removing zip codes not in Kings County"
   ]
  },
  {
   "cell_type": "code",
   "execution_count": 19,
   "metadata": {},
   "outputs": [],
   "source": [
    "zip_dict = dict({\n",
    "98002 : \"Auburn\",\n",
    "98092: \"Auburn\",\n",
    "98224: \"Baring\",\n",
    "98004: \"Bellevue\",\n",
    "98005: \"Bellevue\",\n",
    "98006: \"Bellevue\",\n",
    "98007: \"Bellevue\",\n",
    "98008: \"Bellevue\",\n",
    "98010: \"Black Diamond\",\n",
    "98011: \"Bothell\",\n",
    "98178: \"Bryn Mawr-Skyway\",\n",
    "98148: \"Burien\",\n",
    "98166: \"Burien\",\n",
    "98014: \"Carnation\",\n",
    "98077: \"Cottage Lake\",\n",
    "98042: \"Covington\",\n",
    "98198: \"Des Moines\",\n",
    "98019: \"Duvall\",\n",
    "98031: \"East Hill-Meridian\",\n",
    "98022: \"Enumclaw\",\n",
    "98058: \"Fairwood\",\n",
    "98024: \"Fall City\",\n",
    "98003: \"Federal Way\",\n",
    "98023: \"Federal Way\",\n",
    "98027: \"Issaquah\",\n",
    "98029: \"Issaquah\",\n",
    "98028: \"Kenmore\",\n",
    "98032: \"Kent\",\n",
    "98030: \"Kent\",\n",
    "98033: \"Kirkland\",\n",
    "98034: \"Kirkland\",\n",
    "98001: \"Lakeland North\",\n",
    "98038: \"Maple Valley\",\n",
    "98039: \"Medina\",\n",
    "98040: \"Mercer Island\",\n",
    "98045: \"North Bend\",\n",
    "98047: \"Pacific\",\n",
    "98050: \"Preston\",\n",
    "98051: \"Ravensdale\",\n",
    "98052: \"Redmond\",\n",
    "98055: \"Renton\",\n",
    "98056: \"Renton\",\n",
    "98057: \"Renton\",\n",
    "98059: \"Renton\",\n",
    "98074: \"Sammamish\",\n",
    "98075: \"Sammamish\",\n",
    "98188: \"SeaTac\",\n",
    "98199: \"Seattle\",\n",
    "98174: \"Seattle\",\n",
    "98154: \"Seattle\",\n",
    "98158: \"Seattle\",\n",
    "98164: \"Seattle\",\n",
    "98101: \"Seattle\",\n",
    "98102: \"Seattle\",\n",
    "98103: \"Seattle\",\n",
    "98104: \"Seattle\",\n",
    "98105: \"Seattle\",\n",
    "98106: \"Seattle\",\n",
    "98107: \"Seattle\",\n",
    "98108: \"Seattle\",\n",
    "98109: \"Seattle\",\n",
    "98112: \"Seattle\",\n",
    "98115: \"Seattle\",\n",
    "98116: \"Seattle\",\n",
    "98117: \"Seattle\",\n",
    "98118: \"Seattle\",\n",
    "98119: \"Seattle\",\n",
    "98121: \"Seattle\",\n",
    "98122: \"Seattle\",\n",
    "98125: \"Seattle\",\n",
    "98126: \"Seattle\",\n",
    "98133: \"Seattle\",\n",
    "98134: \"Seattle\",\n",
    "98136: \"Seattle\",\n",
    "98144: \"Seattle\",\n",
    "98155: \"Shoreline\",\n",
    "98177: \"Shoreline\",\n",
    "98288: \"Skykomish\",\n",
    "98065: \"Snoqualmie\",\n",
    "98168: \"Tukwila\",\n",
    "98053: \"Union Hill-Novelty Hill\",\n",
    "98195: \"Univ Of Washington\",\n",
    "98070: \"Vashon\",\n",
    "98146: \"White Center\",\n",
    "98072: \"Woodinville\"})"
   ]
  },
  {
   "cell_type": "code",
   "execution_count": 20,
   "metadata": {},
   "outputs": [],
   "source": [
    "zip_list = list(zip_dict.keys())"
   ]
  },
  {
   "cell_type": "code",
   "execution_count": 21,
   "metadata": {},
   "outputs": [
    {
     "data": {
      "text/html": [
       "<div>\n",
       "<style scoped>\n",
       "    .dataframe tbody tr th:only-of-type {\n",
       "        vertical-align: middle;\n",
       "    }\n",
       "\n",
       "    .dataframe tbody tr th {\n",
       "        vertical-align: top;\n",
       "    }\n",
       "\n",
       "    .dataframe thead th {\n",
       "        text-align: right;\n",
       "    }\n",
       "</style>\n",
       "<table border=\"1\" class=\"dataframe\">\n",
       "  <thead>\n",
       "    <tr style=\"text-align: right;\">\n",
       "      <th></th>\n",
       "      <th>date</th>\n",
       "      <th>price</th>\n",
       "      <th>bedrooms</th>\n",
       "      <th>bathrooms</th>\n",
       "      <th>sqft_living</th>\n",
       "      <th>sqft_lot</th>\n",
       "      <th>floors</th>\n",
       "      <th>waterfront</th>\n",
       "      <th>greenbelt</th>\n",
       "      <th>nuisance</th>\n",
       "      <th>...</th>\n",
       "      <th>sqft_patio</th>\n",
       "      <th>yr_built</th>\n",
       "      <th>address</th>\n",
       "      <th>lat</th>\n",
       "      <th>long</th>\n",
       "      <th>zipcode</th>\n",
       "      <th>condition_code</th>\n",
       "      <th>grade_str</th>\n",
       "      <th>grade_code</th>\n",
       "      <th>view_code</th>\n",
       "    </tr>\n",
       "  </thead>\n",
       "  <tbody>\n",
       "    <tr>\n",
       "      <th>0</th>\n",
       "      <td>5/24/2022</td>\n",
       "      <td>675000.0</td>\n",
       "      <td>4</td>\n",
       "      <td>1.0</td>\n",
       "      <td>1180</td>\n",
       "      <td>7140</td>\n",
       "      <td>1.0</td>\n",
       "      <td>NO</td>\n",
       "      <td>NO</td>\n",
       "      <td>NO</td>\n",
       "      <td>...</td>\n",
       "      <td>40</td>\n",
       "      <td>1969</td>\n",
       "      <td>2102 Southeast 21st Court, Renton, Washington ...</td>\n",
       "      <td>47.461975</td>\n",
       "      <td>-122.19052</td>\n",
       "      <td>98055</td>\n",
       "      <td>3</td>\n",
       "      <td>Average</td>\n",
       "      <td>5</td>\n",
       "      <td>0</td>\n",
       "    </tr>\n",
       "    <tr>\n",
       "      <th>1</th>\n",
       "      <td>12/13/2021</td>\n",
       "      <td>920000.0</td>\n",
       "      <td>5</td>\n",
       "      <td>2.5</td>\n",
       "      <td>2770</td>\n",
       "      <td>6703</td>\n",
       "      <td>1.0</td>\n",
       "      <td>NO</td>\n",
       "      <td>NO</td>\n",
       "      <td>YES</td>\n",
       "      <td>...</td>\n",
       "      <td>240</td>\n",
       "      <td>1950</td>\n",
       "      <td>11231 Greenwood Avenue North, Seattle, Washing...</td>\n",
       "      <td>47.711525</td>\n",
       "      <td>-122.35591</td>\n",
       "      <td>98133</td>\n",
       "      <td>2</td>\n",
       "      <td>Average</td>\n",
       "      <td>5</td>\n",
       "      <td>2</td>\n",
       "    </tr>\n",
       "    <tr>\n",
       "      <th>2</th>\n",
       "      <td>9/29/2021</td>\n",
       "      <td>311000.0</td>\n",
       "      <td>6</td>\n",
       "      <td>2.0</td>\n",
       "      <td>2880</td>\n",
       "      <td>6156</td>\n",
       "      <td>1.0</td>\n",
       "      <td>NO</td>\n",
       "      <td>NO</td>\n",
       "      <td>NO</td>\n",
       "      <td>...</td>\n",
       "      <td>0</td>\n",
       "      <td>1956</td>\n",
       "      <td>8504 South 113th Street, Seattle, Washington 9...</td>\n",
       "      <td>47.502045</td>\n",
       "      <td>-122.22520</td>\n",
       "      <td>98178</td>\n",
       "      <td>2</td>\n",
       "      <td>Average</td>\n",
       "      <td>5</td>\n",
       "      <td>2</td>\n",
       "    </tr>\n",
       "    <tr>\n",
       "      <th>3</th>\n",
       "      <td>12/14/2021</td>\n",
       "      <td>775000.0</td>\n",
       "      <td>3</td>\n",
       "      <td>3.0</td>\n",
       "      <td>2160</td>\n",
       "      <td>1400</td>\n",
       "      <td>2.0</td>\n",
       "      <td>NO</td>\n",
       "      <td>NO</td>\n",
       "      <td>NO</td>\n",
       "      <td>...</td>\n",
       "      <td>270</td>\n",
       "      <td>2010</td>\n",
       "      <td>4079 Letitia Avenue South, Seattle, Washington...</td>\n",
       "      <td>47.566110</td>\n",
       "      <td>-122.29020</td>\n",
       "      <td>98118</td>\n",
       "      <td>2</td>\n",
       "      <td>Better</td>\n",
       "      <td>7</td>\n",
       "      <td>2</td>\n",
       "    </tr>\n",
       "    <tr>\n",
       "      <th>4</th>\n",
       "      <td>8/24/2021</td>\n",
       "      <td>592500.0</td>\n",
       "      <td>2</td>\n",
       "      <td>2.0</td>\n",
       "      <td>1120</td>\n",
       "      <td>758</td>\n",
       "      <td>2.0</td>\n",
       "      <td>NO</td>\n",
       "      <td>NO</td>\n",
       "      <td>YES</td>\n",
       "      <td>...</td>\n",
       "      <td>30</td>\n",
       "      <td>2012</td>\n",
       "      <td>2193 Northwest Talus Drive, Issaquah, Washingt...</td>\n",
       "      <td>47.532470</td>\n",
       "      <td>-122.07188</td>\n",
       "      <td>98027</td>\n",
       "      <td>2</td>\n",
       "      <td>Average</td>\n",
       "      <td>5</td>\n",
       "      <td>0</td>\n",
       "    </tr>\n",
       "    <tr>\n",
       "      <th>...</th>\n",
       "      <td>...</td>\n",
       "      <td>...</td>\n",
       "      <td>...</td>\n",
       "      <td>...</td>\n",
       "      <td>...</td>\n",
       "      <td>...</td>\n",
       "      <td>...</td>\n",
       "      <td>...</td>\n",
       "      <td>...</td>\n",
       "      <td>...</td>\n",
       "      <td>...</td>\n",
       "      <td>...</td>\n",
       "      <td>...</td>\n",
       "      <td>...</td>\n",
       "      <td>...</td>\n",
       "      <td>...</td>\n",
       "      <td>...</td>\n",
       "      <td>...</td>\n",
       "      <td>...</td>\n",
       "      <td>...</td>\n",
       "      <td>...</td>\n",
       "    </tr>\n",
       "    <tr>\n",
       "      <th>30150</th>\n",
       "      <td>11/30/2021</td>\n",
       "      <td>1555000.0</td>\n",
       "      <td>5</td>\n",
       "      <td>2.0</td>\n",
       "      <td>1910</td>\n",
       "      <td>4000</td>\n",
       "      <td>1.5</td>\n",
       "      <td>NO</td>\n",
       "      <td>NO</td>\n",
       "      <td>NO</td>\n",
       "      <td>...</td>\n",
       "      <td>210</td>\n",
       "      <td>1921</td>\n",
       "      <td>4673 Eastern Avenue North, Seattle, Washington...</td>\n",
       "      <td>47.664740</td>\n",
       "      <td>-122.32940</td>\n",
       "      <td>98103</td>\n",
       "      <td>3</td>\n",
       "      <td>Good</td>\n",
       "      <td>6</td>\n",
       "      <td>0</td>\n",
       "    </tr>\n",
       "    <tr>\n",
       "      <th>30151</th>\n",
       "      <td>6/16/2021</td>\n",
       "      <td>1313000.0</td>\n",
       "      <td>3</td>\n",
       "      <td>2.0</td>\n",
       "      <td>2020</td>\n",
       "      <td>5800</td>\n",
       "      <td>2.0</td>\n",
       "      <td>NO</td>\n",
       "      <td>NO</td>\n",
       "      <td>NO</td>\n",
       "      <td>...</td>\n",
       "      <td>520</td>\n",
       "      <td>2011</td>\n",
       "      <td>4131 44th Avenue Southwest, Seattle, Washingto...</td>\n",
       "      <td>47.565610</td>\n",
       "      <td>-122.38851</td>\n",
       "      <td>98116</td>\n",
       "      <td>2</td>\n",
       "      <td>Average</td>\n",
       "      <td>5</td>\n",
       "      <td>1</td>\n",
       "    </tr>\n",
       "    <tr>\n",
       "      <th>30152</th>\n",
       "      <td>5/27/2022</td>\n",
       "      <td>800000.0</td>\n",
       "      <td>3</td>\n",
       "      <td>2.0</td>\n",
       "      <td>1620</td>\n",
       "      <td>3600</td>\n",
       "      <td>1.0</td>\n",
       "      <td>NO</td>\n",
       "      <td>NO</td>\n",
       "      <td>YES</td>\n",
       "      <td>...</td>\n",
       "      <td>110</td>\n",
       "      <td>1995</td>\n",
       "      <td>910 Martin Luther King Jr Way, Seattle, Washin...</td>\n",
       "      <td>47.610395</td>\n",
       "      <td>-122.29585</td>\n",
       "      <td>98122</td>\n",
       "      <td>2</td>\n",
       "      <td>Average</td>\n",
       "      <td>5</td>\n",
       "      <td>0</td>\n",
       "    </tr>\n",
       "    <tr>\n",
       "      <th>30153</th>\n",
       "      <td>2/24/2022</td>\n",
       "      <td>775000.0</td>\n",
       "      <td>3</td>\n",
       "      <td>2.5</td>\n",
       "      <td>2570</td>\n",
       "      <td>2889</td>\n",
       "      <td>2.0</td>\n",
       "      <td>NO</td>\n",
       "      <td>NO</td>\n",
       "      <td>NO</td>\n",
       "      <td>...</td>\n",
       "      <td>100</td>\n",
       "      <td>2006</td>\n",
       "      <td>17127 114th Avenue Southeast, Renton, Washingt...</td>\n",
       "      <td>47.449490</td>\n",
       "      <td>-122.18908</td>\n",
       "      <td>98055</td>\n",
       "      <td>2</td>\n",
       "      <td>Good</td>\n",
       "      <td>6</td>\n",
       "      <td>0</td>\n",
       "    </tr>\n",
       "    <tr>\n",
       "      <th>30154</th>\n",
       "      <td>4/29/2022</td>\n",
       "      <td>500000.0</td>\n",
       "      <td>3</td>\n",
       "      <td>1.5</td>\n",
       "      <td>1200</td>\n",
       "      <td>11058</td>\n",
       "      <td>1.0</td>\n",
       "      <td>NO</td>\n",
       "      <td>NO</td>\n",
       "      <td>NO</td>\n",
       "      <td>...</td>\n",
       "      <td>0</td>\n",
       "      <td>1965</td>\n",
       "      <td>18615 7th Avenue South, Burien, Washington 981...</td>\n",
       "      <td>47.435840</td>\n",
       "      <td>-122.32634</td>\n",
       "      <td>98148</td>\n",
       "      <td>2</td>\n",
       "      <td>Average</td>\n",
       "      <td>5</td>\n",
       "      <td>0</td>\n",
       "    </tr>\n",
       "  </tbody>\n",
       "</table>\n",
       "<p>29149 rows × 28 columns</p>\n",
       "</div>"
      ],
      "text/plain": [
       "             date      price  bedrooms  bathrooms  sqft_living  sqft_lot  \\\n",
       "0       5/24/2022   675000.0         4        1.0         1180      7140   \n",
       "1      12/13/2021   920000.0         5        2.5         2770      6703   \n",
       "2       9/29/2021   311000.0         6        2.0         2880      6156   \n",
       "3      12/14/2021   775000.0         3        3.0         2160      1400   \n",
       "4       8/24/2021   592500.0         2        2.0         1120       758   \n",
       "...           ...        ...       ...        ...          ...       ...   \n",
       "30150  11/30/2021  1555000.0         5        2.0         1910      4000   \n",
       "30151   6/16/2021  1313000.0         3        2.0         2020      5800   \n",
       "30152   5/27/2022   800000.0         3        2.0         1620      3600   \n",
       "30153   2/24/2022   775000.0         3        2.5         2570      2889   \n",
       "30154   4/29/2022   500000.0         3        1.5         1200     11058   \n",
       "\n",
       "       floors waterfront greenbelt nuisance  ... sqft_patio yr_built  \\\n",
       "0         1.0         NO        NO       NO  ...         40     1969   \n",
       "1         1.0         NO        NO      YES  ...        240     1950   \n",
       "2         1.0         NO        NO       NO  ...          0     1956   \n",
       "3         2.0         NO        NO       NO  ...        270     2010   \n",
       "4         2.0         NO        NO      YES  ...         30     2012   \n",
       "...       ...        ...       ...      ...  ...        ...      ...   \n",
       "30150     1.5         NO        NO       NO  ...        210     1921   \n",
       "30151     2.0         NO        NO       NO  ...        520     2011   \n",
       "30152     1.0         NO        NO      YES  ...        110     1995   \n",
       "30153     2.0         NO        NO       NO  ...        100     2006   \n",
       "30154     1.0         NO        NO       NO  ...          0     1965   \n",
       "\n",
       "                                                 address        lat  \\\n",
       "0      2102 Southeast 21st Court, Renton, Washington ...  47.461975   \n",
       "1      11231 Greenwood Avenue North, Seattle, Washing...  47.711525   \n",
       "2      8504 South 113th Street, Seattle, Washington 9...  47.502045   \n",
       "3      4079 Letitia Avenue South, Seattle, Washington...  47.566110   \n",
       "4      2193 Northwest Talus Drive, Issaquah, Washingt...  47.532470   \n",
       "...                                                  ...        ...   \n",
       "30150  4673 Eastern Avenue North, Seattle, Washington...  47.664740   \n",
       "30151  4131 44th Avenue Southwest, Seattle, Washingto...  47.565610   \n",
       "30152  910 Martin Luther King Jr Way, Seattle, Washin...  47.610395   \n",
       "30153  17127 114th Avenue Southeast, Renton, Washingt...  47.449490   \n",
       "30154  18615 7th Avenue South, Burien, Washington 981...  47.435840   \n",
       "\n",
       "            long  zipcode  condition_code  grade_str  grade_code  view_code  \n",
       "0     -122.19052    98055               3    Average           5          0  \n",
       "1     -122.35591    98133               2    Average           5          2  \n",
       "2     -122.22520    98178               2    Average           5          2  \n",
       "3     -122.29020    98118               2     Better           7          2  \n",
       "4     -122.07188    98027               2    Average           5          0  \n",
       "...          ...      ...             ...        ...         ...        ...  \n",
       "30150 -122.32940    98103               3       Good           6          0  \n",
       "30151 -122.38851    98116               2    Average           5          1  \n",
       "30152 -122.29585    98122               2    Average           5          0  \n",
       "30153 -122.18908    98055               2       Good           6          0  \n",
       "30154 -122.32634    98148               2    Average           5          0  \n",
       "\n",
       "[29149 rows x 28 columns]"
      ]
     },
     "execution_count": 21,
     "metadata": {},
     "output_type": "execute_result"
    }
   ],
   "source": [
    "housing_df2 = housing_df[housing_df[\"zipcode\"].isin(zip_list)]\n",
    "housing_df2"
   ]
  },
  {
   "cell_type": "code",
   "execution_count": 22,
   "metadata": {},
   "outputs": [],
   "source": [
    "housing_df2 = housing_df2.drop(columns = [\"condition\",\"grade\",\"grade_str\",\"view\", \"sqft_basement\"], axis=1)"
   ]
  },
  {
   "cell_type": "code",
   "execution_count": 23,
   "metadata": {},
   "outputs": [
    {
     "data": {
      "image/png": "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\n",
      "text/plain": [
       "<Figure size 1152x432 with 2 Axes>"
      ]
     },
     "metadata": {
      "needs_background": "light"
     },
     "output_type": "display_data"
    }
   ],
   "source": [
    "plt.figure(figsize=(16, 6))\n",
    "mask = np.triu(np.ones_like(housing_df2.corr(), dtype=np.bool))\n",
    "heatmap = sns.heatmap(housing_df2.corr(), mask=mask, vmin=-1, vmax=1, annot=True)"
   ]
  },
  {
   "cell_type": "code",
   "execution_count": 24,
   "metadata": {},
   "outputs": [
    {
     "data": {
      "text/html": [
       "<div>\n",
       "<style scoped>\n",
       "    .dataframe tbody tr th:only-of-type {\n",
       "        vertical-align: middle;\n",
       "    }\n",
       "\n",
       "    .dataframe tbody tr th {\n",
       "        vertical-align: top;\n",
       "    }\n",
       "\n",
       "    .dataframe thead th {\n",
       "        text-align: right;\n",
       "    }\n",
       "</style>\n",
       "<table border=\"1\" class=\"dataframe\">\n",
       "  <thead>\n",
       "    <tr style=\"text-align: right;\">\n",
       "      <th></th>\n",
       "      <th>price</th>\n",
       "      <th>bedrooms</th>\n",
       "      <th>bathrooms</th>\n",
       "      <th>sqft_living</th>\n",
       "      <th>sqft_lot</th>\n",
       "      <th>floors</th>\n",
       "      <th>sqft_above</th>\n",
       "      <th>sqft_garage</th>\n",
       "      <th>sqft_patio</th>\n",
       "      <th>yr_built</th>\n",
       "      <th>lat</th>\n",
       "      <th>long</th>\n",
       "      <th>zipcode</th>\n",
       "      <th>condition_code</th>\n",
       "      <th>grade_code</th>\n",
       "      <th>view_code</th>\n",
       "    </tr>\n",
       "  </thead>\n",
       "  <tbody>\n",
       "    <tr>\n",
       "      <th>count</th>\n",
       "      <td>2.914900e+04</td>\n",
       "      <td>29149.000000</td>\n",
       "      <td>29149.000000</td>\n",
       "      <td>29149.000000</td>\n",
       "      <td>2.914900e+04</td>\n",
       "      <td>29149.000000</td>\n",
       "      <td>29149.000000</td>\n",
       "      <td>29149.000000</td>\n",
       "      <td>29149.000000</td>\n",
       "      <td>29149.000000</td>\n",
       "      <td>29149.000000</td>\n",
       "      <td>29149.000000</td>\n",
       "      <td>29149.000000</td>\n",
       "      <td>29149.000000</td>\n",
       "      <td>29149.000000</td>\n",
       "      <td>29149.00000</td>\n",
       "    </tr>\n",
       "    <tr>\n",
       "      <th>mean</th>\n",
       "      <td>1.113429e+06</td>\n",
       "      <td>3.436928</td>\n",
       "      <td>2.332807</td>\n",
       "      <td>2131.761536</td>\n",
       "      <td>1.712923e+04</td>\n",
       "      <td>1.516639</td>\n",
       "      <td>1826.453292</td>\n",
       "      <td>336.493533</td>\n",
       "      <td>216.385468</td>\n",
       "      <td>1973.829394</td>\n",
       "      <td>47.543327</td>\n",
       "      <td>-122.214455</td>\n",
       "      <td>98077.230265</td>\n",
       "      <td>2.487324</td>\n",
       "      <td>5.639302</td>\n",
       "      <td>0.30152</td>\n",
       "    </tr>\n",
       "    <tr>\n",
       "      <th>std</th>\n",
       "      <td>8.958603e+05</td>\n",
       "      <td>0.976836</td>\n",
       "      <td>0.894821</td>\n",
       "      <td>976.885624</td>\n",
       "      <td>6.085121e+04</td>\n",
       "      <td>0.548334</td>\n",
       "      <td>880.328665</td>\n",
       "      <td>286.238563</td>\n",
       "      <td>246.801963</td>\n",
       "      <td>31.667405</td>\n",
       "      <td>0.145961</td>\n",
       "      <td>0.142918</td>\n",
       "      <td>54.107337</td>\n",
       "      <td>0.707848</td>\n",
       "      <td>1.152643</td>\n",
       "      <td>0.86269</td>\n",
       "    </tr>\n",
       "    <tr>\n",
       "      <th>min</th>\n",
       "      <td>2.736000e+04</td>\n",
       "      <td>0.000000</td>\n",
       "      <td>0.000000</td>\n",
       "      <td>3.000000</td>\n",
       "      <td>4.020000e+02</td>\n",
       "      <td>1.000000</td>\n",
       "      <td>2.000000</td>\n",
       "      <td>0.000000</td>\n",
       "      <td>0.000000</td>\n",
       "      <td>1900.000000</td>\n",
       "      <td>47.159700</td>\n",
       "      <td>-122.526650</td>\n",
       "      <td>98001.000000</td>\n",
       "      <td>0.000000</td>\n",
       "      <td>0.000000</td>\n",
       "      <td>0.00000</td>\n",
       "    </tr>\n",
       "    <tr>\n",
       "      <th>25%</th>\n",
       "      <td>6.450000e+05</td>\n",
       "      <td>3.000000</td>\n",
       "      <td>2.000000</td>\n",
       "      <td>1440.000000</td>\n",
       "      <td>5.000000e+03</td>\n",
       "      <td>1.000000</td>\n",
       "      <td>1190.000000</td>\n",
       "      <td>0.000000</td>\n",
       "      <td>40.000000</td>\n",
       "      <td>1952.000000</td>\n",
       "      <td>47.431010</td>\n",
       "      <td>-122.328460</td>\n",
       "      <td>98032.000000</td>\n",
       "      <td>2.000000</td>\n",
       "      <td>5.000000</td>\n",
       "      <td>0.00000</td>\n",
       "    </tr>\n",
       "    <tr>\n",
       "      <th>50%</th>\n",
       "      <td>8.690000e+05</td>\n",
       "      <td>3.000000</td>\n",
       "      <td>2.500000</td>\n",
       "      <td>1940.000000</td>\n",
       "      <td>7.560000e+03</td>\n",
       "      <td>1.500000</td>\n",
       "      <td>1580.000000</td>\n",
       "      <td>400.000000</td>\n",
       "      <td>141.000000</td>\n",
       "      <td>1976.000000</td>\n",
       "      <td>47.557890</td>\n",
       "      <td>-122.234070</td>\n",
       "      <td>98059.000000</td>\n",
       "      <td>2.000000</td>\n",
       "      <td>5.000000</td>\n",
       "      <td>0.00000</td>\n",
       "    </tr>\n",
       "    <tr>\n",
       "      <th>75%</th>\n",
       "      <td>1.310000e+06</td>\n",
       "      <td>4.000000</td>\n",
       "      <td>3.000000</td>\n",
       "      <td>2640.000000</td>\n",
       "      <td>1.077200e+04</td>\n",
       "      <td>2.000000</td>\n",
       "      <td>2290.000000</td>\n",
       "      <td>520.000000</td>\n",
       "      <td>310.000000</td>\n",
       "      <td>2001.000000</td>\n",
       "      <td>47.672005</td>\n",
       "      <td>-122.127645</td>\n",
       "      <td>98117.000000</td>\n",
       "      <td>3.000000</td>\n",
       "      <td>6.000000</td>\n",
       "      <td>0.00000</td>\n",
       "    </tr>\n",
       "    <tr>\n",
       "      <th>max</th>\n",
       "      <td>3.075000e+07</td>\n",
       "      <td>13.000000</td>\n",
       "      <td>10.500000</td>\n",
       "      <td>15360.000000</td>\n",
       "      <td>3.253932e+06</td>\n",
       "      <td>4.000000</td>\n",
       "      <td>12660.000000</td>\n",
       "      <td>3580.000000</td>\n",
       "      <td>4370.000000</td>\n",
       "      <td>2022.000000</td>\n",
       "      <td>47.789830</td>\n",
       "      <td>-121.163960</td>\n",
       "      <td>98288.000000</td>\n",
       "      <td>4.000000</td>\n",
       "      <td>11.000000</td>\n",
       "      <td>4.00000</td>\n",
       "    </tr>\n",
       "  </tbody>\n",
       "</table>\n",
       "</div>"
      ],
      "text/plain": [
       "              price      bedrooms     bathrooms   sqft_living      sqft_lot  \\\n",
       "count  2.914900e+04  29149.000000  29149.000000  29149.000000  2.914900e+04   \n",
       "mean   1.113429e+06      3.436928      2.332807   2131.761536  1.712923e+04   \n",
       "std    8.958603e+05      0.976836      0.894821    976.885624  6.085121e+04   \n",
       "min    2.736000e+04      0.000000      0.000000      3.000000  4.020000e+02   \n",
       "25%    6.450000e+05      3.000000      2.000000   1440.000000  5.000000e+03   \n",
       "50%    8.690000e+05      3.000000      2.500000   1940.000000  7.560000e+03   \n",
       "75%    1.310000e+06      4.000000      3.000000   2640.000000  1.077200e+04   \n",
       "max    3.075000e+07     13.000000     10.500000  15360.000000  3.253932e+06   \n",
       "\n",
       "             floors    sqft_above   sqft_garage    sqft_patio      yr_built  \\\n",
       "count  29149.000000  29149.000000  29149.000000  29149.000000  29149.000000   \n",
       "mean       1.516639   1826.453292    336.493533    216.385468   1973.829394   \n",
       "std        0.548334    880.328665    286.238563    246.801963     31.667405   \n",
       "min        1.000000      2.000000      0.000000      0.000000   1900.000000   \n",
       "25%        1.000000   1190.000000      0.000000     40.000000   1952.000000   \n",
       "50%        1.500000   1580.000000    400.000000    141.000000   1976.000000   \n",
       "75%        2.000000   2290.000000    520.000000    310.000000   2001.000000   \n",
       "max        4.000000  12660.000000   3580.000000   4370.000000   2022.000000   \n",
       "\n",
       "                lat          long       zipcode  condition_code    grade_code  \\\n",
       "count  29149.000000  29149.000000  29149.000000    29149.000000  29149.000000   \n",
       "mean      47.543327   -122.214455  98077.230265        2.487324      5.639302   \n",
       "std        0.145961      0.142918     54.107337        0.707848      1.152643   \n",
       "min       47.159700   -122.526650  98001.000000        0.000000      0.000000   \n",
       "25%       47.431010   -122.328460  98032.000000        2.000000      5.000000   \n",
       "50%       47.557890   -122.234070  98059.000000        2.000000      5.000000   \n",
       "75%       47.672005   -122.127645  98117.000000        3.000000      6.000000   \n",
       "max       47.789830   -121.163960  98288.000000        4.000000     11.000000   \n",
       "\n",
       "         view_code  \n",
       "count  29149.00000  \n",
       "mean       0.30152  \n",
       "std        0.86269  \n",
       "min        0.00000  \n",
       "25%        0.00000  \n",
       "50%        0.00000  \n",
       "75%        0.00000  \n",
       "max        4.00000  "
      ]
     },
     "execution_count": 24,
     "metadata": {},
     "output_type": "execute_result"
    }
   ],
   "source": [
    "housing_df2.describe()"
   ]
  },
  {
   "cell_type": "code",
   "execution_count": 25,
   "metadata": {},
   "outputs": [],
   "source": [
    "housing_df2['price'] = housing_df2['price'].astype(int)"
   ]
  },
  {
   "cell_type": "code",
   "execution_count": 26,
   "metadata": {},
   "outputs": [
    {
     "name": "stdout",
     "output_type": "stream",
     "text": [
      "<class 'pandas.core.frame.DataFrame'>\n",
      "Int64Index: 29149 entries, 0 to 30154\n",
      "Data columns (total 23 columns):\n",
      " #   Column          Non-Null Count  Dtype  \n",
      "---  ------          --------------  -----  \n",
      " 0   date            29149 non-null  object \n",
      " 1   price           29149 non-null  int32  \n",
      " 2   bedrooms        29149 non-null  int64  \n",
      " 3   bathrooms       29149 non-null  float64\n",
      " 4   sqft_living     29149 non-null  int64  \n",
      " 5   sqft_lot        29149 non-null  int64  \n",
      " 6   floors          29149 non-null  float64\n",
<<<<<<< HEAD
      " 7   greenbelt       29149 non-null  object \n",
      " 8   nuisance        29149 non-null  object \n",
      " 9   heat_source     29149 non-null  object \n",
      " 10  sewer_system    29149 non-null  object \n",
      " 11  sqft_above      29149 non-null  int64  \n",
      " 12  sqft_garage     29149 non-null  int64  \n",
      " 13  sqft_patio      29149 non-null  int64  \n",
      " 14  yr_built        29149 non-null  int64  \n",
      " 15  address         29149 non-null  object \n",
      " 16  lat             29149 non-null  float64\n",
      " 17  long            29149 non-null  float64\n",
      " 18  zipcode         29149 non-null  int32  \n",
      " 19  condition_code  29149 non-null  int8   \n",
      " 20  grade_code      29149 non-null  int8   \n",
      " 21  view_code       29149 non-null  int8   \n",
      "dtypes: float64(4), int32(2), int64(7), int8(3), object(6)\n",
      "memory usage: 4.3+ MB\n"
=======
      " 7   waterfront      29149 non-null  object \n",
      " 8   greenbelt       29149 non-null  object \n",
      " 9   nuisance        29149 non-null  object \n",
      " 10  heat_source     29149 non-null  object \n",
      " 11  sewer_system    29149 non-null  object \n",
      " 12  sqft_above      29149 non-null  int64  \n",
      " 13  sqft_garage     29149 non-null  int64  \n",
      " 14  sqft_patio      29149 non-null  int64  \n",
      " 15  yr_built        29149 non-null  int64  \n",
      " 16  address         29149 non-null  object \n",
      " 17  lat             29149 non-null  float64\n",
      " 18  long            29149 non-null  float64\n",
      " 19  zipcode         29149 non-null  int64  \n",
      " 20  condition_code  29149 non-null  int8   \n",
      " 21  grade_code      29149 non-null  int8   \n",
      " 22  view_code       29149 non-null  int8   \n",
      "dtypes: float64(4), int64(9), int8(3), object(7)\n",
      "memory usage: 4.8+ MB\n"
>>>>>>> add
     ]
    }
   ],
   "source": [
    "housing_df2.info()"
   ]
  },
  {
   "cell_type": "markdown",
   "metadata": {},
   "source": [
    "# Creating price per sqft column"
   ]
  },
  {
   "cell_type": "code",
<<<<<<< HEAD
   "execution_count": 30,
   "metadata": {},
   "outputs": [],
   "source": [
    "housing_df[\"price_per_sqft\"] = housing_df[\"price\"]/housing_df[\"sqft_living\"]"
=======
   "execution_count": 27,
   "metadata": {},
   "outputs": [],
   "source": [
    "housing_df2[\"price_per_sqft\"] = housing_df2[\"price\"]/ housing_df[\"sqft_living\"]"
   ]
  },
  {
   "cell_type": "markdown",
   "metadata": {},
   "source": [
    "## Creating column for house age"
>>>>>>> add
   ]
  },
  {
   "cell_type": "code",
<<<<<<< HEAD
   "execution_count": 31,
=======
   "execution_count": 28,
>>>>>>> add
   "metadata": {},
   "outputs": [
    {
     "data": {
<<<<<<< HEAD
      "image/png": "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\n",
      "text/plain": [
       "<Figure size 432x288 with 1 Axes>"
      ]
     },
=======
      "text/html": [
       "<div>\n",
       "<style scoped>\n",
       "    .dataframe tbody tr th:only-of-type {\n",
       "        vertical-align: middle;\n",
       "    }\n",
       "\n",
       "    .dataframe tbody tr th {\n",
       "        vertical-align: top;\n",
       "    }\n",
       "\n",
       "    .dataframe thead th {\n",
       "        text-align: right;\n",
       "    }\n",
       "</style>\n",
       "<table border=\"1\" class=\"dataframe\">\n",
       "  <thead>\n",
       "    <tr style=\"text-align: right;\">\n",
       "      <th></th>\n",
       "      <th>date</th>\n",
       "      <th>price</th>\n",
       "      <th>bedrooms</th>\n",
       "      <th>bathrooms</th>\n",
       "      <th>sqft_living</th>\n",
       "      <th>sqft_lot</th>\n",
       "      <th>floors</th>\n",
       "      <th>waterfront</th>\n",
       "      <th>greenbelt</th>\n",
       "      <th>nuisance</th>\n",
       "      <th>...</th>\n",
       "      <th>yr_built</th>\n",
       "      <th>address</th>\n",
       "      <th>lat</th>\n",
       "      <th>long</th>\n",
       "      <th>zipcode</th>\n",
       "      <th>condition_code</th>\n",
       "      <th>grade_code</th>\n",
       "      <th>view_code</th>\n",
       "      <th>price_per_sqft</th>\n",
       "      <th>house_age</th>\n",
       "    </tr>\n",
       "  </thead>\n",
       "  <tbody>\n",
       "    <tr>\n",
       "      <th>0</th>\n",
       "      <td>5/24/2022</td>\n",
       "      <td>675000</td>\n",
       "      <td>4</td>\n",
       "      <td>1.0</td>\n",
       "      <td>1180</td>\n",
       "      <td>7140</td>\n",
       "      <td>1.0</td>\n",
       "      <td>NO</td>\n",
       "      <td>NO</td>\n",
       "      <td>NO</td>\n",
       "      <td>...</td>\n",
       "      <td>1969</td>\n",
       "      <td>2102 Southeast 21st Court, Renton, Washington ...</td>\n",
       "      <td>47.461975</td>\n",
       "      <td>-122.19052</td>\n",
       "      <td>98055</td>\n",
       "      <td>3</td>\n",
       "      <td>5</td>\n",
       "      <td>0</td>\n",
       "      <td>572.033898</td>\n",
       "      <td>53</td>\n",
       "    </tr>\n",
       "    <tr>\n",
       "      <th>1</th>\n",
       "      <td>12/13/2021</td>\n",
       "      <td>920000</td>\n",
       "      <td>5</td>\n",
       "      <td>2.5</td>\n",
       "      <td>2770</td>\n",
       "      <td>6703</td>\n",
       "      <td>1.0</td>\n",
       "      <td>NO</td>\n",
       "      <td>NO</td>\n",
       "      <td>YES</td>\n",
       "      <td>...</td>\n",
       "      <td>1950</td>\n",
       "      <td>11231 Greenwood Avenue North, Seattle, Washing...</td>\n",
       "      <td>47.711525</td>\n",
       "      <td>-122.35591</td>\n",
       "      <td>98133</td>\n",
       "      <td>2</td>\n",
       "      <td>5</td>\n",
       "      <td>2</td>\n",
       "      <td>332.129964</td>\n",
       "      <td>71</td>\n",
       "    </tr>\n",
       "    <tr>\n",
       "      <th>2</th>\n",
       "      <td>9/29/2021</td>\n",
       "      <td>311000</td>\n",
       "      <td>6</td>\n",
       "      <td>2.0</td>\n",
       "      <td>2880</td>\n",
       "      <td>6156</td>\n",
       "      <td>1.0</td>\n",
       "      <td>NO</td>\n",
       "      <td>NO</td>\n",
       "      <td>NO</td>\n",
       "      <td>...</td>\n",
       "      <td>1956</td>\n",
       "      <td>8504 South 113th Street, Seattle, Washington 9...</td>\n",
       "      <td>47.502045</td>\n",
       "      <td>-122.22520</td>\n",
       "      <td>98178</td>\n",
       "      <td>2</td>\n",
       "      <td>5</td>\n",
       "      <td>2</td>\n",
       "      <td>107.986111</td>\n",
       "      <td>65</td>\n",
       "    </tr>\n",
       "    <tr>\n",
       "      <th>3</th>\n",
       "      <td>12/14/2021</td>\n",
       "      <td>775000</td>\n",
       "      <td>3</td>\n",
       "      <td>3.0</td>\n",
       "      <td>2160</td>\n",
       "      <td>1400</td>\n",
       "      <td>2.0</td>\n",
       "      <td>NO</td>\n",
       "      <td>NO</td>\n",
       "      <td>NO</td>\n",
       "      <td>...</td>\n",
       "      <td>2010</td>\n",
       "      <td>4079 Letitia Avenue South, Seattle, Washington...</td>\n",
       "      <td>47.566110</td>\n",
       "      <td>-122.29020</td>\n",
       "      <td>98118</td>\n",
       "      <td>2</td>\n",
       "      <td>7</td>\n",
       "      <td>2</td>\n",
       "      <td>358.796296</td>\n",
       "      <td>11</td>\n",
       "    </tr>\n",
       "    <tr>\n",
       "      <th>4</th>\n",
       "      <td>8/24/2021</td>\n",
       "      <td>592500</td>\n",
       "      <td>2</td>\n",
       "      <td>2.0</td>\n",
       "      <td>1120</td>\n",
       "      <td>758</td>\n",
       "      <td>2.0</td>\n",
       "      <td>NO</td>\n",
       "      <td>NO</td>\n",
       "      <td>YES</td>\n",
       "      <td>...</td>\n",
       "      <td>2012</td>\n",
       "      <td>2193 Northwest Talus Drive, Issaquah, Washingt...</td>\n",
       "      <td>47.532470</td>\n",
       "      <td>-122.07188</td>\n",
       "      <td>98027</td>\n",
       "      <td>2</td>\n",
       "      <td>5</td>\n",
       "      <td>0</td>\n",
       "      <td>529.017857</td>\n",
       "      <td>9</td>\n",
       "    </tr>\n",
       "    <tr>\n",
       "      <th>...</th>\n",
       "      <td>...</td>\n",
       "      <td>...</td>\n",
       "      <td>...</td>\n",
       "      <td>...</td>\n",
       "      <td>...</td>\n",
       "      <td>...</td>\n",
       "      <td>...</td>\n",
       "      <td>...</td>\n",
       "      <td>...</td>\n",
       "      <td>...</td>\n",
       "      <td>...</td>\n",
       "      <td>...</td>\n",
       "      <td>...</td>\n",
       "      <td>...</td>\n",
       "      <td>...</td>\n",
       "      <td>...</td>\n",
       "      <td>...</td>\n",
       "      <td>...</td>\n",
       "      <td>...</td>\n",
       "      <td>...</td>\n",
       "      <td>...</td>\n",
       "    </tr>\n",
       "    <tr>\n",
       "      <th>30150</th>\n",
       "      <td>11/30/2021</td>\n",
       "      <td>1555000</td>\n",
       "      <td>5</td>\n",
       "      <td>2.0</td>\n",
       "      <td>1910</td>\n",
       "      <td>4000</td>\n",
       "      <td>1.5</td>\n",
       "      <td>NO</td>\n",
       "      <td>NO</td>\n",
       "      <td>NO</td>\n",
       "      <td>...</td>\n",
       "      <td>1921</td>\n",
       "      <td>4673 Eastern Avenue North, Seattle, Washington...</td>\n",
       "      <td>47.664740</td>\n",
       "      <td>-122.32940</td>\n",
       "      <td>98103</td>\n",
       "      <td>3</td>\n",
       "      <td>6</td>\n",
       "      <td>0</td>\n",
       "      <td>814.136126</td>\n",
       "      <td>100</td>\n",
       "    </tr>\n",
       "    <tr>\n",
       "      <th>30151</th>\n",
       "      <td>6/16/2021</td>\n",
       "      <td>1313000</td>\n",
       "      <td>3</td>\n",
       "      <td>2.0</td>\n",
       "      <td>2020</td>\n",
       "      <td>5800</td>\n",
       "      <td>2.0</td>\n",
       "      <td>NO</td>\n",
       "      <td>NO</td>\n",
       "      <td>NO</td>\n",
       "      <td>...</td>\n",
       "      <td>2011</td>\n",
       "      <td>4131 44th Avenue Southwest, Seattle, Washingto...</td>\n",
       "      <td>47.565610</td>\n",
       "      <td>-122.38851</td>\n",
       "      <td>98116</td>\n",
       "      <td>2</td>\n",
       "      <td>5</td>\n",
       "      <td>1</td>\n",
       "      <td>650.000000</td>\n",
       "      <td>10</td>\n",
       "    </tr>\n",
       "    <tr>\n",
       "      <th>30152</th>\n",
       "      <td>5/27/2022</td>\n",
       "      <td>800000</td>\n",
       "      <td>3</td>\n",
       "      <td>2.0</td>\n",
       "      <td>1620</td>\n",
       "      <td>3600</td>\n",
       "      <td>1.0</td>\n",
       "      <td>NO</td>\n",
       "      <td>NO</td>\n",
       "      <td>YES</td>\n",
       "      <td>...</td>\n",
       "      <td>1995</td>\n",
       "      <td>910 Martin Luther King Jr Way, Seattle, Washin...</td>\n",
       "      <td>47.610395</td>\n",
       "      <td>-122.29585</td>\n",
       "      <td>98122</td>\n",
       "      <td>2</td>\n",
       "      <td>5</td>\n",
       "      <td>0</td>\n",
       "      <td>493.827160</td>\n",
       "      <td>27</td>\n",
       "    </tr>\n",
       "    <tr>\n",
       "      <th>30153</th>\n",
       "      <td>2/24/2022</td>\n",
       "      <td>775000</td>\n",
       "      <td>3</td>\n",
       "      <td>2.5</td>\n",
       "      <td>2570</td>\n",
       "      <td>2889</td>\n",
       "      <td>2.0</td>\n",
       "      <td>NO</td>\n",
       "      <td>NO</td>\n",
       "      <td>NO</td>\n",
       "      <td>...</td>\n",
       "      <td>2006</td>\n",
       "      <td>17127 114th Avenue Southeast, Renton, Washingt...</td>\n",
       "      <td>47.449490</td>\n",
       "      <td>-122.18908</td>\n",
       "      <td>98055</td>\n",
       "      <td>2</td>\n",
       "      <td>6</td>\n",
       "      <td>0</td>\n",
       "      <td>301.556420</td>\n",
       "      <td>16</td>\n",
       "    </tr>\n",
       "    <tr>\n",
       "      <th>30154</th>\n",
       "      <td>4/29/2022</td>\n",
       "      <td>500000</td>\n",
       "      <td>3</td>\n",
       "      <td>1.5</td>\n",
       "      <td>1200</td>\n",
       "      <td>11058</td>\n",
       "      <td>1.0</td>\n",
       "      <td>NO</td>\n",
       "      <td>NO</td>\n",
       "      <td>NO</td>\n",
       "      <td>...</td>\n",
       "      <td>1965</td>\n",
       "      <td>18615 7th Avenue South, Burien, Washington 981...</td>\n",
       "      <td>47.435840</td>\n",
       "      <td>-122.32634</td>\n",
       "      <td>98148</td>\n",
       "      <td>2</td>\n",
       "      <td>5</td>\n",
       "      <td>0</td>\n",
       "      <td>416.666667</td>\n",
       "      <td>57</td>\n",
       "    </tr>\n",
       "  </tbody>\n",
       "</table>\n",
       "<p>29149 rows × 25 columns</p>\n",
       "</div>"
      ],
      "text/plain": [
       "             date    price  bedrooms  bathrooms  sqft_living  sqft_lot  \\\n",
       "0       5/24/2022   675000         4        1.0         1180      7140   \n",
       "1      12/13/2021   920000         5        2.5         2770      6703   \n",
       "2       9/29/2021   311000         6        2.0         2880      6156   \n",
       "3      12/14/2021   775000         3        3.0         2160      1400   \n",
       "4       8/24/2021   592500         2        2.0         1120       758   \n",
       "...           ...      ...       ...        ...          ...       ...   \n",
       "30150  11/30/2021  1555000         5        2.0         1910      4000   \n",
       "30151   6/16/2021  1313000         3        2.0         2020      5800   \n",
       "30152   5/27/2022   800000         3        2.0         1620      3600   \n",
       "30153   2/24/2022   775000         3        2.5         2570      2889   \n",
       "30154   4/29/2022   500000         3        1.5         1200     11058   \n",
       "\n",
       "       floors waterfront greenbelt nuisance  ... yr_built  \\\n",
       "0         1.0         NO        NO       NO  ...     1969   \n",
       "1         1.0         NO        NO      YES  ...     1950   \n",
       "2         1.0         NO        NO       NO  ...     1956   \n",
       "3         2.0         NO        NO       NO  ...     2010   \n",
       "4         2.0         NO        NO      YES  ...     2012   \n",
       "...       ...        ...       ...      ...  ...      ...   \n",
       "30150     1.5         NO        NO       NO  ...     1921   \n",
       "30151     2.0         NO        NO       NO  ...     2011   \n",
       "30152     1.0         NO        NO      YES  ...     1995   \n",
       "30153     2.0         NO        NO       NO  ...     2006   \n",
       "30154     1.0         NO        NO       NO  ...     1965   \n",
       "\n",
       "                                                 address        lat  \\\n",
       "0      2102 Southeast 21st Court, Renton, Washington ...  47.461975   \n",
       "1      11231 Greenwood Avenue North, Seattle, Washing...  47.711525   \n",
       "2      8504 South 113th Street, Seattle, Washington 9...  47.502045   \n",
       "3      4079 Letitia Avenue South, Seattle, Washington...  47.566110   \n",
       "4      2193 Northwest Talus Drive, Issaquah, Washingt...  47.532470   \n",
       "...                                                  ...        ...   \n",
       "30150  4673 Eastern Avenue North, Seattle, Washington...  47.664740   \n",
       "30151  4131 44th Avenue Southwest, Seattle, Washingto...  47.565610   \n",
       "30152  910 Martin Luther King Jr Way, Seattle, Washin...  47.610395   \n",
       "30153  17127 114th Avenue Southeast, Renton, Washingt...  47.449490   \n",
       "30154  18615 7th Avenue South, Burien, Washington 981...  47.435840   \n",
       "\n",
       "            long  zipcode  condition_code grade_code  view_code  \\\n",
       "0     -122.19052    98055               3          5          0   \n",
       "1     -122.35591    98133               2          5          2   \n",
       "2     -122.22520    98178               2          5          2   \n",
       "3     -122.29020    98118               2          7          2   \n",
       "4     -122.07188    98027               2          5          0   \n",
       "...          ...      ...             ...        ...        ...   \n",
       "30150 -122.32940    98103               3          6          0   \n",
       "30151 -122.38851    98116               2          5          1   \n",
       "30152 -122.29585    98122               2          5          0   \n",
       "30153 -122.18908    98055               2          6          0   \n",
       "30154 -122.32634    98148               2          5          0   \n",
       "\n",
       "       price_per_sqft  house_age  \n",
       "0          572.033898         53  \n",
       "1          332.129964         71  \n",
       "2          107.986111         65  \n",
       "3          358.796296         11  \n",
       "4          529.017857          9  \n",
       "...               ...        ...  \n",
       "30150      814.136126        100  \n",
       "30151      650.000000         10  \n",
       "30152      493.827160         27  \n",
       "30153      301.556420         16  \n",
       "30154      416.666667         57  \n",
       "\n",
       "[29149 rows x 25 columns]"
      ]
     },
     "execution_count": 28,
     "metadata": {},
     "output_type": "execute_result"
    }
   ],
   "source": [
    "housing_df2['house_age'] = pd.to_datetime(housing_df2['date']).dt.year - housing_df2['yr_built']\n",
    "housing_df2"
   ]
  },
  {
   "cell_type": "code",
   "execution_count": 29,
   "metadata": {},
   "outputs": [
    {
     "name": "stdout",
     "output_type": "stream",
     "text": [
      "<class 'pandas.core.frame.DataFrame'>\n",
      "Int64Index: 29149 entries, 0 to 30154\n",
      "Data columns (total 25 columns):\n",
      " #   Column          Non-Null Count  Dtype  \n",
      "---  ------          --------------  -----  \n",
      " 0   date            29149 non-null  object \n",
      " 1   price           29149 non-null  int64  \n",
      " 2   bedrooms        29149 non-null  int64  \n",
      " 3   bathrooms       29149 non-null  float64\n",
      " 4   sqft_living     29149 non-null  int64  \n",
      " 5   sqft_lot        29149 non-null  int64  \n",
      " 6   floors          29149 non-null  float64\n",
      " 7   waterfront      29149 non-null  object \n",
      " 8   greenbelt       29149 non-null  object \n",
      " 9   nuisance        29149 non-null  object \n",
      " 10  heat_source     29149 non-null  object \n",
      " 11  sewer_system    29149 non-null  object \n",
      " 12  sqft_above      29149 non-null  int64  \n",
      " 13  sqft_garage     29149 non-null  int64  \n",
      " 14  sqft_patio      29149 non-null  int64  \n",
      " 15  yr_built        29149 non-null  int64  \n",
      " 16  address         29149 non-null  object \n",
      " 17  lat             29149 non-null  float64\n",
      " 18  long            29149 non-null  float64\n",
      " 19  zipcode         29149 non-null  int64  \n",
      " 20  condition_code  29149 non-null  int8   \n",
      " 21  grade_code      29149 non-null  int8   \n",
      " 22  view_code       29149 non-null  int8   \n",
      " 23  price_per_sqft  29149 non-null  float64\n",
      " 24  house_age       29149 non-null  int64  \n",
      "dtypes: float64(5), int64(10), int8(3), object(7)\n",
      "memory usage: 6.4+ MB\n"
     ]
    }
   ],
   "source": [
    "housing_df2.info()"
   ]
  },
  {
   "cell_type": "markdown",
   "metadata": {},
   "source": [
    "## Visualizing the relationships"
   ]
  },
  {
   "cell_type": "code",
   "execution_count": 30,
   "metadata": {},
   "outputs": [],
   "source": [
    "numerical = [\"price\", \"sqft_living\", \"sqft_above\", \"price_per_sqft\", \"house_age\"]\n",
    "ordinal = [\"bedrooms\", \"bathrooms\", \"floors\", \"house_age\", \"condition_code\", \"floors\", \"greenbelt\" ]"
   ]
  },
  {
   "cell_type": "code",
   "execution_count": 31,
   "metadata": {},
   "outputs": [
    {
     "data": {
      "image/png": "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\n",
      "text/plain": [
       "<Figure size 1440x1440 with 6 Axes>"
      ]
     },
     "metadata": {
      "needs_background": "light"
     },
     "output_type": "display_data"
    }
   ],
   "source": [
    "fig, axes = plt.subplots(2, 3, sharey=True, figsize=(20,20))\n",
    "axes = np.ravel(axes)\n",
    "for i in range(len(numerical)):\n",
    "    sns.scatterplot(data=housing_df2, x=numerical[i], y= \"price\", ax=axes[i])"
   ]
  },
  {
   "cell_type": "code",
   "execution_count": 32,
   "metadata": {},
   "outputs": [
    {
     "data": {
      "image/png": "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\n",
      "text/plain": [
       "<Figure size 2160x1440 with 1 Axes>"
      ]
     },
     "metadata": {
      "needs_background": "light"
     },
     "output_type": "display_data"
    }
   ],
   "source": [
    "housing_df2['log_price'] = np.log(housing_df2['price'])\n",
    "ordinal_features_to_plot = [\"grade_code\"]\n",
    "fig, axes = plt.subplots( sharey=True, figsize=(30, 20))\n",
    "axes = np.ravel(axes)\n",
    "for i in range(len(ordinal_features_to_plot)):\n",
    "    sns.boxplot(data=housing_df2, x=ordinal_features_to_plot[i], y=\"log_price\", ax=axes[i], showfliers = False)"
   ]
  },
  {
   "cell_type": "code",
   "execution_count": 33,
   "metadata": {},
   "outputs": [
    {
     "data": {
      "image/png": "iVBORw0KGgoAAAANSUhEUgAAAmgAAAJNCAYAAACFjonMAAAAOXRFWHRTb2Z0d2FyZQBNYXRwbG90bGliIHZlcnNpb24zLjMuMSwgaHR0cHM6Ly9tYXRwbG90bGliLm9yZy/d3fzzAAAACXBIWXMAAAsTAAALEwEAmpwYAAAeGklEQVR4nO3df7Dld13f8debXcD8HKVZIlkSE9kIjSgxrKEIY0MrNGwpVKBiRketdBZnyLrTNiKVVrAOVLQMjSuiETJRC0GpRgHTkLRjjVQUNjE/MbS3MeDuAruQys9ASPLuH/esvV7uze7d3HPPZ+99PGbu7P1+z+d77vuSyfLM93zP91R3BwCAcTxq1gMAAPC3CTQAgMEINACAwQg0AIDBCDQAgMEINACAwWye9QCr6bTTTuuzzz571mMAABzRTTfd9Onu3rLUY+sq0M4+++zs3bt31mMAABxRVX1suce8xAkAMBiBBgAwGIEGADAYgQYAMBiBBgAwGIEGADAYgQYAMJipBlpVXVlVB6vqjgX7XldV+6vqlsnXjmWOvaeqbp+scXMzAGDDmPaNaq9K8ktJfmPR/jd39388iuOf092fXvWpAAAGNtUzaN19Y5J7p/kzAADWm1ldg3ZpVd02eQn0G5ZZ00mur6qbqmrnWg4HADBLswi0tyZ5UpLzk3wiyZuWWfes7r4gyfOTvLKqvnupRVW1s6r2VtXeQ4cOTWNeAIA1teaB1t2f6u4Hu/uhJL+W5MJl1h2Y/HkwyTUPs+6K7t7e3du3bFnyA+EBAI4rax5oVfWEBZvfm+SOJdacVFWnHP4+yfOWWgcAsB5N9V2cVXV1kouSnFZV+5K8NslFVXV+5q8xuyfJKyZrz0jytu7ekeT0JNdU1eEZ39nd101zVgCAUUw10Lr7kiV2v32ZtQeS7Jh8f3eSp01xNACAYfkkAQCAwQg0AIDBCDQAgMEINACAwQg0AIDBCDQAgMFM9TYbALDQnj17Mjc3N+sxpmb//v1Jkq1bt854kunZtm1bdu3aNesx1j2BBgCr5L777pv1CKwTAg2ANbPez7zs3r07SXL55ZfPeBKOd65BAwAYjEADABiMQAMAGIxAAwAYjEADABiMQAMAGIxAAwAYjEADABiMQAMAGIxAAwAYjEADABiMQAMAGIxAAwAYjEADABiMQAMAGIxAAwAYjEADABiMQAMAGIxAAwAYjEADABiMQAMAGIxAAwAYjEADABiMQAMAGIxAAwAYjEADABiMQAMAGIxAAwAYjEADABiMQAMAGIxAAwAYjEADABiMQAMAGIxAAwAYjEADABiMQAMAGIxAAwAYjEADABiMQAMAGIxAAwAYjEADABiMQAMAGMzmWQ/AmPbs2ZO5ublZjzE1+/fvT5Js3bp1xpNMz7Zt27Jr165ZjwHAMRBobEj33XffrEcAgGUJNJa03s+87N69O0ly+eWXz3gSAPharkEDABiMQAMAGIxAAwAYjEADABiMQAMAGIxAAwAYjEADABiMQAMAGIxAAwAYjEADABiMQAMAGIxAAwAYjEADABiMQAMAGIxAAwAYjEADABjMVAOtqq6sqoNVdceCfa+rqv1Vdcvka8cyx15cVR+tqrmqevU05wQAGMm0z6BdleTiJfa/ubvPn3xdu/jBqtqU5C1Jnp/kvCSXVNV5U50UAGAQUw207r4xyb3HcOiFSea6++7uvj/Ju5K8aFWHAwAY1KyuQbu0qm6bvAT6DUs8vjXJXy3Y3jfZBwCw7s0i0N6a5ElJzk/yiSRvWmJNLbGvl3qyqtpZVXurau+hQ4dWbUgAgFlZ80Dr7k9194Pd/VCSX8v8y5mL7Uty5oLtJyY5sMzzXdHd27t7+5YtW1Z/YACANbbmgVZVT1iw+b1J7lhi2YeTnFtV51TVY5J8f5L3rMV8AACztnmaT15VVye5KMlpVbUvyWuTXFRV52f+Jct7krxisvaMJG/r7h3d/UBVXZrk/Uk2Jbmyu++c5qwAAKOYaqB19yVL7H77MmsPJNmxYPvaJF9zCw4AgPXOJwkAAAxGoAEADEagAQAMRqABAAxGoAEADEagAQAMRqABAAxGoAEADEagAQAMRqABAAxGoAEADEagAQAMRqABAAxGoAEADEagAQAMRqABAAxGoAEADEagAQAMRqABAAxGoAEADEagAQAMRqABAAxGoAEADEagAQAMRqABAAxGoAEADEagAQAMRqABAAxGoAEADEagAQAMRqABAAxGoAEADEagAQAMRqABAAxGoAEADEagAQAMRqABAAxGoAEADEagAQAMRqABAAxGoAEADEagAQAMRqABAAxGoAEADEagAQAMRqABAAxGoAEADEagAQAMRqABAAxGoAEADEagAQAMRqABAAxGoAEADEagAQAMRqABAAxGoAEADEagAQAMRqABAAxGoAEADEagAQAMRqABAAxGoAEADEagAQAMRqABAAxGoAEADEagAQAMRqABAAxGoAEADEagAQAMRqABAAxGoAEADGaqgVZVV1bVwaq6Y4nHLquqrqrTljn2nqq6vapuqaq905wTAGAk0z6DdlWSixfvrKozkzw3ycePcPxzuvv87t4+hdkAAIY01UDr7huT3LvEQ29O8qokPc2fDwBwPFrza9Cq6oVJ9nf3rUdY2kmur6qbqmrnGowGADCEzWv5w6rqxCSvSfK8o1j+rO4+UFWPT3JDVd01OSO3+Dl3JtmZJGedddaqzgsAMAtrfQbtSUnOSXJrVd2T5IlJbq6qb1y8sLsPTP48mOSaJBcu9YTdfUV3b+/u7Vu2bJna4AAAa2VNA627b+/ux3f32d19dpJ9SS7o7k8uXFdVJ1XVKYe/z/wZt695JygAwHo07dtsXJ3kg0meXFX7qurlD7P2jKq6drJ5epIPVNWtST6U5A+6+7ppzgoAMIqpXoPW3Zcc4fGzF3x/IMmOyfd3J3naNGcDABjVmr5JAICHt2fPnszNzc16DI7R4X92u3fvnvEkHKtt27Zl165dsx5DoAGMZG5uLv/7zj/PWSc/OOtROAaP+er8lUNf+ZgPwDkeffwLm2Y9wt8QaACDOevkB/NTF3xu1mPAhvOGm0+d9Qh/w4elAwAMRqABAAxGoAEADEagAQAMRqABAAxGoAEADEagAQAMRqABAAxGoAEADEagAQAMRqABAAxGoAEADEagAQAMRqABAAxGoAEADEagAQAMRqABAAxGoAEADEagAQAMRqABAAxGoAEADEagAQAMRqABAAxGoAEADEagAQAMRqABAAxGoAEADEagAQAMRqABAAxGoAEADEagAQAMRqABAAxGoAEADEagAQAMRqABAAxGoAEADEagAQAMRqABAAxGoAEADEagAQAMRqABAAxGoAEADEagAQAMRqABAAxGoAEADEagAQAMRqABAAxGoAEADEagAQAMRqABAAxGoAEADEagAQAMRqABAAxGoAEADEagAQAMZvOsBwDg/9u/f3+++PlNecPNp856FNhwPvb5TTlp//5Zj5HEGTQAgOE4gwYwkK1bt+YrD3wiP3XB52Y9Cmw4b7j51Dx269ZZj5FEoB2zPXv2ZG5ubtZjcIwO/7PbvXv3jCfhWG3bti27du2a9RgAUyHQjtHc3FxuueMv8uCJj5v1KByDR93fSZKb7v7UjCfhWGz60r2zHgFgqgTaI/DgiY/LfU/ZMesxYMM54a5rZz0CwFR5kwAAwGAEGgDAYAQaAMBgBBoAwGAEGgDAYAQaAMBgphpoVXVlVR2sqjuWeOyyquqqOm2ZYy+uqo9W1VxVvXqacwIAjGTaZ9CuSnLx4p1VdWaS5yb5+FIHVdWmJG9J8vwk5yW5pKrOm96YAADjmGqgdfeNSZa65febk7wqSS9z6IVJ5rr77u6+P8m7krxoOlMCAIxlza9Bq6oXJtnf3bc+zLKtSf5qwfa+yT4AgHVvTT/qqapOTPKaJM870tIl9i15tq2qdibZmSRnnXXWI5oPAGAER30Greb9YFX99GT7rKq6cIU/70lJzklya1Xdk+SJSW6uqm9ctG5fkjMXbD8xyYGlnrC7r+ju7d29fcuWLSscBwBgPCt5ifOXkzwzySWT7c9n/kL+o9bdt3f347v77O4+O/MhdkF3f3LR0g8nObeqzqmqxyT5/iTvWcnPAgA4Xq0k0J7R3a9M8uUk6e7/m+QxD3dAVV2d5INJnlxV+6rq5Q+z9oyqunby3A8kuTTJ+5P8RZLf7u47VzArAMBxayXXoH11cvuLTpKq2pLkoYc7oLsvOcLjZy/4/kCSHQu2r01y7QrmAwBYF1ZyBu0Xk1yT5PFV9fokH0jyhqlMBQCwgR31GbTufkdV3ZTkH2b+XZb/tLv/YmqTAQBsUEcdaFX195Lc2d1vmWyfUlXP6O4/m9p0AAAb0Epe4nxrki8s2P7iZB8AAKtoJYFW3f03N4vt7oeyxje6BQDYCFYSaHdX1Y9X1aMnX7uT3D2twQAANqqVBNqPJfmuJPszf4PZZ2TyEUsAAKyelbyL82Dm7+gPAMAUHTHQqupV3f3zVbUnS3xgeXf/+FQmAwDYoI7mDNrhe53tneYgAADMO2Kgdfd7Jx/x9NTu/ok1mAkAYEM7qjcJdPeDSZ4+5VkAAMjK7mP251X1niTvzvxNapMk3f27qz4VAMAGtpJAe1ySzyT5Bwv2dRKBBgCwilZym41/Ps1BAACYd9Q3qq2qb66q91bVoao6WFW/X1XnTHM4AICNaCWfJPDOJL+d5AlJzsj8tWjvmsZQAAAb2Uo/LP03u/uBydd/zhI3rgUA4JFZyZsE/rCqXp35s2ad5GVJ/qCqHpck3X3vFOYDANhwVhJoL5v8+YpF+38088H2zasyEQDABreSd3E+7BsCquq53X3DIx8JAGBjW8k1aEfyxlV8LgCADWs1A61W8bkAADas1Qw07+gEAFgFqxloAACsgtUMtHtW8bkAADaso34XZ1W9eIndn01ye3cf7O6lHgcAYIVWch+0lyd5ZpI/nGxflORPk3xLVf377v7NVZ4NAGBDWkmgPZTk73b3p5Kkqk5P8tYkz0hyYxKBBgCwClZyDdrZh+Ns4mCSb5l8xNNXV3csAICNayVn0P64qt6X5N2T7ZcmubGqTkry16s9GADARrWSQHtlkhcneXbmb0r760l+p7s7yXOmMBsAwIa0ks/i7Kr6QJL7M39T2g9N4gwAgFV01NegVdX3JflQ5l/a/L4kf1ZVL53WYAAAG9VKXuJ8TZLv7O6DSVJVW5L8tyT/ZRqDAQBsVCt5F+ejDsfZxGdWeDwAAEdhJWfQrquq9ye5erL9siTXrv5IAAAb20reJPATVfWSJM/K/Ls4r+jua6Y2GQDABrWSM2jp7t9J8jtTmgUAgBxFoFXV5zN/W42veSjzd984ddWnAgDYwI4YaN19yloMAsC8j39hU95ws//2PR596kvz7507/cSHZjwJx+LjX9iUc2c9xMSKXuIEYLq2bds26xF4BO6fm0uSPPab/HM8Hp2bcf4dFGgAA9m1a9esR+AR2L17d5Lk8ssvn/EkHO/cxwwAYDACDQBgMAINAGAwAg0AYDDeJHCM9u/fn01f+mxOuMunXcFa2/Slz2T//gdmPQbA1DiDBgAwGGfQjtHWrVvzya9szn1P2THrUWDDOeGua7N16+mzHgNgapxBAwAYjEADABiMQAMAGIxAAwAYjEADABiMQAMAGIxAAwAYjEADABiMQAMAGIxAAwAYjEADABiMQAMAGIxAAwAYjEADABiMQAMAGIxAAwAYjEADABiMQAMAGIxAAwAYjEADABjMVAOtqq6sqoNVdceCfT9bVbdV1S1VdX1VnbHMsfdU1e2TdXunOScAwEimfQbtqiQXL9r3C9397d19fpL3Jfnphzn+Od19fndvn9J8AADDmWqgdfeNSe5dtO9zCzZPStLTnAEA4HizeRY/tKpen+SHknw2yXOWWdZJrq+qTvKr3X3FWs0HADBLM3mTQHe/prvPTPKOJJcus+xZ3X1BkucneWVVffdSi6pqZ1Xtraq9hw4dmtLEAABrZ9bv4nxnkpcs9UB3H5j8eTDJNUkuXGbdFd29vbu3b9myZWqDAgCslTUPtKo6d8HmC5PctcSak6rqlMPfJ3lekjsWrwMAWI+meg1aVV2d5KIkp1XVviSvTbKjqp6c5KEkH0vyY5O1ZyR5W3fvSHJ6kmuq6vCM7+zu66Y5KwDAKKYaaN19yRK7377M2gNJdky+vzvJ06Y4GgDAsGZ9DRoAAIsINACAwQg0AIDBCDQAgMEINACAwQg0AIDBCDQAgMEINACAwQg0AIDBCDQAgMEINACAwQg0AIDBCDQAgMEINACAwQg0AIDBbJ71AMezTV+6Nyfcde2sx+AYPOrLn0uSPPR1p854Eo7Fpi/dm+T0WY8BMDUC7Rht27Zt1iPwCMzNfT5Jsu2b/Z/88el0/w4C65pAO0a7du2a9Qg8Art3706SXH755TOeBAC+lmvQAAAGI9AAAAYj0AAABiPQAAAGI9AAAAYj0AAABiPQAAAGI9AAAAYj0AAABiPQAAAGI9AAAAYj0AAABiPQAAAGI9AAAAYj0AAABiPQAAAGI9AAAAYj0AAABiPQAAAGI9AAAAYj0AAABiPQAAAGI9AAAAYj0AAABiPQAAAGI9AAAAYj0AAABiPQAAAGI9AAAAYj0AAABiPQAAAGI9AAAAYj0AAABiPQAAAGI9AAAAYj0AAABiPQAAAGI9AAAAYj0AAABiPQAAAGI9AAAAYj0AAABiPQAAAGI9AAAAYj0AAABiPQAAAGI9AAAAYj0AAABiPQAAAGI9AAAAYj0AAABiPQAAAGI9AAAAYz1UCrqiur6mBV3bFg389W1W1VdUtVXV9VZyxz7MVV9dGqmquqV09zTgCAkUz7DNpVSS5etO8Xuvvbu/v8JO9L8tOLD6qqTUnekuT5Sc5LcklVnTfdUQEAxjDVQOvuG5Pcu2jf5xZsnpSklzj0wiRz3X13d9+f5F1JXjS1QQEABrJ5Fj+0ql6f5IeSfDbJc5ZYsjXJXy3Y3pfkGWswGgDAzM3kTQLd/ZruPjPJO5JcusSSWuqwpZ6rqnZW1d6q2nvo0KHVHBMAYCZm/S7OdyZ5yRL79yU5c8H2E5McWOoJuvuK7t7e3du3bNkyhREBANbWmgdaVZ27YPOFSe5aYtmHk5xbVedU1WOSfH+S96zFfAAAszbVa9Cq6uokFyU5rar2JXltkh1V9eQkDyX5WJIfm6w9I8nbuntHdz9QVZcmeX+STUmu7O47pzkrAMAophpo3X3JErvfvszaA0l2LNi+Nsm1UxoNAGBYs74GDQCARQQaAMBgBBoAwGAEGgDAYAQaAMBgBBoAwGAEGgDAYAQaAMBgBBoAwGAEGgDAYAQaAMBgBBoAwGAEGgDAYAQaAMBgBBoAwGAEGgDAYAQaAMBgBBoAwGAEGgDAYAQaAMBgBBoAwGAEGgDAYAQaAMBgBBoAwGAEGgDAYAQaAMBgBBoAwGAEGgDAYAQaAMBgBBoAwGAEGgDAYAQaAMBgBBoAwGAEGgDAYAQaAMBgBBoAwGAEGgDAYAQaAMBgBBoAwGAEGgDAYAQaAMBgBBoAwGAEGgDAYAQaAMBgBBoAwGAEGgDAYAQaAMBgBBoAwGAEGgDAYAQaAMBgBBoAwGAEGgDAYAQaAMBgBBoAwGAEGgDAYAQaAMBgBBoAwGAEGgDAYDbPegAANo49e/Zkbm5u1mNMzeHfbffu3TOeZHq2bduWXbt2zXqMdU+gAcAqOeGEE2Y9AuuEQANgzTjzAkfHNWgAAIMRaAAAgxFoAACDEWgAAIMRaAAAgxFoAACDEWgAAIMRaAAAgxFoAACDmWqgVdWVVXWwqu5YsO8Xququqrqtqq6pqq9f5th7qur2qrqlqvZOc04AgJFM+wzaVUkuXrTvhiRP7e5vT/K/kvybhzn+Od19fndvn9J8AADDmWqgdfeNSe5dtO/67n5gsvmnSZ44zRkAAI43s74G7UeT/NdlHusk11fVTVW1cw1nAgCYqc2z+sFV9ZokDyR5xzJLntXdB6rq8UluqKq7JmfkFj/PziQ7k+Sss86a2rwAAGtlJmfQquqHk7wgyQ90dy+1prsPTP48mOSaJBcus+6K7t7e3du3bNkyrZEBANbMmgdaVV2c5CeTvLC7v7TMmpOq6pTD3yd5XpI7lloLALDeTPs2G1cn+WCSJ1fVvqp6eZJfSnJK5l+2vKWqfmWy9oyqunZy6OlJPlBVtyb5UJI/6O7rpjkrAMAopnoNWndfssTuty+z9kCSHZPv707ytCmOBgAwrFm/ixMAgEUEGgDAYAQaAMBgBBoAwGAEGgDAYAQaAMBgBBoAwGAEGgDAYAQaAMBgBBoAwGAEGgDAYAQaAMBgBBoAwGAEGgDAYAQaAMBgBBoAwGAEGgDAYAQaAMBgBBoAwGAEGgDAYAQaAMBgBBoAwGAEGgDAYAQaAMBgNs96AMa0Z8+ezM3NzXqMqTn8u+3evXvGk0zPtm3bsmvXrlmPAcAxEGhsSCeccMKsRwCAZQk0luTMCwDMjmvQAAAGI9AAAAYj0AAABiPQAAAGI9AAAAYj0AAABiPQAAAGI9AAAAYj0AAABiPQAAAGI9AAAAYj0AAABiPQAAAGI9AAAAYj0AAABiPQAAAGI9AAAAYj0AAABiPQAAAGI9AAAAYj0AAABiPQAAAGI9AAAAZT3T3rGVZNVR1K8rFZz8Fx47Qkn571EMC64+8WjtY3dfeWpR5YV4EGK1FVe7t7+6znANYXf7ewGrzECQAwGIEGADAYgcZGdsWsBwDWJX+38Ii5Bg0AYDDOoAEADEagsa5VVVfVmxZsX1ZVr1uwvbOq7pp8faiqnj2TQYHjQs37QFU9f8G+76uq66rqwaq6ZcHXqyePv6Cq/ryqbq2qj1TVK2b3G3C88BIn61pVfTnJJ5J8Z3d/uqouS3Jyd7+uql6Q5GeS/KPJYxck+b0kF3b3J2c3NTCyqnpqkncn+Y4km5LckuTiJLd298mL1j468/fnvLC791XVY5Oc3d0fXdupOd44g8Z690DmL9j9l0s89pNJfqK7P50k3X1zkl9P8sq1Gw843nT3HUnem/m/Q16b5De6+/8ss/yUJJuTfGZy7FfEGUdj86wHgDXwliS3VdXPL9r/rUluWrRvb5IfXpOpgOPZzyS5Ocn9SQ7flPaEqrplwZr/0N2/VVXvSfKxqvrvSd6X5OrufmhNp+W4I9BY97r7c1X1G0l+PMl9R1heSbzuDzys7v5iVf1Wki9091cmu+/r7vOXWPsvqurbknxPksuSPDfJj6zVrByfvMTJRvGfkrw8yUkL9n0kydMXrbtgsh/gSB6afB1Rd9/e3W/OfJy9ZKpTsS4INDaE7r43yW9nPtIO+/kkb6yqv5MkVXV+5v+r9pfXej5gfaqqk6vqogW7zs/8mwbgYXmJk43kTUkuPbzR3e+pqq1J/qSqOsnnk/xgd39iVgMCx7XF16Bdl+T1SV5VVb+a+Ussvhgvb3IU3GYDAGAwXuIEABiMQAMAGIxAAwAYjEADABiMQAMAGIxAAzgGVXVRVb1vhcf8j6raPvn+p6YzGbAeCDRgw6iqke79KNCAZQk0YN2oqn9XVXdV1Q1VdXVVXTY5a/WGqvqjJLur6ulV9UdVdVNVvb+qnjA59klVdd1k/x9X1VMm+6+qql+sqj+pqrur6qULfuSpVXVNVX2kqn6lqh41OeZ5VfXBqrq5qt5dVScvmvPnMrmpaVW9Y43+5wGOIwINWBcmLx2+JMl3JHlxku0LHv767v77SX4xyZ4kL+3upye5MvN3ek+SK5Lsmuy/LH/7I7+ekOTZSV6Q5OcW7L8wyb9O8m1JnpTkxVV1WpJ/m+R7uvuCJHuT/KuFs3b3qzP5YO3u/oFH+rsD689Ip/sBHolnJ/n97r4vSarqvQse+63Jn09O8tQkN1RVkmxK8onJGa7vSvLuyf4keeyC43+vux9K8pGqOn3B/g91992Tn3f1ZIYvJzkvyf+cPNdjknxwtX5JYGMQaMB6UQ/z2BcXrLmzu5/5tw6sOjXJX3f3+csc/5Vlfs7iz8rryeM3dPclR5wYYBle4gTWiw8k+SdV9XWTM2L/eIk1H02ypaqemSRV9eiq+tbu/lySv6yqfzbZX1X1tKP4mRdW1TmTa89eNpnhT5M8q6q2TZ7rxKr6liWO/WpVPXrFvyWwIQg0YF3o7g8neU+SW5P8buav/frsojX3J3lpkjdW1a1Jbsn8S5tJ8gNJXj7Zf2eSFx3Fj/1g5q9JuyPJXya5prsPJfmRJFdX1W2ZD7anLHHsFUlu8yYBYCnVvfgMPcDxqapO7u4vVNWJSW5MsrO7b571XAAr5Ro0YD25oqrOS/J1SX5dnAHHK2fQAAAG4xo0AIDBCDQAgMEINACAwQg0AIDBCDQAgMEINACAwfw/0+rrY2If3/cAAAAASUVORK5CYII=\n",
      "text/plain": [
       "<Figure size 720x720 with 1 Axes>"
      ]
     },
>>>>>>> add
     "metadata": {
      "needs_background": "light"
     },
     "output_type": "display_data"
    }
   ],
   "source": [
    "housing_df2['log_price'] = np.log(housing_df2['price'])\n",
    "ordinal_features_to_plot = [\"greenbelt\"]\n",
    "fig, axes = plt.subplots( sharey=True, figsize=(10, 10))\n",
    "axes = np.ravel(axes)\n",
    "for i in range(len(ordinal_features_to_plot)):\n",
    "    sns.boxplot(data=housing_df2, x=ordinal_features_to_plot[i], y=\"log_price\", ax=axes[i], showfliers = False)"
   ]
  },
  {
   "cell_type": "code",
   "execution_count": 34,
   "metadata": {},
   "outputs": [
    {
     "data": {
      "image/png": "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\n",
      "text/plain": [
       "<Figure size 2160x1440 with 1 Axes>"
      ]
     },
     "metadata": {
      "needs_background": "light"
     },
     "output_type": "display_data"
    }
   ],
   "source": [
    "housing_df2['log_price'] = np.log(housing_df2['price'])\n",
    "ordinal_features_to_plot = [\"condition_code\"]\n",
    "fig, axes = plt.subplots( sharey=True, figsize=(30, 20))\n",
    "axes = np.ravel(axes)\n",
    "for i in range(len(ordinal_features_to_plot)):\n",
    "    sns.boxplot(data=housing_df2, x=ordinal_features_to_plot[i], y=\"log_price\", ax=axes[i], showfliers = False)"
   ]
  },
  {
   "cell_type": "code",
   "execution_count": 35,
   "metadata": {
    "scrolled": false
   },
   "outputs": [
    {
     "data": {
      "image/png": "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\n",
      "text/plain": [
       "<Figure size 2160x1440 with 1 Axes>"
      ]
     },
     "metadata": {
      "needs_background": "light"
     },
     "output_type": "display_data"
    }
   ],
   "source": [
    "housing_df2['log_price'] = np.log(housing_df2['price'])\n",
    "ordinal_features_to_plot = [\"bathrooms\"]\n",
    "fig, axes = plt.subplots( sharey=True, figsize=(30, 20))\n",
    "axes = np.ravel(axes)\n",
    "for i in range(len(ordinal_features_to_plot)):\n",
    "    sns.boxplot(data=housing_df2, x=ordinal_features_to_plot[i], y=\"log_price\", ax=axes[i], showfliers = False)"
   ]
  },
  {
   "cell_type": "code",
   "execution_count": 37,
   "metadata": {},
   "outputs": [
    {
     "data": {
      "image/png": "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\n",
      "text/plain": [
       "<Figure size 2160x1440 with 1 Axes>"
      ]
     },
     "metadata": {
      "needs_background": "light"
     },
     "output_type": "display_data"
    }
   ],
   "source": [
    "housing_df2['log_price'] = np.log(housing_df2['price'])\n",
    "ordinal_features_to_plot = [\"waterfront\"]\n",
    "fig, axes = plt.subplots( sharey=True, figsize=(30, 20))\n",
    "axes = np.ravel(axes)\n",
    "for i in range(len(ordinal_features_to_plot)):\n",
    "    sns.boxplot(data=housing_df2, x=ordinal_features_to_plot[i], y=\"log_price\", ax=axes[i], showfliers = False)"
   ]
  },
  {
   "cell_type": "code",
   "execution_count": 39,
   "metadata": {},
   "outputs": [
    {
     "data": {
      "image/png": "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\n",
      "text/plain": [
       "<Figure size 432x288 with 1 Axes>"
      ]
     },
     "metadata": {
      "needs_background": "light"
     },
     "output_type": "display_data"
    }
   ],
   "source": [
    "price_sqft = sns.barplot(data = housing_df2,x = \"bathrooms\", y=\"price_per_sqft\")\n",
    "price_sqft.set(title=\"Histogram of Sale Price/ sqft\")\n",
    "plt.xticks(rotation=30)\n",
    "plt.show()"
   ]
  },
  {
   "cell_type": "code",
   "execution_count": null,
   "metadata": {},
   "outputs": [],
   "source": []
  },
  {
   "cell_type": "code",
   "execution_count": null,
   "metadata": {},
   "outputs": [],
   "source": []
  },
  {
   "cell_type": "markdown",
   "metadata": {},
   "source": [
    "# Simple Linear Regression - Price & Grade"
   ]
  },
  {
   "cell_type": "code",
<<<<<<< HEAD
   "execution_count": 32,
=======
   "execution_count": 40,
>>>>>>> add
   "metadata": {},
   "outputs": [
    {
     "name": "stdout",
     "output_type": "stream",
     "text": [
      "                            OLS Regression Results                            \n",
      "==============================================================================\n",
      "Dep. Variable:                  price   R-squared:                       0.321\n",
      "Model:                            OLS   Adj. R-squared:                  0.321\n",
      "Method:                 Least Squares   F-statistic:                 1.423e+04\n",
      "Date:                Wed, 31 May 2023   Prob (F-statistic):               0.00\n",
<<<<<<< HEAD
      "Time:                        09:38:38   Log-Likelihood:            -4.4961e+05\n",
=======
      "Time:                        10:17:51   Log-Likelihood:            -4.4961e+05\n",
>>>>>>> add
      "No. Observations:               30111   AIC:                         8.992e+05\n",
      "Df Residuals:                   30109   BIC:                         8.992e+05\n",
      "Df Model:                           1                                         \n",
      "Covariance Type:            nonrobust                                         \n",
      "==============================================================================\n",
      "                 coef    std err          t      P>|t|      [0.025      0.975]\n",
      "------------------------------------------------------------------------------\n",
      "const        -1.4e+06   2.15e+04    -65.245      0.000   -1.44e+06   -1.36e+06\n",
      "grade_code  4.438e+05   3719.830    119.296      0.000    4.36e+05    4.51e+05\n",
      "==============================================================================\n",
      "Omnibus:                    42122.893   Durbin-Watson:                   1.881\n",
      "Prob(Omnibus):                  0.000   Jarque-Bera (JB):         33151536.031\n",
      "Skew:                           7.836   Prob(JB):                         0.00\n",
      "Kurtosis:                     164.796   Cond. No.                         29.9\n",
      "==============================================================================\n",
      "\n",
      "Notes:\n",
      "[1] Standard Errors assume that the covariance matrix of the errors is correctly specified.\n"
     ]
    }
   ],
   "source": [
    "import statsmodels.api as sm\n",
    "\n",
    "X = housing_df[['grade_code']]\n",
    "y = housing_df['price']\n",
    "\n",
    "# Replace None with appropriate code\n",
    "simple_model = sm.OLS(endog = y, exog = sm.add_constant(X))\n",
    "\n",
    "simple_model_results = simple_model.fit()\n",
    "print(simple_model_results.summary())"
   ]
  },
  {
   "cell_type": "code",
<<<<<<< HEAD
   "execution_count": 33,
=======
   "execution_count": 41,
>>>>>>> add
   "metadata": {},
   "outputs": [],
   "source": [
    "from sklearn.model_selection import train_test_split\n",
    "X_train, X_test, y_train, y_test = train_test_split(X, y, test_size = 0.2, random_state = 0)"
   ]
  },
  {
   "cell_type": "code",
<<<<<<< HEAD
   "execution_count": 34,
=======
   "execution_count": 42,
>>>>>>> add
   "metadata": {},
   "outputs": [
    {
     "data": {
      "text/plain": [
       "LinearRegression()"
      ]
     },
<<<<<<< HEAD
     "execution_count": 34,
=======
     "execution_count": 42,
>>>>>>> add
     "metadata": {},
     "output_type": "execute_result"
    }
   ],
   "source": [
    "from sklearn.linear_model import LinearRegression\n",
    "regressor = LinearRegression()\n",
    "regressor.fit(X_train, y_train)"
   ]
  },
  {
   "cell_type": "code",
<<<<<<< HEAD
   "execution_count": 35,
=======
   "execution_count": 43,
>>>>>>> add
   "metadata": {},
   "outputs": [],
   "source": [
    "y_pred = regressor.predict(X_test)"
   ]
  },
  {
   "cell_type": "code",
<<<<<<< HEAD
   "execution_count": 36,
=======
   "execution_count": 44,
>>>>>>> add
   "metadata": {},
   "outputs": [
    {
     "data": {
      "image/png": "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\n",
      "text/plain": [
       "<Figure size 432x288 with 1 Axes>"
      ]
     },
     "metadata": {
      "needs_background": "light"
     },
     "output_type": "display_data"
    }
   ],
   "source": [
    "plt.scatter(X_train, y_train, color = 'g')\n",
    "plt.plot(X_test, y_pred, color = 'k')\n",
    "plt.show()"
   ]
  },
  {
   "cell_type": "markdown",
   "metadata": {},
   "source": [
    "## Multiple Linear Regression - Model 1 Baseline"
   ]
  },
  {
   "cell_type": "code",
   "execution_count": 37,
   "metadata": {},
   "outputs": [],
   "source": [
    "from sklearn.model_selection import train_test_split\n",
    "from sklearn.preprocessing import OneHotEncoder, StandardScaler, OrdinalEncoder, PolynomialFeatures, MinMaxScaler\n",
    "from sklearn.linear_model import LinearRegression\n",
    "import statsmodels.api as sm\n",
    "from sklearn.metrics import r2_score, mean_squared_error, mean_absolute_error"
   ]
  },
  {
   "cell_type": "code",
   "execution_count": 39,
   "metadata": {},
   "outputs": [],
   "source": [
    "df = housing_df2.drop(columns=['zipcode'])"
   ]
  },
  {
   "cell_type": "markdown",
   "metadata": {},
   "source": [
    "### Train-Test Split"
   ]
  },
  {
   "cell_type": "code",
   "execution_count": 40,
   "metadata": {},
   "outputs": [],
   "source": [
    "y = df['price']\n",
    "\n",
    "X = df.drop(columns=['price'],axis=1)\n",
    "\n",
    "X_train, X_test, y_train, y_test = train_test_split(X, y, test_size=0.3, random_state = 42)\n"
   ]
  },
  {
   "cell_type": "code",
   "execution_count": 41,
   "metadata": {},
   "outputs": [],
   "source": [
    "base  = ['bedrooms', 'bathrooms', 'sqft_living','sqft_above','floors',\n",
    "         'sqft_garage','sqft_patio',\"grade_code\",\"view_code\",\"condition_code\"]\n",
    "\n",
    "lr = LinearRegression()\n",
    "\n",
    "results = lr.fit(X_train[base], y_train)"
   ]
  },
  {
   "cell_type": "markdown",
   "metadata": {},
   "source": [
    "### Model 1"
   ]
  },
  {
   "cell_type": "code",
   "execution_count": 42,
   "metadata": {},
   "outputs": [
    {
     "data": {
      "text/plain": [
       "0.47047325138060503"
      ]
     },
     "execution_count": 42,
     "metadata": {},
     "output_type": "execute_result"
    }
   ],
   "source": [
    "r_squared = lr.score(X_train[base], y_train)\n",
    "r_squared"
   ]
  },
  {
   "cell_type": "code",
   "execution_count": 43,
   "metadata": {},
   "outputs": [
    {
     "data": {
      "text/plain": [
       "0.4701096653131651"
      ]
     },
     "execution_count": 43,
     "metadata": {},
     "output_type": "execute_result"
    }
   ],
   "source": [
    "adj_r2 = 1 - (1-r_squared) * ((len(y)-1)/(len(y)-X_train.shape[1]-1))\n",
    "adj_r2"
   ]
  },
  {
   "cell_type": "code",
   "execution_count": 44,
   "metadata": {},
   "outputs": [
    {
     "data": {
      "text/plain": [
       "0.45474227048904425"
      ]
     },
     "execution_count": 44,
     "metadata": {},
     "output_type": "execute_result"
    }
   ],
   "source": [
    "lr.score(X_test[base], y_test)"
   ]
  },
  {
   "cell_type": "code",
   "execution_count": 45,
   "metadata": {},
   "outputs": [
    {
     "name": "stdout",
     "output_type": "stream",
     "text": [
      "Mean Absolute Error = 365919.02365865937 USD\n",
      "Root Mean Square Error = 657370.0637888432 USD\n"
     ]
    }
   ],
   "source": [
    "y_pred = lr.predict(X_test[base])\n",
    "\n",
    "MAE = mean_absolute_error(y_test, y_pred)\n",
    "print('Mean Absolute Error =', MAE,'USD')\n",
    "\n",
    "RMSE = mean_squared_error(y_test, y_pred, squared = False)\n",
    "print('Root Mean Square Error =', RMSE,'USD')"
   ]
  },
  {
   "cell_type": "code",
   "execution_count": 46,
   "metadata": {},
   "outputs": [
    {
     "data": {
      "image/png": "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\n",
      "text/plain": [
       "<Figure size 720x576 with 12 Axes>"
      ]
     },
     "metadata": {
      "needs_background": "light"
     },
     "output_type": "display_data"
    }
   ],
   "source": [
    "df[['bedrooms', 'bathrooms', 'sqft_living', 'floors', 'sqft_above','sqft_garage',\n",
    "    'sqft_patio',\"grade_code\",\"view_code\",\"condition_code\"]].hist(figsize=(10,8))\n",
    "plt.tight_layout();"
   ]
  },
  {
   "cell_type": "code",
   "execution_count": null,
   "metadata": {},
   "outputs": [],
   "source": []
  }
 ],
 "metadata": {
  "kernelspec": {
   "display_name": "Python 3",
   "language": "python",
   "name": "python3"
  },
  "language_info": {
   "codemirror_mode": {
    "name": "ipython",
    "version": 3
   },
   "file_extension": ".py",
   "mimetype": "text/x-python",
   "name": "python",
   "nbconvert_exporter": "python",
   "pygments_lexer": "ipython3",
   "version": "3.8.5"
  }
 },
 "nbformat": 4,
 "nbformat_minor": 5
}
