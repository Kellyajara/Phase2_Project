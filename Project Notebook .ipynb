{
 "cells": [
  {
   "cell_type": "markdown",
   "id": "f251b0f7",
   "metadata": {},
   "source": [
    "# Imports"
   ]
  },
  {
   "cell_type": "code",
   "execution_count": 1,
   "id": "2c3a0eb7",
   "metadata": {},
   "outputs": [],
   "source": [
    "import pandas as pd\n",
    "import numpy as np\n",
    "import matplotlib.pyplot as plt \n",
    "%matplotlib inline \n",
    "import seaborn as sns\n",
    "import warnings\n",
    "warnings.filterwarnings(\"ignore\")"
   ]
  },
  {
   "cell_type": "code",
   "execution_count": 20,
   "id": "36c359fd",
   "metadata": {},
   "outputs": [
    {
     "data": {
      "text/html": [
       "<div>\n",
       "<style scoped>\n",
       "    .dataframe tbody tr th:only-of-type {\n",
       "        vertical-align: middle;\n",
       "    }\n",
       "\n",
       "    .dataframe tbody tr th {\n",
       "        vertical-align: top;\n",
       "    }\n",
       "\n",
       "    .dataframe thead th {\n",
       "        text-align: right;\n",
       "    }\n",
       "</style>\n",
       "<table border=\"1\" class=\"dataframe\">\n",
       "  <thead>\n",
       "    <tr style=\"text-align: right;\">\n",
       "      <th></th>\n",
       "      <th>id</th>\n",
       "      <th>date</th>\n",
       "      <th>price</th>\n",
       "      <th>bedrooms</th>\n",
       "      <th>bathrooms</th>\n",
       "      <th>sqft_living</th>\n",
       "      <th>sqft_lot</th>\n",
       "      <th>floors</th>\n",
       "      <th>waterfront</th>\n",
       "      <th>greenbelt</th>\n",
       "      <th>...</th>\n",
       "      <th>sewer_system</th>\n",
       "      <th>sqft_above</th>\n",
       "      <th>sqft_basement</th>\n",
       "      <th>sqft_garage</th>\n",
       "      <th>sqft_patio</th>\n",
       "      <th>yr_built</th>\n",
       "      <th>yr_renovated</th>\n",
       "      <th>address</th>\n",
       "      <th>lat</th>\n",
       "      <th>long</th>\n",
       "    </tr>\n",
       "  </thead>\n",
       "  <tbody>\n",
       "    <tr>\n",
       "      <th>0</th>\n",
       "      <td>7399300360</td>\n",
       "      <td>5/24/2022</td>\n",
       "      <td>675000.0</td>\n",
       "      <td>4</td>\n",
       "      <td>1.0</td>\n",
       "      <td>1180</td>\n",
       "      <td>7140</td>\n",
       "      <td>1.0</td>\n",
       "      <td>NO</td>\n",
       "      <td>NO</td>\n",
       "      <td>...</td>\n",
       "      <td>PUBLIC</td>\n",
       "      <td>1180</td>\n",
       "      <td>0</td>\n",
       "      <td>0</td>\n",
       "      <td>40</td>\n",
       "      <td>1969</td>\n",
       "      <td>0</td>\n",
       "      <td>2102 Southeast 21st Court, Renton, Washington ...</td>\n",
       "      <td>47.461975</td>\n",
       "      <td>-122.19052</td>\n",
       "    </tr>\n",
       "    <tr>\n",
       "      <th>1</th>\n",
       "      <td>8910500230</td>\n",
       "      <td>12/13/2021</td>\n",
       "      <td>920000.0</td>\n",
       "      <td>5</td>\n",
       "      <td>2.5</td>\n",
       "      <td>2770</td>\n",
       "      <td>6703</td>\n",
       "      <td>1.0</td>\n",
       "      <td>NO</td>\n",
       "      <td>NO</td>\n",
       "      <td>...</td>\n",
       "      <td>PUBLIC</td>\n",
       "      <td>1570</td>\n",
       "      <td>1570</td>\n",
       "      <td>0</td>\n",
       "      <td>240</td>\n",
       "      <td>1950</td>\n",
       "      <td>0</td>\n",
       "      <td>11231 Greenwood Avenue North, Seattle, Washing...</td>\n",
       "      <td>47.711525</td>\n",
       "      <td>-122.35591</td>\n",
       "    </tr>\n",
       "    <tr>\n",
       "      <th>2</th>\n",
       "      <td>1180000275</td>\n",
       "      <td>9/29/2021</td>\n",
       "      <td>311000.0</td>\n",
       "      <td>6</td>\n",
       "      <td>2.0</td>\n",
       "      <td>2880</td>\n",
       "      <td>6156</td>\n",
       "      <td>1.0</td>\n",
       "      <td>NO</td>\n",
       "      <td>NO</td>\n",
       "      <td>...</td>\n",
       "      <td>PUBLIC</td>\n",
       "      <td>1580</td>\n",
       "      <td>1580</td>\n",
       "      <td>0</td>\n",
       "      <td>0</td>\n",
       "      <td>1956</td>\n",
       "      <td>0</td>\n",
       "      <td>8504 South 113th Street, Seattle, Washington 9...</td>\n",
       "      <td>47.502045</td>\n",
       "      <td>-122.22520</td>\n",
       "    </tr>\n",
       "    <tr>\n",
       "      <th>3</th>\n",
       "      <td>1604601802</td>\n",
       "      <td>12/14/2021</td>\n",
       "      <td>775000.0</td>\n",
       "      <td>3</td>\n",
       "      <td>3.0</td>\n",
       "      <td>2160</td>\n",
       "      <td>1400</td>\n",
       "      <td>2.0</td>\n",
       "      <td>NO</td>\n",
       "      <td>NO</td>\n",
       "      <td>...</td>\n",
       "      <td>PUBLIC</td>\n",
       "      <td>1090</td>\n",
       "      <td>1070</td>\n",
       "      <td>200</td>\n",
       "      <td>270</td>\n",
       "      <td>2010</td>\n",
       "      <td>0</td>\n",
       "      <td>4079 Letitia Avenue South, Seattle, Washington...</td>\n",
       "      <td>47.566110</td>\n",
       "      <td>-122.29020</td>\n",
       "    </tr>\n",
       "    <tr>\n",
       "      <th>4</th>\n",
       "      <td>8562780790</td>\n",
       "      <td>8/24/2021</td>\n",
       "      <td>592500.0</td>\n",
       "      <td>2</td>\n",
       "      <td>2.0</td>\n",
       "      <td>1120</td>\n",
       "      <td>758</td>\n",
       "      <td>2.0</td>\n",
       "      <td>NO</td>\n",
       "      <td>NO</td>\n",
       "      <td>...</td>\n",
       "      <td>PUBLIC</td>\n",
       "      <td>1120</td>\n",
       "      <td>550</td>\n",
       "      <td>550</td>\n",
       "      <td>30</td>\n",
       "      <td>2012</td>\n",
       "      <td>0</td>\n",
       "      <td>2193 Northwest Talus Drive, Issaquah, Washingt...</td>\n",
       "      <td>47.532470</td>\n",
       "      <td>-122.07188</td>\n",
       "    </tr>\n",
       "  </tbody>\n",
       "</table>\n",
       "<p>5 rows × 25 columns</p>\n",
       "</div>"
      ],
      "text/plain": [
       "           id        date     price  bedrooms  bathrooms  sqft_living  \\\n",
       "0  7399300360   5/24/2022  675000.0         4        1.0         1180   \n",
       "1  8910500230  12/13/2021  920000.0         5        2.5         2770   \n",
       "2  1180000275   9/29/2021  311000.0         6        2.0         2880   \n",
       "3  1604601802  12/14/2021  775000.0         3        3.0         2160   \n",
       "4  8562780790   8/24/2021  592500.0         2        2.0         1120   \n",
       "\n",
       "   sqft_lot  floors waterfront greenbelt  ... sewer_system sqft_above  \\\n",
       "0      7140     1.0         NO        NO  ...       PUBLIC       1180   \n",
       "1      6703     1.0         NO        NO  ...       PUBLIC       1570   \n",
       "2      6156     1.0         NO        NO  ...       PUBLIC       1580   \n",
       "3      1400     2.0         NO        NO  ...       PUBLIC       1090   \n",
       "4       758     2.0         NO        NO  ...       PUBLIC       1120   \n",
       "\n",
       "  sqft_basement sqft_garage sqft_patio yr_built  yr_renovated  \\\n",
       "0             0           0         40     1969             0   \n",
       "1          1570           0        240     1950             0   \n",
       "2          1580           0          0     1956             0   \n",
       "3          1070         200        270     2010             0   \n",
       "4           550         550         30     2012             0   \n",
       "\n",
       "                                             address        lat       long  \n",
       "0  2102 Southeast 21st Court, Renton, Washington ...  47.461975 -122.19052  \n",
       "1  11231 Greenwood Avenue North, Seattle, Washing...  47.711525 -122.35591  \n",
       "2  8504 South 113th Street, Seattle, Washington 9...  47.502045 -122.22520  \n",
       "3  4079 Letitia Avenue South, Seattle, Washington...  47.566110 -122.29020  \n",
       "4  2193 Northwest Talus Drive, Issaquah, Washingt...  47.532470 -122.07188  \n",
       "\n",
       "[5 rows x 25 columns]"
      ]
     },
     "execution_count": 20,
     "metadata": {},
     "output_type": "execute_result"
    }
   ],
   "source": [
    "housing_df= pd.read_csv('data/kc_house_data.csv')\n",
    "housing_df.head()"
   ]
  },
  {
   "cell_type": "markdown",
   "id": "7cf270f4",
   "metadata": {},
   "source": [
    "# Finding and Removing Null Values"
   ]
  },
  {
   "cell_type": "code",
   "execution_count": 21,
   "id": "72f1a548",
   "metadata": {},
   "outputs": [
    {
     "data": {
      "text/plain": [
       "id                0\n",
       "date              0\n",
       "price             0\n",
       "bedrooms          0\n",
       "bathrooms         0\n",
       "sqft_living       0\n",
       "sqft_lot          0\n",
       "floors            0\n",
       "waterfront        0\n",
       "greenbelt         0\n",
       "nuisance          0\n",
       "view              0\n",
       "condition         0\n",
       "grade             0\n",
       "heat_source      32\n",
       "sewer_system     14\n",
       "sqft_above        0\n",
       "sqft_basement     0\n",
       "sqft_garage       0\n",
       "sqft_patio        0\n",
       "yr_built          0\n",
       "yr_renovated      0\n",
       "address           0\n",
       "lat               0\n",
       "long              0\n",
       "dtype: int64"
      ]
     },
     "execution_count": 21,
     "metadata": {},
     "output_type": "execute_result"
    }
   ],
   "source": [
    "housing_df.isna().sum()"
   ]
  },
  {
   "cell_type": "code",
   "execution_count": 22,
   "id": "103ad955",
   "metadata": {},
   "outputs": [],
   "source": [
    "housing_df.dropna(inplace = True)"
   ]
  },
  {
   "cell_type": "code",
   "execution_count": 23,
   "id": "b992f99e",
   "metadata": {},
   "outputs": [
    {
     "name": "stdout",
     "output_type": "stream",
     "text": [
      "<class 'pandas.core.frame.DataFrame'>\n",
      "Int64Index: 30111 entries, 0 to 30154\n",
      "Data columns (total 25 columns):\n",
      " #   Column         Non-Null Count  Dtype  \n",
      "---  ------         --------------  -----  \n",
      " 0   id             30111 non-null  int64  \n",
      " 1   date           30111 non-null  object \n",
      " 2   price          30111 non-null  float64\n",
      " 3   bedrooms       30111 non-null  int64  \n",
      " 4   bathrooms      30111 non-null  float64\n",
      " 5   sqft_living    30111 non-null  int64  \n",
      " 6   sqft_lot       30111 non-null  int64  \n",
      " 7   floors         30111 non-null  float64\n",
      " 8   waterfront     30111 non-null  object \n",
      " 9   greenbelt      30111 non-null  object \n",
      " 10  nuisance       30111 non-null  object \n",
      " 11  view           30111 non-null  object \n",
      " 12  condition      30111 non-null  object \n",
      " 13  grade          30111 non-null  object \n",
      " 14  heat_source    30111 non-null  object \n",
      " 15  sewer_system   30111 non-null  object \n",
      " 16  sqft_above     30111 non-null  int64  \n",
      " 17  sqft_basement  30111 non-null  int64  \n",
      " 18  sqft_garage    30111 non-null  int64  \n",
      " 19  sqft_patio     30111 non-null  int64  \n",
      " 20  yr_built       30111 non-null  int64  \n",
      " 21  yr_renovated   30111 non-null  int64  \n",
      " 22  address        30111 non-null  object \n",
      " 23  lat            30111 non-null  float64\n",
      " 24  long           30111 non-null  float64\n",
      "dtypes: float64(5), int64(10), object(10)\n",
      "memory usage: 6.0+ MB\n"
     ]
    }
   ],
   "source": [
    "housing_df.info()"
   ]
  },
  {
   "cell_type": "code",
   "execution_count": 24,
   "id": "0345f3e0",
   "metadata": {},
   "outputs": [
    {
     "data": {
      "text/plain": [
       "Average      18515\n",
       "Good          8052\n",
       "Very Good     3258\n",
       "Fair           225\n",
       "Poor            61\n",
       "Name: condition, dtype: int64"
      ]
     },
     "execution_count": 24,
     "metadata": {},
     "output_type": "execute_result"
    }
   ],
   "source": [
    "housing_df['condition'].value_counts()"
   ]
  },
  {
   "cell_type": "code",
   "execution_count": 25,
   "id": "7d145a8c",
   "metadata": {},
   "outputs": [
    {
     "data": {
      "text/plain": [
       "7 Average        11693\n",
       "8 Good            9400\n",
       "9 Better          3804\n",
       "6 Low Average     2852\n",
       "10 Very Good      1369\n",
       "11 Excellent       406\n",
       "5 Fair             385\n",
       "12 Luxury          122\n",
       "4 Low               46\n",
       "13 Mansion          24\n",
       "3 Poor               9\n",
       "2 Substandard        1\n",
       "Name: grade, dtype: int64"
      ]
     },
     "execution_count": 25,
     "metadata": {},
     "output_type": "execute_result"
    }
   ],
   "source": [
    "housing_df['grade'].value_counts()"
   ]
  },
  {
   "cell_type": "markdown",
   "id": "4d7793f3",
   "metadata": {},
   "source": [
    "# Creating a new column with zipcodes"
   ]
  },
  {
   "cell_type": "code",
   "execution_count": 26,
   "id": "6029af41",
   "metadata": {},
   "outputs": [
    {
     "data": {
      "text/plain": [
       "Avenue, 108 Foothill Blvd, Rancho Cucamonga, California 91730, United States    38\n",
       "Delridge Way Southwest, Seattle, Washington 98106, United States                24\n",
       "9th Ave, Nebraska City, Nebraska 68410, United States                           21\n",
       "South 35th Avenue, Bellevue, Nebraska 68123, United States                      20\n",
       "15th Avenue, Plattsmouth, Nebraska 68048, United States                         17\n",
       "                                                                                ..\n",
       "2448 East Valley Street, Seattle, Washington 98112, United States                1\n",
       "13719 Southeast 256th Place, Kent, Washington 98042, United States               1\n",
       "1029 Northeast 69th Street, Seattle, Washington 98115, United States             1\n",
       "15227 116th Place Northeast, Kirkland, Washington 98034, United States           1\n",
       "11811 Northeast 34th Street, Bellevue, Washington 98005, United States           1\n",
       "Name: address, Length: 29519, dtype: int64"
      ]
     },
     "execution_count": 26,
     "metadata": {},
     "output_type": "execute_result"
    }
   ],
   "source": [
    "housing_df['address'].value_counts()"
   ]
  },
  {
   "cell_type": "code",
   "execution_count": 27,
   "id": "84502a77",
   "metadata": {},
   "outputs": [],
   "source": [
    "housing_df['zipcode'] = housing_df['address'].str.findall(r'([0-9]\\d+)').apply(\n",
    "    lambda x: x[-1] if len(x) >= 1 else '')\n",
    "housing_df['zipcode'] = housing_df['zipcode'].astype(int)"
   ]
  },
  {
   "cell_type": "code",
   "execution_count": 28,
   "id": "15ead416",
   "metadata": {},
   "outputs": [],
   "source": [
    "housing_df = housing_df.drop(columns =['id', 'address', 'date', 'yr_renovated'], axis = 1 )"
   ]
  },
  {
   "cell_type": "code",
   "execution_count": 29,
   "id": "9ec73cbe",
   "metadata": {},
   "outputs": [
    {
     "data": {
      "text/html": [
       "<div>\n",
       "<style scoped>\n",
       "    .dataframe tbody tr th:only-of-type {\n",
       "        vertical-align: middle;\n",
       "    }\n",
       "\n",
       "    .dataframe tbody tr th {\n",
       "        vertical-align: top;\n",
       "    }\n",
       "\n",
       "    .dataframe thead th {\n",
       "        text-align: right;\n",
       "    }\n",
       "</style>\n",
       "<table border=\"1\" class=\"dataframe\">\n",
       "  <thead>\n",
       "    <tr style=\"text-align: right;\">\n",
       "      <th></th>\n",
       "      <th>price</th>\n",
       "      <th>bedrooms</th>\n",
       "      <th>bathrooms</th>\n",
       "      <th>sqft_living</th>\n",
       "      <th>sqft_lot</th>\n",
       "      <th>floors</th>\n",
       "      <th>waterfront</th>\n",
       "      <th>greenbelt</th>\n",
       "      <th>nuisance</th>\n",
       "      <th>view</th>\n",
       "      <th>...</th>\n",
       "      <th>heat_source</th>\n",
       "      <th>sewer_system</th>\n",
       "      <th>sqft_above</th>\n",
       "      <th>sqft_basement</th>\n",
       "      <th>sqft_garage</th>\n",
       "      <th>sqft_patio</th>\n",
       "      <th>yr_built</th>\n",
       "      <th>lat</th>\n",
       "      <th>long</th>\n",
       "      <th>zipcode</th>\n",
       "    </tr>\n",
       "  </thead>\n",
       "  <tbody>\n",
       "    <tr>\n",
       "      <th>0</th>\n",
       "      <td>675000.0</td>\n",
       "      <td>4</td>\n",
       "      <td>1.0</td>\n",
       "      <td>1180</td>\n",
       "      <td>7140</td>\n",
       "      <td>1.0</td>\n",
       "      <td>NO</td>\n",
       "      <td>NO</td>\n",
       "      <td>NO</td>\n",
       "      <td>NONE</td>\n",
       "      <td>...</td>\n",
       "      <td>Gas</td>\n",
       "      <td>PUBLIC</td>\n",
       "      <td>1180</td>\n",
       "      <td>0</td>\n",
       "      <td>0</td>\n",
       "      <td>40</td>\n",
       "      <td>1969</td>\n",
       "      <td>47.461975</td>\n",
       "      <td>-122.19052</td>\n",
       "      <td>98055</td>\n",
       "    </tr>\n",
       "    <tr>\n",
       "      <th>1</th>\n",
       "      <td>920000.0</td>\n",
       "      <td>5</td>\n",
       "      <td>2.5</td>\n",
       "      <td>2770</td>\n",
       "      <td>6703</td>\n",
       "      <td>1.0</td>\n",
       "      <td>NO</td>\n",
       "      <td>NO</td>\n",
       "      <td>YES</td>\n",
       "      <td>AVERAGE</td>\n",
       "      <td>...</td>\n",
       "      <td>Oil</td>\n",
       "      <td>PUBLIC</td>\n",
       "      <td>1570</td>\n",
       "      <td>1570</td>\n",
       "      <td>0</td>\n",
       "      <td>240</td>\n",
       "      <td>1950</td>\n",
       "      <td>47.711525</td>\n",
       "      <td>-122.35591</td>\n",
       "      <td>98133</td>\n",
       "    </tr>\n",
       "    <tr>\n",
       "      <th>2</th>\n",
       "      <td>311000.0</td>\n",
       "      <td>6</td>\n",
       "      <td>2.0</td>\n",
       "      <td>2880</td>\n",
       "      <td>6156</td>\n",
       "      <td>1.0</td>\n",
       "      <td>NO</td>\n",
       "      <td>NO</td>\n",
       "      <td>NO</td>\n",
       "      <td>AVERAGE</td>\n",
       "      <td>...</td>\n",
       "      <td>Gas</td>\n",
       "      <td>PUBLIC</td>\n",
       "      <td>1580</td>\n",
       "      <td>1580</td>\n",
       "      <td>0</td>\n",
       "      <td>0</td>\n",
       "      <td>1956</td>\n",
       "      <td>47.502045</td>\n",
       "      <td>-122.22520</td>\n",
       "      <td>98178</td>\n",
       "    </tr>\n",
       "    <tr>\n",
       "      <th>3</th>\n",
       "      <td>775000.0</td>\n",
       "      <td>3</td>\n",
       "      <td>3.0</td>\n",
       "      <td>2160</td>\n",
       "      <td>1400</td>\n",
       "      <td>2.0</td>\n",
       "      <td>NO</td>\n",
       "      <td>NO</td>\n",
       "      <td>NO</td>\n",
       "      <td>AVERAGE</td>\n",
       "      <td>...</td>\n",
       "      <td>Gas</td>\n",
       "      <td>PUBLIC</td>\n",
       "      <td>1090</td>\n",
       "      <td>1070</td>\n",
       "      <td>200</td>\n",
       "      <td>270</td>\n",
       "      <td>2010</td>\n",
       "      <td>47.566110</td>\n",
       "      <td>-122.29020</td>\n",
       "      <td>98118</td>\n",
       "    </tr>\n",
       "    <tr>\n",
       "      <th>4</th>\n",
       "      <td>592500.0</td>\n",
       "      <td>2</td>\n",
       "      <td>2.0</td>\n",
       "      <td>1120</td>\n",
       "      <td>758</td>\n",
       "      <td>2.0</td>\n",
       "      <td>NO</td>\n",
       "      <td>NO</td>\n",
       "      <td>YES</td>\n",
       "      <td>NONE</td>\n",
       "      <td>...</td>\n",
       "      <td>Electricity</td>\n",
       "      <td>PUBLIC</td>\n",
       "      <td>1120</td>\n",
       "      <td>550</td>\n",
       "      <td>550</td>\n",
       "      <td>30</td>\n",
       "      <td>2012</td>\n",
       "      <td>47.532470</td>\n",
       "      <td>-122.07188</td>\n",
       "      <td>98027</td>\n",
       "    </tr>\n",
       "    <tr>\n",
       "      <th>...</th>\n",
       "      <td>...</td>\n",
       "      <td>...</td>\n",
       "      <td>...</td>\n",
       "      <td>...</td>\n",
       "      <td>...</td>\n",
       "      <td>...</td>\n",
       "      <td>...</td>\n",
       "      <td>...</td>\n",
       "      <td>...</td>\n",
       "      <td>...</td>\n",
       "      <td>...</td>\n",
       "      <td>...</td>\n",
       "      <td>...</td>\n",
       "      <td>...</td>\n",
       "      <td>...</td>\n",
       "      <td>...</td>\n",
       "      <td>...</td>\n",
       "      <td>...</td>\n",
       "      <td>...</td>\n",
       "      <td>...</td>\n",
       "      <td>...</td>\n",
       "    </tr>\n",
       "    <tr>\n",
       "      <th>30150</th>\n",
       "      <td>1555000.0</td>\n",
       "      <td>5</td>\n",
       "      <td>2.0</td>\n",
       "      <td>1910</td>\n",
       "      <td>4000</td>\n",
       "      <td>1.5</td>\n",
       "      <td>NO</td>\n",
       "      <td>NO</td>\n",
       "      <td>NO</td>\n",
       "      <td>NONE</td>\n",
       "      <td>...</td>\n",
       "      <td>Oil</td>\n",
       "      <td>PUBLIC</td>\n",
       "      <td>1600</td>\n",
       "      <td>1130</td>\n",
       "      <td>0</td>\n",
       "      <td>210</td>\n",
       "      <td>1921</td>\n",
       "      <td>47.664740</td>\n",
       "      <td>-122.32940</td>\n",
       "      <td>98103</td>\n",
       "    </tr>\n",
       "    <tr>\n",
       "      <th>30151</th>\n",
       "      <td>1313000.0</td>\n",
       "      <td>3</td>\n",
       "      <td>2.0</td>\n",
       "      <td>2020</td>\n",
       "      <td>5800</td>\n",
       "      <td>2.0</td>\n",
       "      <td>NO</td>\n",
       "      <td>NO</td>\n",
       "      <td>NO</td>\n",
       "      <td>FAIR</td>\n",
       "      <td>...</td>\n",
       "      <td>Gas</td>\n",
       "      <td>PUBLIC</td>\n",
       "      <td>2020</td>\n",
       "      <td>0</td>\n",
       "      <td>0</td>\n",
       "      <td>520</td>\n",
       "      <td>2011</td>\n",
       "      <td>47.565610</td>\n",
       "      <td>-122.38851</td>\n",
       "      <td>98116</td>\n",
       "    </tr>\n",
       "    <tr>\n",
       "      <th>30152</th>\n",
       "      <td>800000.0</td>\n",
       "      <td>3</td>\n",
       "      <td>2.0</td>\n",
       "      <td>1620</td>\n",
       "      <td>3600</td>\n",
       "      <td>1.0</td>\n",
       "      <td>NO</td>\n",
       "      <td>NO</td>\n",
       "      <td>YES</td>\n",
       "      <td>NONE</td>\n",
       "      <td>...</td>\n",
       "      <td>Gas</td>\n",
       "      <td>PUBLIC</td>\n",
       "      <td>940</td>\n",
       "      <td>920</td>\n",
       "      <td>240</td>\n",
       "      <td>110</td>\n",
       "      <td>1995</td>\n",
       "      <td>47.610395</td>\n",
       "      <td>-122.29585</td>\n",
       "      <td>98122</td>\n",
       "    </tr>\n",
       "    <tr>\n",
       "      <th>30153</th>\n",
       "      <td>775000.0</td>\n",
       "      <td>3</td>\n",
       "      <td>2.5</td>\n",
       "      <td>2570</td>\n",
       "      <td>2889</td>\n",
       "      <td>2.0</td>\n",
       "      <td>NO</td>\n",
       "      <td>NO</td>\n",
       "      <td>NO</td>\n",
       "      <td>NONE</td>\n",
       "      <td>...</td>\n",
       "      <td>Gas</td>\n",
       "      <td>PUBLIC</td>\n",
       "      <td>1830</td>\n",
       "      <td>740</td>\n",
       "      <td>480</td>\n",
       "      <td>100</td>\n",
       "      <td>2006</td>\n",
       "      <td>47.449490</td>\n",
       "      <td>-122.18908</td>\n",
       "      <td>98055</td>\n",
       "    </tr>\n",
       "    <tr>\n",
       "      <th>30154</th>\n",
       "      <td>500000.0</td>\n",
       "      <td>3</td>\n",
       "      <td>1.5</td>\n",
       "      <td>1200</td>\n",
       "      <td>11058</td>\n",
       "      <td>1.0</td>\n",
       "      <td>NO</td>\n",
       "      <td>NO</td>\n",
       "      <td>NO</td>\n",
       "      <td>NONE</td>\n",
       "      <td>...</td>\n",
       "      <td>Oil</td>\n",
       "      <td>PUBLIC</td>\n",
       "      <td>1200</td>\n",
       "      <td>0</td>\n",
       "      <td>420</td>\n",
       "      <td>0</td>\n",
       "      <td>1965</td>\n",
       "      <td>47.435840</td>\n",
       "      <td>-122.32634</td>\n",
       "      <td>98148</td>\n",
       "    </tr>\n",
       "  </tbody>\n",
       "</table>\n",
       "<p>30111 rows × 22 columns</p>\n",
       "</div>"
      ],
      "text/plain": [
       "           price  bedrooms  bathrooms  sqft_living  sqft_lot  floors  \\\n",
       "0       675000.0         4        1.0         1180      7140     1.0   \n",
       "1       920000.0         5        2.5         2770      6703     1.0   \n",
       "2       311000.0         6        2.0         2880      6156     1.0   \n",
       "3       775000.0         3        3.0         2160      1400     2.0   \n",
       "4       592500.0         2        2.0         1120       758     2.0   \n",
       "...          ...       ...        ...          ...       ...     ...   \n",
       "30150  1555000.0         5        2.0         1910      4000     1.5   \n",
       "30151  1313000.0         3        2.0         2020      5800     2.0   \n",
       "30152   800000.0         3        2.0         1620      3600     1.0   \n",
       "30153   775000.0         3        2.5         2570      2889     2.0   \n",
       "30154   500000.0         3        1.5         1200     11058     1.0   \n",
       "\n",
       "      waterfront greenbelt nuisance     view  ...  heat_source sewer_system  \\\n",
       "0             NO        NO       NO     NONE  ...          Gas       PUBLIC   \n",
       "1             NO        NO      YES  AVERAGE  ...          Oil       PUBLIC   \n",
       "2             NO        NO       NO  AVERAGE  ...          Gas       PUBLIC   \n",
       "3             NO        NO       NO  AVERAGE  ...          Gas       PUBLIC   \n",
       "4             NO        NO      YES     NONE  ...  Electricity       PUBLIC   \n",
       "...          ...       ...      ...      ...  ...          ...          ...   \n",
       "30150         NO        NO       NO     NONE  ...          Oil       PUBLIC   \n",
       "30151         NO        NO       NO     FAIR  ...          Gas       PUBLIC   \n",
       "30152         NO        NO      YES     NONE  ...          Gas       PUBLIC   \n",
       "30153         NO        NO       NO     NONE  ...          Gas       PUBLIC   \n",
       "30154         NO        NO       NO     NONE  ...          Oil       PUBLIC   \n",
       "\n",
       "      sqft_above sqft_basement  sqft_garage  sqft_patio  yr_built        lat  \\\n",
       "0           1180             0            0          40      1969  47.461975   \n",
       "1           1570          1570            0         240      1950  47.711525   \n",
       "2           1580          1580            0           0      1956  47.502045   \n",
       "3           1090          1070          200         270      2010  47.566110   \n",
       "4           1120           550          550          30      2012  47.532470   \n",
       "...          ...           ...          ...         ...       ...        ...   \n",
       "30150       1600          1130            0         210      1921  47.664740   \n",
       "30151       2020             0            0         520      2011  47.565610   \n",
       "30152        940           920          240         110      1995  47.610395   \n",
       "30153       1830           740          480         100      2006  47.449490   \n",
       "30154       1200             0          420           0      1965  47.435840   \n",
       "\n",
       "            long  zipcode  \n",
       "0     -122.19052    98055  \n",
       "1     -122.35591    98133  \n",
       "2     -122.22520    98178  \n",
       "3     -122.29020    98118  \n",
       "4     -122.07188    98027  \n",
       "...          ...      ...  \n",
       "30150 -122.32940    98103  \n",
       "30151 -122.38851    98116  \n",
       "30152 -122.29585    98122  \n",
       "30153 -122.18908    98055  \n",
       "30154 -122.32634    98148  \n",
       "\n",
       "[30111 rows x 22 columns]"
      ]
     },
     "execution_count": 29,
     "metadata": {},
     "output_type": "execute_result"
    }
   ],
   "source": [
    "housing_df"
   ]
  },
  {
   "cell_type": "markdown",
   "id": "c38259a9",
   "metadata": {},
   "source": [
    "# Creating a new column based on condition values"
   ]
  },
  {
   "cell_type": "code",
   "execution_count": 30,
   "id": "84555dcf",
   "metadata": {},
   "outputs": [
    {
     "data": {
      "text/plain": [
       "Average      18515\n",
       "Good          8052\n",
       "Very Good     3258\n",
       "Fair           225\n",
       "Poor            61\n",
       "Name: condition, dtype: int64"
      ]
     },
     "execution_count": 30,
     "metadata": {},
     "output_type": "execute_result"
    }
   ],
   "source": [
    "housing_df['condition'].value_counts()"
   ]
  },
  {
   "cell_type": "code",
   "execution_count": 31,
   "id": "5f10b227",
   "metadata": {},
   "outputs": [],
   "source": [
    "housing_df[\"condition\"] = housing_df[\"condition\"].astype('category')\n",
    "housing_df[\"condition\"] = housing_df[\"condition\"].cat.reorder_categories(\n",
    "    [\"Poor\",\"Fair\",\"Average\",\"Good\",\"Very Good\"])"
   ]
  },
  {
   "cell_type": "code",
   "execution_count": 32,
   "id": "2e7aa088",
   "metadata": {},
   "outputs": [
    {
     "data": {
      "text/plain": [
       "2    18515\n",
       "3     8052\n",
       "4     3258\n",
       "1      225\n",
       "0       61\n",
       "Name: condition_code, dtype: int64"
      ]
     },
     "execution_count": 32,
     "metadata": {},
     "output_type": "execute_result"
    }
   ],
   "source": [
    "housing_df[\"condition_code\"] = housing_df[\"condition\"].cat.codes\n",
    "housing_df[\"condition_code\"].value_counts()"
   ]
  },
  {
   "cell_type": "markdown",
   "id": "17582367",
   "metadata": {},
   "source": [
    "# Splitting string and numerical value form the grades column. Creating a new column with grades numerical value"
   ]
  },
  {
   "cell_type": "code",
   "execution_count": 36,
   "id": "76d41585",
   "metadata": {},
   "outputs": [
    {
     "data": {
      "text/plain": [
       "array(['7 Average', '9 Better', '8 Good', '6 Low Average', '10 Very Good',\n",
       "       '5 Fair', '11 Excellent', '12 Luxury', '4 Low', '13 Mansion',\n",
       "       '3 Poor', '2 Substandard'], dtype=object)"
      ]
     },
     "execution_count": 36,
     "metadata": {},
     "output_type": "execute_result"
    }
   ],
   "source": [
    "housing_df[\"grade\"].unique()"
   ]
  },
  {
   "cell_type": "code",
   "execution_count": 37,
   "id": "13897d36",
   "metadata": {},
   "outputs": [],
   "source": [
    "import string\n",
    "housing_df[\"grade_str\"] = housing_df[\"grade\"].str.strip(string.digits)\n",
    "housing_df[\"grade_str\"] = housing_df[\"grade_str\"].str.strip()"
   ]
  },
  {
   "cell_type": "code",
   "execution_count": 39,
   "id": "f50400f5",
   "metadata": {},
   "outputs": [
    {
     "data": {
      "text/plain": [
       "5     11693\n",
       "6      9400\n",
       "7      3804\n",
       "4      2852\n",
       "8      1369\n",
       "9       406\n",
       "3       385\n",
       "10      122\n",
       "2        46\n",
       "11       24\n",
       "1         9\n",
       "0         1\n",
       "Name: grade_code, dtype: int64"
      ]
     },
     "execution_count": 39,
     "metadata": {},
     "output_type": "execute_result"
    }
   ],
   "source": [
    "housing_df[\"grade_code\"] = housing_df[\"grade_str\"].astype('category')\n",
    "categories = ['Substandard','Poor','Low','Fair','Low Average','Average','Good','Better',\n",
    "             'Very Good','Excellent','Luxury','Mansion']\n",
    "housing_df[\"grade_code\"] = housing_df[\"grade_code\"].cat.reorder_categories(categories)\n",
    "housing_df[\"grade_code\"] = housing_df[\"grade_code\"].cat.codes\n",
    "housing_df[\"grade_code\"].value_counts()"
   ]
  },
  {
   "cell_type": "markdown",
   "id": "df495879",
   "metadata": {},
   "source": [
    "# Repeating steps above w/ view column"
   ]
  },
  {
   "cell_type": "code",
   "execution_count": 26,
   "id": "fc95b12f",
   "metadata": {},
   "outputs": [
    {
     "data": {
      "text/plain": [
       "0    26555\n",
       "2     1910\n",
       "3      877\n",
       "4      549\n",
       "1      220\n",
       "Name: view_code, dtype: int64"
      ]
     },
     "execution_count": 26,
     "metadata": {},
     "output_type": "execute_result"
    }
   ],
   "source": [
    "housing_df[\"view_code\"] = housing_df[\"view\"].astype('category')\n",
    "categories2 = [\"NONE\",\"FAIR\",\"AVERAGE\",\"GOOD\",\"EXCELLENT\"]\n",
    "housing_df[\"view_code\"] = housing_df[\"view_code\"].cat.reorder_categories(categories2)\n",
    "housing_df[\"view_code\"] = housing_df[\"view_code\"].cat.codes\n",
    "housing_df[\"view_code\"].value_counts()"
   ]
  },
  {
   "cell_type": "code",
   "execution_count": 27,
   "id": "d4b70242",
   "metadata": {},
   "outputs": [],
   "source": [
    "housing_data = housing_data.drop(columns = [\"id\",\"date\",\"condition\",\"grade\",\"grade_str\",\"waterfront\",\"view\"], axis=1)"
   ]
  },
  {
   "cell_type": "code",
   "execution_count": 28,
   "id": "474a292f",
   "metadata": {},
   "outputs": [
    {
     "data": {
      "image/png": "[encoded data removed]",
      "text/plain": [
       "<Figure size 1600x600 with 2 Axes>"
      ]
     },
     "metadata": {},
     "output_type": "display_data"
    }
   ],
   "source": [
    "plt.figure(figsize=(16, 6))\n",
    "mask = np.triu(np.ones_like(housing_data.corr(), dtype=np.bool))\n",
    "heatmap = sns.heatmap(housing_data.corr(), mask=mask, vmin=-1, vmax=1, annot=True)"
   ]
  },
  {
   "cell_type": "code",
   "execution_count": null,
   "id": "b9436afe",
   "metadata": {},
   "outputs": [],
   "source": []
  }
 ],
 "metadata": {
  "kernelspec": {
   "display_name": "Python 3 (ipykernel)",
   "language": "python",
   "name": "python3"
  },
  "language_info": {
   "codemirror_mode": {
    "name": "ipython",
    "version": 3
   },
   "file_extension": ".py",
   "mimetype": "text/x-python",
   "name": "python",
   "nbconvert_exporter": "python",
   "pygments_lexer": "ipython3",
   "version": "3.10.9"
  }
 },
 "nbformat": 4,
 "nbformat_minor": 5
}
