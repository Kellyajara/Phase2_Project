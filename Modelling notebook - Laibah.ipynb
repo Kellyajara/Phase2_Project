{
 "cells": [
  {
   "cell_type": "code",
   "execution_count": 108,
   "metadata": {
    "scrolled": true
   },
   "outputs": [],
   "source": [
    "import pandas as pd \n",
    "import numpy as np \n",
    "import seaborn as sns \n",
    "from sklearn.linear_model import LinearRegression\n",
    "from sklearn.preprocessing import StandardScaler, MinMaxScaler, OneHotEncoder\n",
    "from sklearn.model_selection import train_test_split \n",
    "from sklearn.model_selection import train_test_split\n",
    "from sklearn.preprocessing import OneHotEncoder, StandardScaler, OrdinalEncoder, PolynomialFeatures, MinMaxScaler\n",
    "from sklearn.linear_model import LinearRegression\n",
    "import statsmodels.api as sm\n",
    "from sklearn.metrics import r2_score, mean_squared_error, mean_absolute_error"
   ]
  },
  {
   "cell_type": "code",
   "execution_count": 109,
   "metadata": {},
   "outputs": [
    {
     "name": "stdout",
     "output_type": "stream",
     "text": [
      "column_names.md          housing_data_cleaned.csv kc_house_data.csv\r\n"
     ]
    }
   ],
   "source": [
    "!ls data"
   ]
  },
  {
   "cell_type": "code",
   "execution_count": 110,
   "metadata": {},
   "outputs": [],
   "source": [
    "df = pd.read_csv('data/housing_data_cleaned.csv')\n"
   ]
  },
  {
   "cell_type": "code",
   "execution_count": 111,
   "metadata": {},
   "outputs": [
    {
     "data": {
      "text/html": [
       "<div>\n",
       "<style scoped>\n",
       "    .dataframe tbody tr th:only-of-type {\n",
       "        vertical-align: middle;\n",
       "    }\n",
       "\n",
       "    .dataframe tbody tr th {\n",
       "        vertical-align: top;\n",
       "    }\n",
       "\n",
       "    .dataframe thead th {\n",
       "        text-align: right;\n",
       "    }\n",
       "</style>\n",
       "<table border=\"1\" class=\"dataframe\">\n",
       "  <thead>\n",
       "    <tr style=\"text-align: right;\">\n",
       "      <th></th>\n",
       "      <th>Unnamed: 0</th>\n",
       "      <th>date</th>\n",
       "      <th>price</th>\n",
       "      <th>bedrooms</th>\n",
       "      <th>bathrooms</th>\n",
       "      <th>sqft_living</th>\n",
       "      <th>sqft_lot</th>\n",
       "      <th>floors</th>\n",
       "      <th>waterfront</th>\n",
       "      <th>greenbelt</th>\n",
       "      <th>...</th>\n",
       "      <th>sqft_patio</th>\n",
       "      <th>yr_built</th>\n",
       "      <th>address</th>\n",
       "      <th>lat</th>\n",
       "      <th>long</th>\n",
       "      <th>zipcode</th>\n",
       "      <th>condition_code</th>\n",
       "      <th>grade_code</th>\n",
       "      <th>view_code</th>\n",
       "      <th>house_age</th>\n",
       "    </tr>\n",
       "  </thead>\n",
       "  <tbody>\n",
       "    <tr>\n",
       "      <th>0</th>\n",
       "      <td>0</td>\n",
       "      <td>5/24/2022</td>\n",
       "      <td>675000</td>\n",
       "      <td>4</td>\n",
       "      <td>1.0</td>\n",
       "      <td>1180</td>\n",
       "      <td>7140</td>\n",
       "      <td>1.0</td>\n",
       "      <td>0</td>\n",
       "      <td>0</td>\n",
       "      <td>...</td>\n",
       "      <td>40</td>\n",
       "      <td>1969</td>\n",
       "      <td>2102 Southeast 21st Court, Renton, Washington ...</td>\n",
       "      <td>47.461975</td>\n",
       "      <td>-122.19052</td>\n",
       "      <td>98055</td>\n",
       "      <td>3</td>\n",
       "      <td>5</td>\n",
       "      <td>0</td>\n",
       "      <td>53</td>\n",
       "    </tr>\n",
       "    <tr>\n",
       "      <th>1</th>\n",
       "      <td>1</td>\n",
       "      <td>12/13/2021</td>\n",
       "      <td>920000</td>\n",
       "      <td>5</td>\n",
       "      <td>2.5</td>\n",
       "      <td>2770</td>\n",
       "      <td>6703</td>\n",
       "      <td>1.0</td>\n",
       "      <td>0</td>\n",
       "      <td>0</td>\n",
       "      <td>...</td>\n",
       "      <td>240</td>\n",
       "      <td>1950</td>\n",
       "      <td>11231 Greenwood Avenue North, Seattle, Washing...</td>\n",
       "      <td>47.711525</td>\n",
       "      <td>-122.35591</td>\n",
       "      <td>98133</td>\n",
       "      <td>2</td>\n",
       "      <td>5</td>\n",
       "      <td>2</td>\n",
       "      <td>71</td>\n",
       "    </tr>\n",
       "    <tr>\n",
       "      <th>2</th>\n",
       "      <td>2</td>\n",
       "      <td>9/29/2021</td>\n",
       "      <td>311000</td>\n",
       "      <td>6</td>\n",
       "      <td>2.0</td>\n",
       "      <td>2880</td>\n",
       "      <td>6156</td>\n",
       "      <td>1.0</td>\n",
       "      <td>0</td>\n",
       "      <td>0</td>\n",
       "      <td>...</td>\n",
       "      <td>0</td>\n",
       "      <td>1956</td>\n",
       "      <td>8504 South 113th Street, Seattle, Washington 9...</td>\n",
       "      <td>47.502045</td>\n",
       "      <td>-122.22520</td>\n",
       "      <td>98178</td>\n",
       "      <td>2</td>\n",
       "      <td>5</td>\n",
       "      <td>2</td>\n",
       "      <td>65</td>\n",
       "    </tr>\n",
       "    <tr>\n",
       "      <th>3</th>\n",
       "      <td>3</td>\n",
       "      <td>12/14/2021</td>\n",
       "      <td>775000</td>\n",
       "      <td>3</td>\n",
       "      <td>3.0</td>\n",
       "      <td>2160</td>\n",
       "      <td>1400</td>\n",
       "      <td>2.0</td>\n",
       "      <td>0</td>\n",
       "      <td>0</td>\n",
       "      <td>...</td>\n",
       "      <td>270</td>\n",
       "      <td>2010</td>\n",
       "      <td>4079 Letitia Avenue South, Seattle, Washington...</td>\n",
       "      <td>47.566110</td>\n",
       "      <td>-122.29020</td>\n",
       "      <td>98118</td>\n",
       "      <td>2</td>\n",
       "      <td>7</td>\n",
       "      <td>2</td>\n",
       "      <td>11</td>\n",
       "    </tr>\n",
       "    <tr>\n",
       "      <th>4</th>\n",
       "      <td>4</td>\n",
       "      <td>8/24/2021</td>\n",
       "      <td>592500</td>\n",
       "      <td>2</td>\n",
       "      <td>2.0</td>\n",
       "      <td>1120</td>\n",
       "      <td>758</td>\n",
       "      <td>2.0</td>\n",
       "      <td>0</td>\n",
       "      <td>0</td>\n",
       "      <td>...</td>\n",
       "      <td>30</td>\n",
       "      <td>2012</td>\n",
       "      <td>2193 Northwest Talus Drive, Issaquah, Washingt...</td>\n",
       "      <td>47.532470</td>\n",
       "      <td>-122.07188</td>\n",
       "      <td>98027</td>\n",
       "      <td>2</td>\n",
       "      <td>5</td>\n",
       "      <td>0</td>\n",
       "      <td>9</td>\n",
       "    </tr>\n",
       "    <tr>\n",
       "      <th>...</th>\n",
       "      <td>...</td>\n",
       "      <td>...</td>\n",
       "      <td>...</td>\n",
       "      <td>...</td>\n",
       "      <td>...</td>\n",
       "      <td>...</td>\n",
       "      <td>...</td>\n",
       "      <td>...</td>\n",
       "      <td>...</td>\n",
       "      <td>...</td>\n",
       "      <td>...</td>\n",
       "      <td>...</td>\n",
       "      <td>...</td>\n",
       "      <td>...</td>\n",
       "      <td>...</td>\n",
       "      <td>...</td>\n",
       "      <td>...</td>\n",
       "      <td>...</td>\n",
       "      <td>...</td>\n",
       "      <td>...</td>\n",
       "      <td>...</td>\n",
       "    </tr>\n",
       "    <tr>\n",
       "      <th>29144</th>\n",
       "      <td>30150</td>\n",
       "      <td>11/30/2021</td>\n",
       "      <td>1555000</td>\n",
       "      <td>5</td>\n",
       "      <td>2.0</td>\n",
       "      <td>1910</td>\n",
       "      <td>4000</td>\n",
       "      <td>1.5</td>\n",
       "      <td>0</td>\n",
       "      <td>0</td>\n",
       "      <td>...</td>\n",
       "      <td>210</td>\n",
       "      <td>1921</td>\n",
       "      <td>4673 Eastern Avenue North, Seattle, Washington...</td>\n",
       "      <td>47.664740</td>\n",
       "      <td>-122.32940</td>\n",
       "      <td>98103</td>\n",
       "      <td>3</td>\n",
       "      <td>6</td>\n",
       "      <td>0</td>\n",
       "      <td>100</td>\n",
       "    </tr>\n",
       "    <tr>\n",
       "      <th>29145</th>\n",
       "      <td>30151</td>\n",
       "      <td>6/16/2021</td>\n",
       "      <td>1313000</td>\n",
       "      <td>3</td>\n",
       "      <td>2.0</td>\n",
       "      <td>2020</td>\n",
       "      <td>5800</td>\n",
       "      <td>2.0</td>\n",
       "      <td>0</td>\n",
       "      <td>0</td>\n",
       "      <td>...</td>\n",
       "      <td>520</td>\n",
       "      <td>2011</td>\n",
       "      <td>4131 44th Avenue Southwest, Seattle, Washingto...</td>\n",
       "      <td>47.565610</td>\n",
       "      <td>-122.38851</td>\n",
       "      <td>98116</td>\n",
       "      <td>2</td>\n",
       "      <td>5</td>\n",
       "      <td>1</td>\n",
       "      <td>10</td>\n",
       "    </tr>\n",
       "    <tr>\n",
       "      <th>29146</th>\n",
       "      <td>30152</td>\n",
       "      <td>5/27/2022</td>\n",
       "      <td>800000</td>\n",
       "      <td>3</td>\n",
       "      <td>2.0</td>\n",
       "      <td>1620</td>\n",
       "      <td>3600</td>\n",
       "      <td>1.0</td>\n",
       "      <td>0</td>\n",
       "      <td>0</td>\n",
       "      <td>...</td>\n",
       "      <td>110</td>\n",
       "      <td>1995</td>\n",
       "      <td>910 Martin Luther King Jr Way, Seattle, Washin...</td>\n",
       "      <td>47.610395</td>\n",
       "      <td>-122.29585</td>\n",
       "      <td>98122</td>\n",
       "      <td>2</td>\n",
       "      <td>5</td>\n",
       "      <td>0</td>\n",
       "      <td>27</td>\n",
       "    </tr>\n",
       "    <tr>\n",
       "      <th>29147</th>\n",
       "      <td>30153</td>\n",
       "      <td>2/24/2022</td>\n",
       "      <td>775000</td>\n",
       "      <td>3</td>\n",
       "      <td>2.5</td>\n",
       "      <td>2570</td>\n",
       "      <td>2889</td>\n",
       "      <td>2.0</td>\n",
       "      <td>0</td>\n",
       "      <td>0</td>\n",
       "      <td>...</td>\n",
       "      <td>100</td>\n",
       "      <td>2006</td>\n",
       "      <td>17127 114th Avenue Southeast, Renton, Washingt...</td>\n",
       "      <td>47.449490</td>\n",
       "      <td>-122.18908</td>\n",
       "      <td>98055</td>\n",
       "      <td>2</td>\n",
       "      <td>6</td>\n",
       "      <td>0</td>\n",
       "      <td>16</td>\n",
       "    </tr>\n",
       "    <tr>\n",
       "      <th>29148</th>\n",
       "      <td>30154</td>\n",
       "      <td>4/29/2022</td>\n",
       "      <td>500000</td>\n",
       "      <td>3</td>\n",
       "      <td>1.5</td>\n",
       "      <td>1200</td>\n",
       "      <td>11058</td>\n",
       "      <td>1.0</td>\n",
       "      <td>0</td>\n",
       "      <td>0</td>\n",
       "      <td>...</td>\n",
       "      <td>0</td>\n",
       "      <td>1965</td>\n",
       "      <td>18615 7th Avenue South, Burien, Washington 981...</td>\n",
       "      <td>47.435840</td>\n",
       "      <td>-122.32634</td>\n",
       "      <td>98148</td>\n",
       "      <td>2</td>\n",
       "      <td>5</td>\n",
       "      <td>0</td>\n",
       "      <td>57</td>\n",
       "    </tr>\n",
       "  </tbody>\n",
       "</table>\n",
       "<p>29149 rows × 25 columns</p>\n",
       "</div>"
      ],
      "text/plain": [
       "       Unnamed: 0        date    price  bedrooms  bathrooms  sqft_living  \\\n",
       "0               0   5/24/2022   675000         4        1.0         1180   \n",
       "1               1  12/13/2021   920000         5        2.5         2770   \n",
       "2               2   9/29/2021   311000         6        2.0         2880   \n",
       "3               3  12/14/2021   775000         3        3.0         2160   \n",
       "4               4   8/24/2021   592500         2        2.0         1120   \n",
       "...           ...         ...      ...       ...        ...          ...   \n",
       "29144       30150  11/30/2021  1555000         5        2.0         1910   \n",
       "29145       30151   6/16/2021  1313000         3        2.0         2020   \n",
       "29146       30152   5/27/2022   800000         3        2.0         1620   \n",
       "29147       30153   2/24/2022   775000         3        2.5         2570   \n",
       "29148       30154   4/29/2022   500000         3        1.5         1200   \n",
       "\n",
       "       sqft_lot  floors  waterfront  greenbelt  ...  sqft_patio  yr_built  \\\n",
       "0          7140     1.0           0          0  ...          40      1969   \n",
       "1          6703     1.0           0          0  ...         240      1950   \n",
       "2          6156     1.0           0          0  ...           0      1956   \n",
       "3          1400     2.0           0          0  ...         270      2010   \n",
       "4           758     2.0           0          0  ...          30      2012   \n",
       "...         ...     ...         ...        ...  ...         ...       ...   \n",
       "29144      4000     1.5           0          0  ...         210      1921   \n",
       "29145      5800     2.0           0          0  ...         520      2011   \n",
       "29146      3600     1.0           0          0  ...         110      1995   \n",
       "29147      2889     2.0           0          0  ...         100      2006   \n",
       "29148     11058     1.0           0          0  ...           0      1965   \n",
       "\n",
       "                                                 address        lat  \\\n",
       "0      2102 Southeast 21st Court, Renton, Washington ...  47.461975   \n",
       "1      11231 Greenwood Avenue North, Seattle, Washing...  47.711525   \n",
       "2      8504 South 113th Street, Seattle, Washington 9...  47.502045   \n",
       "3      4079 Letitia Avenue South, Seattle, Washington...  47.566110   \n",
       "4      2193 Northwest Talus Drive, Issaquah, Washingt...  47.532470   \n",
       "...                                                  ...        ...   \n",
       "29144  4673 Eastern Avenue North, Seattle, Washington...  47.664740   \n",
       "29145  4131 44th Avenue Southwest, Seattle, Washingto...  47.565610   \n",
       "29146  910 Martin Luther King Jr Way, Seattle, Washin...  47.610395   \n",
       "29147  17127 114th Avenue Southeast, Renton, Washingt...  47.449490   \n",
       "29148  18615 7th Avenue South, Burien, Washington 981...  47.435840   \n",
       "\n",
       "            long  zipcode  condition_code grade_code  view_code  house_age  \n",
       "0     -122.19052    98055               3          5          0         53  \n",
       "1     -122.35591    98133               2          5          2         71  \n",
       "2     -122.22520    98178               2          5          2         65  \n",
       "3     -122.29020    98118               2          7          2         11  \n",
       "4     -122.07188    98027               2          5          0          9  \n",
       "...          ...      ...             ...        ...        ...        ...  \n",
       "29144 -122.32940    98103               3          6          0        100  \n",
       "29145 -122.38851    98116               2          5          1         10  \n",
       "29146 -122.29585    98122               2          5          0         27  \n",
       "29147 -122.18908    98055               2          6          0         16  \n",
       "29148 -122.32634    98148               2          5          0         57  \n",
       "\n",
       "[29149 rows x 25 columns]"
      ]
     },
     "execution_count": 111,
     "metadata": {},
     "output_type": "execute_result"
    }
   ],
   "source": [
    "df['house_age'] = pd.to_datetime(df['date']).dt.year - df['yr_built']\n",
    "df"
   ]
  },
  {
   "cell_type": "code",
   "execution_count": 564,
   "metadata": {},
   "outputs": [
    {
     "data": {
      "text/plain": [
       "Index(['Unnamed: 0', 'date', 'price', 'bedrooms', 'bathrooms', 'sqft_living',\n",
       "       'sqft_lot', 'floors', 'waterfront', 'greenbelt', 'nuisance',\n",
       "       'heat_source', 'sewer_system', 'sqft_above', 'sqft_garage',\n",
       "       'sqft_patio', 'yr_built', 'address', 'lat', 'long', 'zipcode',\n",
       "       'condition_code', 'grade_code', 'view_code', 'house_age'],\n",
       "      dtype='object')"
      ]
     },
     "execution_count": 564,
     "metadata": {},
     "output_type": "execute_result"
    }
   ],
   "source": [
    "df.columns"
   ]
  },
  {
   "cell_type": "code",
   "execution_count": 33,
   "metadata": {},
   "outputs": [
    {
     "data": {
      "text/plain": [
       "0    17375\n",
       "1     3023\n",
       "2        5\n",
       "3        1\n",
       "Name: sewer_system, dtype: int64"
      ]
     },
     "execution_count": 33,
     "metadata": {},
     "output_type": "execute_result"
    }
   ],
   "source": [
    "X_train['sewer_system'].value_counts()"
   ]
  },
  {
   "cell_type": "code",
   "execution_count": 566,
   "metadata": {},
   "outputs": [],
   "source": [
    "base = [\"bedrooms\", 'bathrooms', 'sqft_living',\n",
    "       'sqft_lot', 'floors', 'waterfront', 'greenbelt', 'nuisance',\n",
    "       'heat_source', 'sewer_system', 'sqft_above', 'sqft_garage',\n",
    "       'sqft_patio', 'yr_built', 'zipcode',\n",
    "       'condition_code', 'grade_code', 'view_code', 'house_age']\n",
    "#train:0.7137437946986696\n",
    "#test: 0.7297729436230804\n",
    "#Mean Absolute Error = 204296.85854272838 USD\n",
    "#Root Mean Square Error = 565178.033433265 USD\n",
    "\n",
    "first_model = [\"bedrooms\", 'bathrooms', 'sqft_living',\n",
    "       'sqft_lot', 'floors', 'waterfront', 'greenbelt', 'nuisance',\n",
    "       'heat_source', 'sewer_system', 'sqft_above', 'sqft_garage',\n",
    "       'sqft_patio', 'yr_built', 'zipcode',\n",
    "       'condition_code', 'grade_code', 'view_code', 'house_age']\n",
    "\n",
    "\n",
    "second_model = [\"bedrooms\", \"sqft_living\", \"zipcode\"] \n",
    "#Mean Absolute Error = 278676.41977186996 USD\n",
    "#Root Mean Square Error = 579752.5451034863 USD\n",
    "#train:0.6072068855960666\n",
    "#test: 0.5759009368249631\n",
    "\n",
    "third_model = [\"bedrooms\", \"sqft_living\", \"zipcode\", \"grade_code\", \"bathrooms\", \"house_age\"]\n",
    "#train:0.6188300978546383\n",
    "#test: 0.5918731047118306\n",
    "#Mean Absolute Error = 276233.0914209478 USD\n",
    "#Root Mean Square Error = 573239.1532104259 USD\n",
    "# GOOD\n",
    "\n",
    "fourth_model = [\"bedrooms\", \"sqft_living\", \"zipcode\", \"grade_code\", \"waterfront\"]\n",
    "#train:0.6470342003160825\n",
    "#test: 0.6178979216183432\n",
    "#Mean Absolute Error = 273028.42655529984 USD\n",
    "#Root Mean Square Error = 550298.9793104376 USD\n",
    "\n",
    "fifth_model = [\"bedrooms\", \"sqft_living\", \"zipcode\", \"grade_code\", \"waterfront\", \"sewer_system\"]\n",
    "#Mean Absolute Error = 272964.11076700524 USD\n",
    "#Root Mean Square Error = 550278.9616034931 USD\n",
    "#train:0.6470380753914795\n",
    "#test: 0.6179257198465746\n",
    "\n",
    "sixth_model = [\"bedrooms\", \"sqft_living\", \"zipcode\", \"grade_code\", \"waterfront\", \"greenbelt\", 'house_age']\n",
    "#train:0.6501855454820636\n",
    "#test: 0.6212067948264464\n",
    "#Mean Absolute Error = 268534.62310074805 USD\n",
    "#Root Mean Square Error = 547911.0981128068 USD\n",
    "\n",
    "seventh_model = [\"bedrooms\", \"sqft_living\", \"zipcode\", \"grade_code\", \"waterfront\", \"greenbelt\", 'house_age', 'condition_code']\n",
    "#train:0.6509284527016613\n",
    "#test: 0.6221759436968022\n",
    "#Mean Absolute Error = 266878.75495994417 USD\n",
    "#Root Mean Square Error = 547209.7292687882 USD\n",
    "\n",
    "eighth_model = [\"bedrooms\", \"bathrooms\", \"sqft_living\", \"sqft_above\", \"floors\", \"sqft_garage\", \"sqft_patio\", \"grade_code\", \"view_code\", \"condition_code\", \"zipcode\", \"house_age\",\"waterfront\", \"greenbelt\"]\n",
    "#train:0.6650633524070334\n",
    "#test: 0.6322436741716335\n",
    "#Mean Absolute Error = 260562.41007943888 USD\n",
    "#Root Mean Square Error = 539869.861212875 USD\n",
    "\n",
    "y = np.log(df['price'])\n",
    "X = df[base]\n",
    "\n",
    "\n",
    "X_train, X_test, y_train, y_test = train_test_split(X,y , test_size = .3, random_state = 42)\n",
    "\n",
    "scaler = StandardScaler()\n",
    "scaler.fit(X_train)\n",
    "X_train_transformed = scaler.transform(X_train)\n",
    "X_test_transformed = scaler.transform(X_test)"
   ]
  },
  {
   "cell_type": "code",
   "execution_count": 567,
   "metadata": {},
   "outputs": [],
   "source": [
    "ohe = OneHotEncoder(sparse = False)\n",
    "\n",
    "ohe_train = ohe.fit_transform(X_train[['zipcode']])\n",
    "ohe_test = ohe.transform(X_test[['zipcode']])\n",
    "\n",
    "ohe_train = pd.DataFrame(ohe_train, columns = ohe.get_feature_names())\n",
    "ohe_test  = pd.DataFrame(ohe_test, columns = ohe.get_feature_names())\n",
    "\n"
   ]
  },
  {
   "cell_type": "code",
   "execution_count": null,
   "metadata": {},
   "outputs": [],
   "source": []
  },
  {
   "cell_type": "code",
   "execution_count": 568,
   "metadata": {},
   "outputs": [],
   "source": [
    "X_train_ohe = pd.concat([X_train.drop(columns = ['zipcode']).reset_index(), ohe_train],1)\n",
    "X_test_ohe = pd.concat([X_test.drop(columns = ['zipcode']).reset_index(), ohe_test],1)"
   ]
  },
  {
   "cell_type": "code",
   "execution_count": 569,
   "metadata": {
    "scrolled": true
   },
   "outputs": [
    {
     "name": "stdout",
     "output_type": "stream",
     "text": [
      "train:0.7137437946986696\n",
      "test: 0.7297729436230804\n"
     ]
    }
   ],
   "source": [
    "lr = LinearRegression()\n",
    "\n",
    "results = lr.fit(X_train_ohe, y_train)\n",
    "print('train:{}'.format(lr.score(X_train_ohe,y_train)))\n",
    "print('test: {}'.format(lr.score(X_test_ohe, y_test)))"
   ]
  },
  {
   "cell_type": "code",
   "execution_count": 570,
   "metadata": {},
   "outputs": [
    {
     "data": {
      "text/plain": [
       "0.7137437946986696"
      ]
     },
     "execution_count": 570,
     "metadata": {},
     "output_type": "execute_result"
    }
   ],
   "source": [
    "r_squared = lr.score(X_train_ohe, y_train)\n",
    "r_squared"
   ]
  },
  {
   "cell_type": "code",
   "execution_count": 571,
   "metadata": {},
   "outputs": [
    {
     "data": {
      "text/plain": [
       "0.712807769520422"
      ]
     },
     "execution_count": 571,
     "metadata": {},
     "output_type": "execute_result"
    }
   ],
   "source": [
    "adj_r2 = 1 - (1-r_squared) * ((len(y)-1)/ (len(y)-X_train_ohe.shape[1]-1))\n",
    "adj_r2"
   ]
  },
  {
   "cell_type": "code",
   "execution_count": 572,
   "metadata": {},
   "outputs": [
    {
     "data": {
      "text/plain": [
       "array([ 562683.33758972, 1359859.9304027 ,  782010.4494419 , ...,\n",
       "        565728.99364098, 3136224.80536425,  581484.64108042])"
      ]
     },
     "execution_count": 572,
     "metadata": {},
     "output_type": "execute_result"
    }
   ],
   "source": [
    "y_pred = lr.predict(X_test_ohe)\n",
    "np.exp(y_pred)\n"
   ]
  },
  {
   "cell_type": "code",
   "execution_count": 573,
   "metadata": {},
   "outputs": [
    {
     "data": {
      "text/plain": [
       "(8745, 95)"
      ]
     },
     "execution_count": 573,
     "metadata": {},
     "output_type": "execute_result"
    }
   ],
   "source": [
    "X_test_ohe.shape\n"
   ]
  },
  {
   "cell_type": "code",
   "execution_count": 574,
   "metadata": {},
   "outputs": [
    {
     "data": {
      "text/plain": [
       "(8745,)"
      ]
     },
     "execution_count": 574,
     "metadata": {},
     "output_type": "execute_result"
    }
   ],
   "source": [
    "y_test.shape"
   ]
  },
  {
   "cell_type": "code",
   "execution_count": 575,
   "metadata": {},
   "outputs": [
    {
     "data": {
      "text/plain": [
       "0.7297729436230804"
      ]
     },
     "execution_count": 575,
     "metadata": {},
     "output_type": "execute_result"
    }
   ],
   "source": [
    "lr.score(X_test_ohe, y_test)"
   ]
  },
  {
   "cell_type": "code",
   "execution_count": 576,
   "metadata": {},
   "outputs": [
    {
     "name": "stdout",
     "output_type": "stream",
     "text": [
      "Mean Absolute Error = 204296.85854272838 USD\n",
      "Root Mean Square Error = 565178.033433265 USD\n"
     ]
    }
   ],
   "source": [
    "MAE = mean_absolute_error(np.exp(y_test), np.exp(y_pred))\n",
    "print(\"Mean Absolute Error =\", MAE, \"USD\")\n",
    "\n",
    "RMSE = mean_squared_error(np.exp(y_test), np.exp(y_pred), squared = False)\n",
    "print(\"Root Mean Square Error =\", RMSE, \"USD\")"
   ]
  },
  {
   "cell_type": "code",
   "execution_count": null,
   "metadata": {},
   "outputs": [],
   "source": []
  },
  {
   "cell_type": "code",
   "execution_count": null,
   "metadata": {},
   "outputs": [],
   "source": []
  },
  {
   "cell_type": "code",
   "execution_count": null,
   "metadata": {},
   "outputs": [],
   "source": []
  }
 ],
 "metadata": {
  "kernelspec": {
   "display_name": "Python 3",
   "language": "python",
   "name": "python3"
  },
  "language_info": {
   "codemirror_mode": {
    "name": "ipython",
    "version": 3
   },
   "file_extension": ".py",
   "mimetype": "text/x-python",
   "name": "python",
   "nbconvert_exporter": "python",
   "pygments_lexer": "ipython3",
   "version": "3.8.5"
  }
 },
 "nbformat": 4,
 "nbformat_minor": 4
}
