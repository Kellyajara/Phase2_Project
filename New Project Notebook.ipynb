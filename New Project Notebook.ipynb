{
 "cells": [
  {
   "cell_type": "markdown",
   "metadata": {},
   "source": [
    "# Imports"
   ]
  },
  {
   "cell_type": "code",
   "execution_count": 1,
   "metadata": {},
   "outputs": [],
   "source": [
    "#base imports\n",
    "import pandas as pd\n",
    "import numpy as np\n",
    "#visualizations\n",
    "import matplotlib.pyplot as plt \n",
    "%matplotlib inline \n",
    "import seaborn as sns\n",
    "\n",
    "import warnings\n",
    "warnings.filterwarnings(\"ignore\")"
   ]
  },
  {
   "cell_type": "code",
   "execution_count": 2,
   "metadata": {},
   "outputs": [],
   "source": [
    "# modeling imports\n",
    "from sklearn.model_selection import train_test_split\n",
    "from sklearn.preprocessing import OneHotEncoder, StandardScaler, OrdinalEncoder, PolynomialFeatures, MinMaxScaler\n",
    "from sklearn.linear_model import LinearRegression\n",
    "import statsmodels.api as sm\n",
    "from sklearn.metrics import r2_score, mean_squared_error, mean_absolute_error"
   ]
  },
  {
   "cell_type": "markdown",
   "metadata": {},
   "source": [
    "# Loading csv file"
   ]
  },
  {
   "cell_type": "code",
   "execution_count": 3,
   "metadata": {},
   "outputs": [
    {
     "data": {
      "text/html": [
       "<div>\n",
       "<style scoped>\n",
       "    .dataframe tbody tr th:only-of-type {\n",
       "        vertical-align: middle;\n",
       "    }\n",
       "\n",
       "    .dataframe tbody tr th {\n",
       "        vertical-align: top;\n",
       "    }\n",
       "\n",
       "    .dataframe thead th {\n",
       "        text-align: right;\n",
       "    }\n",
       "</style>\n",
       "<table border=\"1\" class=\"dataframe\">\n",
       "  <thead>\n",
       "    <tr style=\"text-align: right;\">\n",
       "      <th></th>\n",
       "      <th>id</th>\n",
       "      <th>date</th>\n",
       "      <th>price</th>\n",
       "      <th>bedrooms</th>\n",
       "      <th>bathrooms</th>\n",
       "      <th>sqft_living</th>\n",
       "      <th>sqft_lot</th>\n",
       "      <th>floors</th>\n",
       "      <th>waterfront</th>\n",
       "      <th>greenbelt</th>\n",
       "      <th>...</th>\n",
       "      <th>sewer_system</th>\n",
       "      <th>sqft_above</th>\n",
       "      <th>sqft_basement</th>\n",
       "      <th>sqft_garage</th>\n",
       "      <th>sqft_patio</th>\n",
       "      <th>yr_built</th>\n",
       "      <th>yr_renovated</th>\n",
       "      <th>address</th>\n",
       "      <th>lat</th>\n",
       "      <th>long</th>\n",
       "    </tr>\n",
       "  </thead>\n",
       "  <tbody>\n",
       "    <tr>\n",
       "      <th>0</th>\n",
       "      <td>7399300360</td>\n",
       "      <td>5/24/2022</td>\n",
       "      <td>675000.0</td>\n",
       "      <td>4</td>\n",
       "      <td>1.0</td>\n",
       "      <td>1180</td>\n",
       "      <td>7140</td>\n",
       "      <td>1.0</td>\n",
       "      <td>NO</td>\n",
       "      <td>NO</td>\n",
       "      <td>...</td>\n",
       "      <td>PUBLIC</td>\n",
       "      <td>1180</td>\n",
       "      <td>0</td>\n",
       "      <td>0</td>\n",
       "      <td>40</td>\n",
       "      <td>1969</td>\n",
       "      <td>0</td>\n",
       "      <td>2102 Southeast 21st Court, Renton, Washington ...</td>\n",
       "      <td>47.461975</td>\n",
       "      <td>-122.19052</td>\n",
       "    </tr>\n",
       "    <tr>\n",
       "      <th>1</th>\n",
       "      <td>8910500230</td>\n",
       "      <td>12/13/2021</td>\n",
       "      <td>920000.0</td>\n",
       "      <td>5</td>\n",
       "      <td>2.5</td>\n",
       "      <td>2770</td>\n",
       "      <td>6703</td>\n",
       "      <td>1.0</td>\n",
       "      <td>NO</td>\n",
       "      <td>NO</td>\n",
       "      <td>...</td>\n",
       "      <td>PUBLIC</td>\n",
       "      <td>1570</td>\n",
       "      <td>1570</td>\n",
       "      <td>0</td>\n",
       "      <td>240</td>\n",
       "      <td>1950</td>\n",
       "      <td>0</td>\n",
       "      <td>11231 Greenwood Avenue North, Seattle, Washing...</td>\n",
       "      <td>47.711525</td>\n",
       "      <td>-122.35591</td>\n",
       "    </tr>\n",
       "    <tr>\n",
       "      <th>2</th>\n",
       "      <td>1180000275</td>\n",
       "      <td>9/29/2021</td>\n",
       "      <td>311000.0</td>\n",
       "      <td>6</td>\n",
       "      <td>2.0</td>\n",
       "      <td>2880</td>\n",
       "      <td>6156</td>\n",
       "      <td>1.0</td>\n",
       "      <td>NO</td>\n",
       "      <td>NO</td>\n",
       "      <td>...</td>\n",
       "      <td>PUBLIC</td>\n",
       "      <td>1580</td>\n",
       "      <td>1580</td>\n",
       "      <td>0</td>\n",
       "      <td>0</td>\n",
       "      <td>1956</td>\n",
       "      <td>0</td>\n",
       "      <td>8504 South 113th Street, Seattle, Washington 9...</td>\n",
       "      <td>47.502045</td>\n",
       "      <td>-122.22520</td>\n",
       "    </tr>\n",
       "    <tr>\n",
       "      <th>3</th>\n",
       "      <td>1604601802</td>\n",
       "      <td>12/14/2021</td>\n",
       "      <td>775000.0</td>\n",
       "      <td>3</td>\n",
       "      <td>3.0</td>\n",
       "      <td>2160</td>\n",
       "      <td>1400</td>\n",
       "      <td>2.0</td>\n",
       "      <td>NO</td>\n",
       "      <td>NO</td>\n",
       "      <td>...</td>\n",
       "      <td>PUBLIC</td>\n",
       "      <td>1090</td>\n",
       "      <td>1070</td>\n",
       "      <td>200</td>\n",
       "      <td>270</td>\n",
       "      <td>2010</td>\n",
       "      <td>0</td>\n",
       "      <td>4079 Letitia Avenue South, Seattle, Washington...</td>\n",
       "      <td>47.566110</td>\n",
       "      <td>-122.29020</td>\n",
       "    </tr>\n",
       "    <tr>\n",
       "      <th>4</th>\n",
       "      <td>8562780790</td>\n",
       "      <td>8/24/2021</td>\n",
       "      <td>592500.0</td>\n",
       "      <td>2</td>\n",
       "      <td>2.0</td>\n",
       "      <td>1120</td>\n",
       "      <td>758</td>\n",
       "      <td>2.0</td>\n",
       "      <td>NO</td>\n",
       "      <td>NO</td>\n",
       "      <td>...</td>\n",
       "      <td>PUBLIC</td>\n",
       "      <td>1120</td>\n",
       "      <td>550</td>\n",
       "      <td>550</td>\n",
       "      <td>30</td>\n",
       "      <td>2012</td>\n",
       "      <td>0</td>\n",
       "      <td>2193 Northwest Talus Drive, Issaquah, Washingt...</td>\n",
       "      <td>47.532470</td>\n",
       "      <td>-122.07188</td>\n",
       "    </tr>\n",
       "  </tbody>\n",
       "</table>\n",
       "<p>5 rows × 25 columns</p>\n",
       "</div>"
      ],
      "text/plain": [
       "           id        date     price  bedrooms  bathrooms  sqft_living  \\\n",
       "0  7399300360   5/24/2022  675000.0         4        1.0         1180   \n",
       "1  8910500230  12/13/2021  920000.0         5        2.5         2770   \n",
       "2  1180000275   9/29/2021  311000.0         6        2.0         2880   \n",
       "3  1604601802  12/14/2021  775000.0         3        3.0         2160   \n",
       "4  8562780790   8/24/2021  592500.0         2        2.0         1120   \n",
       "\n",
       "   sqft_lot  floors waterfront greenbelt  ... sewer_system sqft_above  \\\n",
       "0      7140     1.0         NO        NO  ...       PUBLIC       1180   \n",
       "1      6703     1.0         NO        NO  ...       PUBLIC       1570   \n",
       "2      6156     1.0         NO        NO  ...       PUBLIC       1580   \n",
       "3      1400     2.0         NO        NO  ...       PUBLIC       1090   \n",
       "4       758     2.0         NO        NO  ...       PUBLIC       1120   \n",
       "\n",
       "  sqft_basement sqft_garage sqft_patio yr_built  yr_renovated  \\\n",
       "0             0           0         40     1969             0   \n",
       "1          1570           0        240     1950             0   \n",
       "2          1580           0          0     1956             0   \n",
       "3          1070         200        270     2010             0   \n",
       "4           550         550         30     2012             0   \n",
       "\n",
       "                                             address        lat       long  \n",
       "0  2102 Southeast 21st Court, Renton, Washington ...  47.461975 -122.19052  \n",
       "1  11231 Greenwood Avenue North, Seattle, Washing...  47.711525 -122.35591  \n",
       "2  8504 South 113th Street, Seattle, Washington 9...  47.502045 -122.22520  \n",
       "3  4079 Letitia Avenue South, Seattle, Washington...  47.566110 -122.29020  \n",
       "4  2193 Northwest Talus Drive, Issaquah, Washingt...  47.532470 -122.07188  \n",
       "\n",
       "[5 rows x 25 columns]"
      ]
     },
     "execution_count": 3,
     "metadata": {},
     "output_type": "execute_result"
    }
   ],
   "source": [
    "housing_df= pd.read_csv('Data/kc_house_data.csv')\n",
    "housing_df.head()"
   ]
  },
  {
   "cell_type": "markdown",
   "metadata": {},
   "source": [
    "# Finding and Removing Null Values"
   ]
  },
  {
   "cell_type": "code",
   "execution_count": 4,
   "metadata": {},
   "outputs": [
    {
     "data": {
      "text/plain": [
       "id                0\n",
       "date              0\n",
       "price             0\n",
       "bedrooms          0\n",
       "bathrooms         0\n",
       "sqft_living       0\n",
       "sqft_lot          0\n",
       "floors            0\n",
       "waterfront        0\n",
       "greenbelt         0\n",
       "nuisance          0\n",
       "view              0\n",
       "condition         0\n",
       "grade             0\n",
       "heat_source      32\n",
       "sewer_system     14\n",
       "sqft_above        0\n",
       "sqft_basement     0\n",
       "sqft_garage       0\n",
       "sqft_patio        0\n",
       "yr_built          0\n",
       "yr_renovated      0\n",
       "address           0\n",
       "lat               0\n",
       "long              0\n",
       "dtype: int64"
      ]
     },
     "execution_count": 4,
     "metadata": {},
     "output_type": "execute_result"
    }
   ],
   "source": [
    "housing_df.isna().sum()"
   ]
  },
  {
   "cell_type": "code",
   "execution_count": 5,
   "metadata": {},
   "outputs": [
    {
     "name": "stdout",
     "output_type": "stream",
     "text": [
      "<class 'pandas.core.frame.DataFrame'>\n",
      "Int64Index: 30111 entries, 0 to 30154\n",
      "Data columns (total 25 columns):\n",
      " #   Column         Non-Null Count  Dtype  \n",
      "---  ------         --------------  -----  \n",
      " 0   id             30111 non-null  int64  \n",
      " 1   date           30111 non-null  object \n",
      " 2   price          30111 non-null  float64\n",
      " 3   bedrooms       30111 non-null  int64  \n",
      " 4   bathrooms      30111 non-null  float64\n",
      " 5   sqft_living    30111 non-null  int64  \n",
      " 6   sqft_lot       30111 non-null  int64  \n",
      " 7   floors         30111 non-null  float64\n",
      " 8   waterfront     30111 non-null  object \n",
      " 9   greenbelt      30111 non-null  object \n",
      " 10  nuisance       30111 non-null  object \n",
      " 11  view           30111 non-null  object \n",
      " 12  condition      30111 non-null  object \n",
      " 13  grade          30111 non-null  object \n",
      " 14  heat_source    30111 non-null  object \n",
      " 15  sewer_system   30111 non-null  object \n",
      " 16  sqft_above     30111 non-null  int64  \n",
      " 17  sqft_basement  30111 non-null  int64  \n",
      " 18  sqft_garage    30111 non-null  int64  \n",
      " 19  sqft_patio     30111 non-null  int64  \n",
      " 20  yr_built       30111 non-null  int64  \n",
      " 21  yr_renovated   30111 non-null  int64  \n",
      " 22  address        30111 non-null  object \n",
      " 23  lat            30111 non-null  float64\n",
      " 24  long           30111 non-null  float64\n",
      "dtypes: float64(5), int64(10), object(10)\n",
      "memory usage: 6.0+ MB\n"
     ]
    }
   ],
   "source": [
    "housing_df.dropna(inplace = True)\n",
    "housing_df.info()"
   ]
  },
  {
   "cell_type": "markdown",
   "metadata": {},
   "source": [
    "# Creating new column with zipcodes"
   ]
  },
  {
   "cell_type": "code",
   "execution_count": 6,
   "metadata": {},
   "outputs": [
    {
     "data": {
      "text/plain": [
       "Avenue, 108 Foothill Blvd, Rancho Cucamonga, California 91730, United States    38\n",
       "Delridge Way Southwest, Seattle, Washington 98106, United States                24\n",
       "9th Ave, Nebraska City, Nebraska 68410, United States                           21\n",
       "South 35th Avenue, Bellevue, Nebraska 68123, United States                      20\n",
       "A, Leadwood, Missouri 63653, United States                                      17\n",
       "                                                                                ..\n",
       "1824 Northeast Perkins Place, Shoreline, Washington 98155, United States         1\n",
       "1240 Oakcrest Drive Northwest, Issaquah, Washington 98027, United States         1\n",
       "3469 Southeast 18th Street, Renton, Washington 98058, United States              1\n",
       "7414 Keen Way North, Seattle, Washington 98103, United States                    1\n",
       "2223 Northwest 62nd Street, Seattle, Washington 98107, United States             1\n",
       "Name: address, Length: 29519, dtype: int64"
      ]
     },
     "execution_count": 6,
     "metadata": {},
     "output_type": "execute_result"
    }
   ],
   "source": [
    "housing_df['address'].value_counts()"
   ]
  },
  {
   "cell_type": "code",
   "execution_count": 7,
   "metadata": {},
   "outputs": [],
   "source": [
    "housing_df['zipcode'] = housing_df['address'].str.findall(r'([0-9]\\d+)').apply(\n",
    "    lambda x: x[-1] if len(x) >= 1 else '')\n",
    "housing_df['zipcode'] = housing_df['zipcode'].astype(int)"
   ]
  },
  {
   "cell_type": "code",
   "execution_count": 8,
   "metadata": {},
   "outputs": [
    {
     "data": {
      "text/html": [
       "<div>\n",
       "<style scoped>\n",
       "    .dataframe tbody tr th:only-of-type {\n",
       "        vertical-align: middle;\n",
       "    }\n",
       "\n",
       "    .dataframe tbody tr th {\n",
       "        vertical-align: top;\n",
       "    }\n",
       "\n",
       "    .dataframe thead th {\n",
       "        text-align: right;\n",
       "    }\n",
       "</style>\n",
       "<table border=\"1\" class=\"dataframe\">\n",
       "  <thead>\n",
       "    <tr style=\"text-align: right;\">\n",
       "      <th></th>\n",
       "      <th>id</th>\n",
       "      <th>date</th>\n",
       "      <th>price</th>\n",
       "      <th>bedrooms</th>\n",
       "      <th>bathrooms</th>\n",
       "      <th>sqft_living</th>\n",
       "      <th>sqft_lot</th>\n",
       "      <th>floors</th>\n",
       "      <th>waterfront</th>\n",
       "      <th>greenbelt</th>\n",
       "      <th>...</th>\n",
       "      <th>sqft_above</th>\n",
       "      <th>sqft_basement</th>\n",
       "      <th>sqft_garage</th>\n",
       "      <th>sqft_patio</th>\n",
       "      <th>yr_built</th>\n",
       "      <th>yr_renovated</th>\n",
       "      <th>address</th>\n",
       "      <th>lat</th>\n",
       "      <th>long</th>\n",
       "      <th>zipcode</th>\n",
       "    </tr>\n",
       "  </thead>\n",
       "  <tbody>\n",
       "    <tr>\n",
       "      <th>0</th>\n",
       "      <td>7399300360</td>\n",
       "      <td>5/24/2022</td>\n",
       "      <td>675000.0</td>\n",
       "      <td>4</td>\n",
       "      <td>1.0</td>\n",
       "      <td>1180</td>\n",
       "      <td>7140</td>\n",
       "      <td>1.0</td>\n",
       "      <td>NO</td>\n",
       "      <td>NO</td>\n",
       "      <td>...</td>\n",
       "      <td>1180</td>\n",
       "      <td>0</td>\n",
       "      <td>0</td>\n",
       "      <td>40</td>\n",
       "      <td>1969</td>\n",
       "      <td>0</td>\n",
       "      <td>2102 Southeast 21st Court, Renton, Washington ...</td>\n",
       "      <td>47.461975</td>\n",
       "      <td>-122.19052</td>\n",
       "      <td>98055</td>\n",
       "    </tr>\n",
       "    <tr>\n",
       "      <th>1</th>\n",
       "      <td>8910500230</td>\n",
       "      <td>12/13/2021</td>\n",
       "      <td>920000.0</td>\n",
       "      <td>5</td>\n",
       "      <td>2.5</td>\n",
       "      <td>2770</td>\n",
       "      <td>6703</td>\n",
       "      <td>1.0</td>\n",
       "      <td>NO</td>\n",
       "      <td>NO</td>\n",
       "      <td>...</td>\n",
       "      <td>1570</td>\n",
       "      <td>1570</td>\n",
       "      <td>0</td>\n",
       "      <td>240</td>\n",
       "      <td>1950</td>\n",
       "      <td>0</td>\n",
       "      <td>11231 Greenwood Avenue North, Seattle, Washing...</td>\n",
       "      <td>47.711525</td>\n",
       "      <td>-122.35591</td>\n",
       "      <td>98133</td>\n",
       "    </tr>\n",
       "    <tr>\n",
       "      <th>2</th>\n",
       "      <td>1180000275</td>\n",
       "      <td>9/29/2021</td>\n",
       "      <td>311000.0</td>\n",
       "      <td>6</td>\n",
       "      <td>2.0</td>\n",
       "      <td>2880</td>\n",
       "      <td>6156</td>\n",
       "      <td>1.0</td>\n",
       "      <td>NO</td>\n",
       "      <td>NO</td>\n",
       "      <td>...</td>\n",
       "      <td>1580</td>\n",
       "      <td>1580</td>\n",
       "      <td>0</td>\n",
       "      <td>0</td>\n",
       "      <td>1956</td>\n",
       "      <td>0</td>\n",
       "      <td>8504 South 113th Street, Seattle, Washington 9...</td>\n",
       "      <td>47.502045</td>\n",
       "      <td>-122.22520</td>\n",
       "      <td>98178</td>\n",
       "    </tr>\n",
       "    <tr>\n",
       "      <th>3</th>\n",
       "      <td>1604601802</td>\n",
       "      <td>12/14/2021</td>\n",
       "      <td>775000.0</td>\n",
       "      <td>3</td>\n",
       "      <td>3.0</td>\n",
       "      <td>2160</td>\n",
       "      <td>1400</td>\n",
       "      <td>2.0</td>\n",
       "      <td>NO</td>\n",
       "      <td>NO</td>\n",
       "      <td>...</td>\n",
       "      <td>1090</td>\n",
       "      <td>1070</td>\n",
       "      <td>200</td>\n",
       "      <td>270</td>\n",
       "      <td>2010</td>\n",
       "      <td>0</td>\n",
       "      <td>4079 Letitia Avenue South, Seattle, Washington...</td>\n",
       "      <td>47.566110</td>\n",
       "      <td>-122.29020</td>\n",
       "      <td>98118</td>\n",
       "    </tr>\n",
       "    <tr>\n",
       "      <th>4</th>\n",
       "      <td>8562780790</td>\n",
       "      <td>8/24/2021</td>\n",
       "      <td>592500.0</td>\n",
       "      <td>2</td>\n",
       "      <td>2.0</td>\n",
       "      <td>1120</td>\n",
       "      <td>758</td>\n",
       "      <td>2.0</td>\n",
       "      <td>NO</td>\n",
       "      <td>NO</td>\n",
       "      <td>...</td>\n",
       "      <td>1120</td>\n",
       "      <td>550</td>\n",
       "      <td>550</td>\n",
       "      <td>30</td>\n",
       "      <td>2012</td>\n",
       "      <td>0</td>\n",
       "      <td>2193 Northwest Talus Drive, Issaquah, Washingt...</td>\n",
       "      <td>47.532470</td>\n",
       "      <td>-122.07188</td>\n",
       "      <td>98027</td>\n",
       "    </tr>\n",
       "    <tr>\n",
       "      <th>...</th>\n",
       "      <td>...</td>\n",
       "      <td>...</td>\n",
       "      <td>...</td>\n",
       "      <td>...</td>\n",
       "      <td>...</td>\n",
       "      <td>...</td>\n",
       "      <td>...</td>\n",
       "      <td>...</td>\n",
       "      <td>...</td>\n",
       "      <td>...</td>\n",
       "      <td>...</td>\n",
       "      <td>...</td>\n",
       "      <td>...</td>\n",
       "      <td>...</td>\n",
       "      <td>...</td>\n",
       "      <td>...</td>\n",
       "      <td>...</td>\n",
       "      <td>...</td>\n",
       "      <td>...</td>\n",
       "      <td>...</td>\n",
       "      <td>...</td>\n",
       "    </tr>\n",
       "    <tr>\n",
       "      <th>30150</th>\n",
       "      <td>7834800180</td>\n",
       "      <td>11/30/2021</td>\n",
       "      <td>1555000.0</td>\n",
       "      <td>5</td>\n",
       "      <td>2.0</td>\n",
       "      <td>1910</td>\n",
       "      <td>4000</td>\n",
       "      <td>1.5</td>\n",
       "      <td>NO</td>\n",
       "      <td>NO</td>\n",
       "      <td>...</td>\n",
       "      <td>1600</td>\n",
       "      <td>1130</td>\n",
       "      <td>0</td>\n",
       "      <td>210</td>\n",
       "      <td>1921</td>\n",
       "      <td>0</td>\n",
       "      <td>4673 Eastern Avenue North, Seattle, Washington...</td>\n",
       "      <td>47.664740</td>\n",
       "      <td>-122.32940</td>\n",
       "      <td>98103</td>\n",
       "    </tr>\n",
       "    <tr>\n",
       "      <th>30151</th>\n",
       "      <td>194000695</td>\n",
       "      <td>6/16/2021</td>\n",
       "      <td>1313000.0</td>\n",
       "      <td>3</td>\n",
       "      <td>2.0</td>\n",
       "      <td>2020</td>\n",
       "      <td>5800</td>\n",
       "      <td>2.0</td>\n",
       "      <td>NO</td>\n",
       "      <td>NO</td>\n",
       "      <td>...</td>\n",
       "      <td>2020</td>\n",
       "      <td>0</td>\n",
       "      <td>0</td>\n",
       "      <td>520</td>\n",
       "      <td>2011</td>\n",
       "      <td>0</td>\n",
       "      <td>4131 44th Avenue Southwest, Seattle, Washingto...</td>\n",
       "      <td>47.565610</td>\n",
       "      <td>-122.38851</td>\n",
       "      <td>98116</td>\n",
       "    </tr>\n",
       "    <tr>\n",
       "      <th>30152</th>\n",
       "      <td>7960100080</td>\n",
       "      <td>5/27/2022</td>\n",
       "      <td>800000.0</td>\n",
       "      <td>3</td>\n",
       "      <td>2.0</td>\n",
       "      <td>1620</td>\n",
       "      <td>3600</td>\n",
       "      <td>1.0</td>\n",
       "      <td>NO</td>\n",
       "      <td>NO</td>\n",
       "      <td>...</td>\n",
       "      <td>940</td>\n",
       "      <td>920</td>\n",
       "      <td>240</td>\n",
       "      <td>110</td>\n",
       "      <td>1995</td>\n",
       "      <td>0</td>\n",
       "      <td>910 Martin Luther King Jr Way, Seattle, Washin...</td>\n",
       "      <td>47.610395</td>\n",
       "      <td>-122.29585</td>\n",
       "      <td>98122</td>\n",
       "    </tr>\n",
       "    <tr>\n",
       "      <th>30153</th>\n",
       "      <td>2781280080</td>\n",
       "      <td>2/24/2022</td>\n",
       "      <td>775000.0</td>\n",
       "      <td>3</td>\n",
       "      <td>2.5</td>\n",
       "      <td>2570</td>\n",
       "      <td>2889</td>\n",
       "      <td>2.0</td>\n",
       "      <td>NO</td>\n",
       "      <td>NO</td>\n",
       "      <td>...</td>\n",
       "      <td>1830</td>\n",
       "      <td>740</td>\n",
       "      <td>480</td>\n",
       "      <td>100</td>\n",
       "      <td>2006</td>\n",
       "      <td>0</td>\n",
       "      <td>17127 114th Avenue Southeast, Renton, Washingt...</td>\n",
       "      <td>47.449490</td>\n",
       "      <td>-122.18908</td>\n",
       "      <td>98055</td>\n",
       "    </tr>\n",
       "    <tr>\n",
       "      <th>30154</th>\n",
       "      <td>9557800100</td>\n",
       "      <td>4/29/2022</td>\n",
       "      <td>500000.0</td>\n",
       "      <td>3</td>\n",
       "      <td>1.5</td>\n",
       "      <td>1200</td>\n",
       "      <td>11058</td>\n",
       "      <td>1.0</td>\n",
       "      <td>NO</td>\n",
       "      <td>NO</td>\n",
       "      <td>...</td>\n",
       "      <td>1200</td>\n",
       "      <td>0</td>\n",
       "      <td>420</td>\n",
       "      <td>0</td>\n",
       "      <td>1965</td>\n",
       "      <td>0</td>\n",
       "      <td>18615 7th Avenue South, Burien, Washington 981...</td>\n",
       "      <td>47.435840</td>\n",
       "      <td>-122.32634</td>\n",
       "      <td>98148</td>\n",
       "    </tr>\n",
       "  </tbody>\n",
       "</table>\n",
       "<p>30111 rows × 26 columns</p>\n",
       "</div>"
      ],
      "text/plain": [
       "               id        date      price  bedrooms  bathrooms  sqft_living  \\\n",
       "0      7399300360   5/24/2022   675000.0         4        1.0         1180   \n",
       "1      8910500230  12/13/2021   920000.0         5        2.5         2770   \n",
       "2      1180000275   9/29/2021   311000.0         6        2.0         2880   \n",
       "3      1604601802  12/14/2021   775000.0         3        3.0         2160   \n",
       "4      8562780790   8/24/2021   592500.0         2        2.0         1120   \n",
       "...           ...         ...        ...       ...        ...          ...   \n",
       "30150  7834800180  11/30/2021  1555000.0         5        2.0         1910   \n",
       "30151   194000695   6/16/2021  1313000.0         3        2.0         2020   \n",
       "30152  7960100080   5/27/2022   800000.0         3        2.0         1620   \n",
       "30153  2781280080   2/24/2022   775000.0         3        2.5         2570   \n",
       "30154  9557800100   4/29/2022   500000.0         3        1.5         1200   \n",
       "\n",
       "       sqft_lot  floors waterfront greenbelt  ... sqft_above sqft_basement  \\\n",
       "0          7140     1.0         NO        NO  ...       1180             0   \n",
       "1          6703     1.0         NO        NO  ...       1570          1570   \n",
       "2          6156     1.0         NO        NO  ...       1580          1580   \n",
       "3          1400     2.0         NO        NO  ...       1090          1070   \n",
       "4           758     2.0         NO        NO  ...       1120           550   \n",
       "...         ...     ...        ...       ...  ...        ...           ...   \n",
       "30150      4000     1.5         NO        NO  ...       1600          1130   \n",
       "30151      5800     2.0         NO        NO  ...       2020             0   \n",
       "30152      3600     1.0         NO        NO  ...        940           920   \n",
       "30153      2889     2.0         NO        NO  ...       1830           740   \n",
       "30154     11058     1.0         NO        NO  ...       1200             0   \n",
       "\n",
       "      sqft_garage sqft_patio yr_built yr_renovated  \\\n",
       "0               0         40     1969            0   \n",
       "1               0        240     1950            0   \n",
       "2               0          0     1956            0   \n",
       "3             200        270     2010            0   \n",
       "4             550         30     2012            0   \n",
       "...           ...        ...      ...          ...   \n",
       "30150           0        210     1921            0   \n",
       "30151           0        520     2011            0   \n",
       "30152         240        110     1995            0   \n",
       "30153         480        100     2006            0   \n",
       "30154         420          0     1965            0   \n",
       "\n",
       "                                                 address        lat  \\\n",
       "0      2102 Southeast 21st Court, Renton, Washington ...  47.461975   \n",
       "1      11231 Greenwood Avenue North, Seattle, Washing...  47.711525   \n",
       "2      8504 South 113th Street, Seattle, Washington 9...  47.502045   \n",
       "3      4079 Letitia Avenue South, Seattle, Washington...  47.566110   \n",
       "4      2193 Northwest Talus Drive, Issaquah, Washingt...  47.532470   \n",
       "...                                                  ...        ...   \n",
       "30150  4673 Eastern Avenue North, Seattle, Washington...  47.664740   \n",
       "30151  4131 44th Avenue Southwest, Seattle, Washingto...  47.565610   \n",
       "30152  910 Martin Luther King Jr Way, Seattle, Washin...  47.610395   \n",
       "30153  17127 114th Avenue Southeast, Renton, Washingt...  47.449490   \n",
       "30154  18615 7th Avenue South, Burien, Washington 981...  47.435840   \n",
       "\n",
       "            long  zipcode  \n",
       "0     -122.19052    98055  \n",
       "1     -122.35591    98133  \n",
       "2     -122.22520    98178  \n",
       "3     -122.29020    98118  \n",
       "4     -122.07188    98027  \n",
       "...          ...      ...  \n",
       "30150 -122.32940    98103  \n",
       "30151 -122.38851    98116  \n",
       "30152 -122.29585    98122  \n",
       "30153 -122.18908    98055  \n",
       "30154 -122.32634    98148  \n",
       "\n",
       "[30111 rows x 26 columns]"
      ]
     },
     "execution_count": 8,
     "metadata": {},
     "output_type": "execute_result"
    }
   ],
   "source": [
    "housing_df"
   ]
  },
  {
   "cell_type": "markdown",
   "metadata": {},
   "source": [
    "# Creating numerical column based on condition values"
   ]
  },
  {
   "cell_type": "code",
   "execution_count": 9,
   "metadata": {},
   "outputs": [
    {
     "data": {
      "text/plain": [
       "Average      18515\n",
       "Good          8052\n",
       "Very Good     3258\n",
       "Fair           225\n",
       "Poor            61\n",
       "Name: condition, dtype: int64"
      ]
     },
     "execution_count": 9,
     "metadata": {},
     "output_type": "execute_result"
    }
   ],
   "source": [
    "housing_df['condition'].value_counts()"
   ]
  },
  {
   "cell_type": "code",
   "execution_count": 10,
   "metadata": {},
   "outputs": [],
   "source": [
    "housing_df[\"condition\"] = housing_df[\"condition\"].astype('category')\n",
    "housing_df[\"condition\"] = housing_df[\"condition\"].cat.reorder_categories(\n",
    "    [\"Poor\",\"Fair\",\"Average\",\"Good\",\"Very Good\"])"
   ]
  },
  {
   "cell_type": "code",
   "execution_count": 11,
   "metadata": {},
   "outputs": [
    {
     "data": {
      "text/plain": [
       "2    18515\n",
       "3     8052\n",
       "4     3258\n",
       "1      225\n",
       "0       61\n",
       "Name: condition_code, dtype: int64"
      ]
     },
     "execution_count": 11,
     "metadata": {},
     "output_type": "execute_result"
    }
   ],
   "source": [
    "housing_df[\"condition_code\"] = housing_df[\"condition\"].cat.codes\n",
    "housing_df[\"condition_code\"].value_counts()"
   ]
  },
  {
   "cell_type": "markdown",
   "metadata": {},
   "source": [
    "# Creating numerical column with view values"
   ]
  },
  {
   "cell_type": "code",
   "execution_count": 12,
   "metadata": {},
   "outputs": [
    {
     "data": {
      "text/plain": [
       "0    26555\n",
       "2     1910\n",
       "3      877\n",
       "4      549\n",
       "1      220\n",
       "Name: view_code, dtype: int64"
      ]
     },
     "execution_count": 12,
     "metadata": {},
     "output_type": "execute_result"
    }
   ],
   "source": [
    "housing_df[\"view_code\"] = housing_df[\"view\"].astype('category')\n",
    "categories2 = [\"NONE\",\"FAIR\",\"AVERAGE\",\"GOOD\",\"EXCELLENT\"]\n",
    "housing_df[\"view_code\"] = housing_df[\"view_code\"].cat.reorder_categories(categories2)\n",
    "housing_df[\"view_code\"] = housing_df[\"view_code\"].cat.codes\n",
    "housing_df[\"view_code\"].value_counts()"
   ]
  },
  {
   "cell_type": "markdown",
   "metadata": {},
   "source": [
    "# Splitting string and numerical value form the grades column. Creating a new column with grades numerical value"
   ]
  },
  {
   "cell_type": "code",
   "execution_count": 13,
   "metadata": {},
   "outputs": [
    {
     "data": {
      "text/plain": [
       "array(['7 Average', '9 Better', '8 Good', '6 Low Average', '10 Very Good',\n",
       "       '5 Fair', '11 Excellent', '12 Luxury', '4 Low', '13 Mansion',\n",
       "       '3 Poor', '2 Substandard'], dtype=object)"
      ]
     },
     "execution_count": 13,
     "metadata": {},
     "output_type": "execute_result"
    }
   ],
   "source": [
    "housing_df[\"grade\"].unique()"
   ]
  },
  {
   "cell_type": "code",
   "execution_count": 14,
   "metadata": {},
   "outputs": [],
   "source": [
    "import string\n",
    "housing_df[\"grade_str\"] = housing_df[\"grade\"].str.strip(string.digits)\n",
    "housing_df[\"grade_str\"] = housing_df[\"grade_str\"].str.strip()"
   ]
  },
  {
   "cell_type": "code",
   "execution_count": 15,
   "metadata": {
    "scrolled": true
   },
   "outputs": [
    {
     "data": {
      "text/plain": [
       "5     11693\n",
       "6      9400\n",
       "7      3804\n",
       "4      2852\n",
       "8      1369\n",
       "9       406\n",
       "3       385\n",
       "10      122\n",
       "2        46\n",
       "11       24\n",
       "1         9\n",
       "0         1\n",
       "Name: grade_code, dtype: int64"
      ]
     },
     "execution_count": 15,
     "metadata": {},
     "output_type": "execute_result"
    }
   ],
   "source": [
    "housing_df[\"grade_code\"] = housing_df[\"grade_str\"].astype('category')\n",
    "categories = ['Substandard','Poor','Low','Fair','Low Average','Average','Good','Better',\n",
    "             'Very Good','Excellent','Luxury','Mansion']\n",
    "housing_df[\"grade_code\"] = housing_df[\"grade_code\"].cat.reorder_categories(categories)\n",
    "housing_df[\"grade_code\"] = housing_df[\"grade_code\"].cat.codes\n",
    "housing_df[\"grade_code\"].value_counts()"
   ]
  },
  {
   "cell_type": "code",
   "execution_count": 16,
   "metadata": {},
   "outputs": [],
   "source": [
    "#dropping columns that we are not using\n",
    "housing_df = housing_df.drop(columns =['id', 'yr_renovated','address', 'long','lat','grade_str'], axis = 1 )"
   ]
  },
  {
   "cell_type": "markdown",
   "metadata": {},
   "source": [
    "# Removing zip codes not in Kings County"
   ]
  },
  {
   "cell_type": "code",
   "execution_count": 17,
   "metadata": {},
   "outputs": [],
   "source": [
    "# Creating a dictionary with zipcodes within kings county and corresponding city name\n",
    "zip_dict = dict({\n",
    "98002 : \"Auburn\",\n",
    "98092: \"Auburn\",\n",
    "98224: \"Baring\",\n",
    "98004: \"Bellevue\",\n",
    "98005: \"Bellevue\",\n",
    "98006: \"Bellevue\",\n",
    "98007: \"Bellevue\",\n",
    "98008: \"Bellevue\",\n",
    "98010: \"Black Diamond\",\n",
    "98011: \"Bothell\",\n",
    "98178: \"Bryn Mawr-Skyway\",\n",
    "98148: \"Burien\",\n",
    "98166: \"Burien\",\n",
    "98014: \"Carnation\",\n",
    "98077: \"Cottage Lake\",\n",
    "98042: \"Covington\",\n",
    "98198: \"Des Moines\",\n",
    "98019: \"Duvall\",\n",
    "98031: \"East Hill-Meridian\",\n",
    "98022: \"Enumclaw\",\n",
    "98058: \"Fairwood\",\n",
    "98024: \"Fall City\",\n",
    "98003: \"Federal Way\",\n",
    "98023: \"Federal Way\",\n",
    "98027: \"Issaquah\",\n",
    "98029: \"Issaquah\",\n",
    "98028: \"Kenmore\",\n",
    "98032: \"Kent\",\n",
    "98030: \"Kent\",\n",
    "98033: \"Kirkland\",\n",
    "98034: \"Kirkland\",\n",
    "98001: \"Lakeland North\",\n",
    "98038: \"Maple Valley\",\n",
    "98039: \"Medina\",\n",
    "98040: \"Mercer Island\",\n",
    "98045: \"North Bend\",\n",
    "98047: \"Pacific\",\n",
    "98050: \"Preston\",\n",
    "98051: \"Ravensdale\",\n",
    "98052: \"Redmond\",\n",
    "98055: \"Renton\",\n",
    "98056: \"Renton\",\n",
    "98057: \"Renton\",\n",
    "98059: \"Renton\",\n",
    "98074: \"Sammamish\",\n",
    "98075: \"Sammamish\",\n",
    "98188: \"SeaTac\",\n",
    "98199: \"Seattle\",\n",
    "98174: \"Seattle\",\n",
    "98154: \"Seattle\",\n",
    "98158: \"Seattle\",\n",
    "98164: \"Seattle\",\n",
    "98101: \"Seattle\",\n",
    "98102: \"Seattle\",\n",
    "98103: \"Seattle\",\n",
    "98104: \"Seattle\",\n",
    "98105: \"Seattle\",\n",
    "98106: \"Seattle\",\n",
    "98107: \"Seattle\",\n",
    "98108: \"Seattle\",\n",
    "98109: \"Seattle\",\n",
    "98112: \"Seattle\",\n",
    "98115: \"Seattle\",\n",
    "98116: \"Seattle\",\n",
    "98117: \"Seattle\",\n",
    "98118: \"Seattle\",\n",
    "98119: \"Seattle\",\n",
    "98121: \"Seattle\",\n",
    "98122: \"Seattle\",\n",
    "98125: \"Seattle\",\n",
    "98126: \"Seattle\",\n",
    "98133: \"Seattle\",\n",
    "98134: \"Seattle\",\n",
    "98136: \"Seattle\",\n",
    "98144: \"Seattle\",\n",
    "98155: \"Shoreline\",\n",
    "98177: \"Shoreline\",\n",
    "98288: \"Skykomish\",\n",
    "98065: \"Snoqualmie\",\n",
    "98168: \"Tukwila\",\n",
    "98053: \"Union Hill-Novelty Hill\",\n",
    "98195: \"Univ Of Washington\",\n",
    "98070: \"Vashon\",\n",
    "98146: \"White Center\",\n",
    "98072: \"Woodinville\"})"
   ]
  },
  {
   "cell_type": "code",
   "execution_count": 18,
   "metadata": {},
   "outputs": [],
   "source": [
    "zip_list = list(zip_dict.keys())"
   ]
  },
  {
   "cell_type": "code",
   "execution_count": 19,
   "metadata": {},
   "outputs": [
    {
     "data": {
      "text/html": [
       "<div>\n",
       "<style scoped>\n",
       "    .dataframe tbody tr th:only-of-type {\n",
       "        vertical-align: middle;\n",
       "    }\n",
       "\n",
       "    .dataframe tbody tr th {\n",
       "        vertical-align: top;\n",
       "    }\n",
       "\n",
       "    .dataframe thead th {\n",
       "        text-align: right;\n",
       "    }\n",
       "</style>\n",
       "<table border=\"1\" class=\"dataframe\">\n",
       "  <thead>\n",
       "    <tr style=\"text-align: right;\">\n",
       "      <th></th>\n",
       "      <th>date</th>\n",
       "      <th>price</th>\n",
       "      <th>bedrooms</th>\n",
       "      <th>bathrooms</th>\n",
       "      <th>sqft_living</th>\n",
       "      <th>sqft_lot</th>\n",
       "      <th>floors</th>\n",
       "      <th>waterfront</th>\n",
       "      <th>greenbelt</th>\n",
       "      <th>nuisance</th>\n",
       "      <th>...</th>\n",
       "      <th>sewer_system</th>\n",
       "      <th>sqft_above</th>\n",
       "      <th>sqft_basement</th>\n",
       "      <th>sqft_garage</th>\n",
       "      <th>sqft_patio</th>\n",
       "      <th>yr_built</th>\n",
       "      <th>zipcode</th>\n",
       "      <th>condition_code</th>\n",
       "      <th>view_code</th>\n",
       "      <th>grade_code</th>\n",
       "    </tr>\n",
       "  </thead>\n",
       "  <tbody>\n",
       "    <tr>\n",
       "      <th>0</th>\n",
       "      <td>5/24/2022</td>\n",
       "      <td>675000.0</td>\n",
       "      <td>4</td>\n",
       "      <td>1.0</td>\n",
       "      <td>1180</td>\n",
       "      <td>7140</td>\n",
       "      <td>1.0</td>\n",
       "      <td>NO</td>\n",
       "      <td>NO</td>\n",
       "      <td>NO</td>\n",
       "      <td>...</td>\n",
       "      <td>PUBLIC</td>\n",
       "      <td>1180</td>\n",
       "      <td>0</td>\n",
       "      <td>0</td>\n",
       "      <td>40</td>\n",
       "      <td>1969</td>\n",
       "      <td>98055</td>\n",
       "      <td>3</td>\n",
       "      <td>0</td>\n",
       "      <td>5</td>\n",
       "    </tr>\n",
       "    <tr>\n",
       "      <th>1</th>\n",
       "      <td>12/13/2021</td>\n",
       "      <td>920000.0</td>\n",
       "      <td>5</td>\n",
       "      <td>2.5</td>\n",
       "      <td>2770</td>\n",
       "      <td>6703</td>\n",
       "      <td>1.0</td>\n",
       "      <td>NO</td>\n",
       "      <td>NO</td>\n",
       "      <td>YES</td>\n",
       "      <td>...</td>\n",
       "      <td>PUBLIC</td>\n",
       "      <td>1570</td>\n",
       "      <td>1570</td>\n",
       "      <td>0</td>\n",
       "      <td>240</td>\n",
       "      <td>1950</td>\n",
       "      <td>98133</td>\n",
       "      <td>2</td>\n",
       "      <td>2</td>\n",
       "      <td>5</td>\n",
       "    </tr>\n",
       "    <tr>\n",
       "      <th>2</th>\n",
       "      <td>9/29/2021</td>\n",
       "      <td>311000.0</td>\n",
       "      <td>6</td>\n",
       "      <td>2.0</td>\n",
       "      <td>2880</td>\n",
       "      <td>6156</td>\n",
       "      <td>1.0</td>\n",
       "      <td>NO</td>\n",
       "      <td>NO</td>\n",
       "      <td>NO</td>\n",
       "      <td>...</td>\n",
       "      <td>PUBLIC</td>\n",
       "      <td>1580</td>\n",
       "      <td>1580</td>\n",
       "      <td>0</td>\n",
       "      <td>0</td>\n",
       "      <td>1956</td>\n",
       "      <td>98178</td>\n",
       "      <td>2</td>\n",
       "      <td>2</td>\n",
       "      <td>5</td>\n",
       "    </tr>\n",
       "    <tr>\n",
       "      <th>3</th>\n",
       "      <td>12/14/2021</td>\n",
       "      <td>775000.0</td>\n",
       "      <td>3</td>\n",
       "      <td>3.0</td>\n",
       "      <td>2160</td>\n",
       "      <td>1400</td>\n",
       "      <td>2.0</td>\n",
       "      <td>NO</td>\n",
       "      <td>NO</td>\n",
       "      <td>NO</td>\n",
       "      <td>...</td>\n",
       "      <td>PUBLIC</td>\n",
       "      <td>1090</td>\n",
       "      <td>1070</td>\n",
       "      <td>200</td>\n",
       "      <td>270</td>\n",
       "      <td>2010</td>\n",
       "      <td>98118</td>\n",
       "      <td>2</td>\n",
       "      <td>2</td>\n",
       "      <td>7</td>\n",
       "    </tr>\n",
       "    <tr>\n",
       "      <th>4</th>\n",
       "      <td>8/24/2021</td>\n",
       "      <td>592500.0</td>\n",
       "      <td>2</td>\n",
       "      <td>2.0</td>\n",
       "      <td>1120</td>\n",
       "      <td>758</td>\n",
       "      <td>2.0</td>\n",
       "      <td>NO</td>\n",
       "      <td>NO</td>\n",
       "      <td>YES</td>\n",
       "      <td>...</td>\n",
       "      <td>PUBLIC</td>\n",
       "      <td>1120</td>\n",
       "      <td>550</td>\n",
       "      <td>550</td>\n",
       "      <td>30</td>\n",
       "      <td>2012</td>\n",
       "      <td>98027</td>\n",
       "      <td>2</td>\n",
       "      <td>0</td>\n",
       "      <td>5</td>\n",
       "    </tr>\n",
       "    <tr>\n",
       "      <th>...</th>\n",
       "      <td>...</td>\n",
       "      <td>...</td>\n",
       "      <td>...</td>\n",
       "      <td>...</td>\n",
       "      <td>...</td>\n",
       "      <td>...</td>\n",
       "      <td>...</td>\n",
       "      <td>...</td>\n",
       "      <td>...</td>\n",
       "      <td>...</td>\n",
       "      <td>...</td>\n",
       "      <td>...</td>\n",
       "      <td>...</td>\n",
       "      <td>...</td>\n",
       "      <td>...</td>\n",
       "      <td>...</td>\n",
       "      <td>...</td>\n",
       "      <td>...</td>\n",
       "      <td>...</td>\n",
       "      <td>...</td>\n",
       "      <td>...</td>\n",
       "    </tr>\n",
       "    <tr>\n",
       "      <th>30150</th>\n",
       "      <td>11/30/2021</td>\n",
       "      <td>1555000.0</td>\n",
       "      <td>5</td>\n",
       "      <td>2.0</td>\n",
       "      <td>1910</td>\n",
       "      <td>4000</td>\n",
       "      <td>1.5</td>\n",
       "      <td>NO</td>\n",
       "      <td>NO</td>\n",
       "      <td>NO</td>\n",
       "      <td>...</td>\n",
       "      <td>PUBLIC</td>\n",
       "      <td>1600</td>\n",
       "      <td>1130</td>\n",
       "      <td>0</td>\n",
       "      <td>210</td>\n",
       "      <td>1921</td>\n",
       "      <td>98103</td>\n",
       "      <td>3</td>\n",
       "      <td>0</td>\n",
       "      <td>6</td>\n",
       "    </tr>\n",
       "    <tr>\n",
       "      <th>30151</th>\n",
       "      <td>6/16/2021</td>\n",
       "      <td>1313000.0</td>\n",
       "      <td>3</td>\n",
       "      <td>2.0</td>\n",
       "      <td>2020</td>\n",
       "      <td>5800</td>\n",
       "      <td>2.0</td>\n",
       "      <td>NO</td>\n",
       "      <td>NO</td>\n",
       "      <td>NO</td>\n",
       "      <td>...</td>\n",
       "      <td>PUBLIC</td>\n",
       "      <td>2020</td>\n",
       "      <td>0</td>\n",
       "      <td>0</td>\n",
       "      <td>520</td>\n",
       "      <td>2011</td>\n",
       "      <td>98116</td>\n",
       "      <td>2</td>\n",
       "      <td>1</td>\n",
       "      <td>5</td>\n",
       "    </tr>\n",
       "    <tr>\n",
       "      <th>30152</th>\n",
       "      <td>5/27/2022</td>\n",
       "      <td>800000.0</td>\n",
       "      <td>3</td>\n",
       "      <td>2.0</td>\n",
       "      <td>1620</td>\n",
       "      <td>3600</td>\n",
       "      <td>1.0</td>\n",
       "      <td>NO</td>\n",
       "      <td>NO</td>\n",
       "      <td>YES</td>\n",
       "      <td>...</td>\n",
       "      <td>PUBLIC</td>\n",
       "      <td>940</td>\n",
       "      <td>920</td>\n",
       "      <td>240</td>\n",
       "      <td>110</td>\n",
       "      <td>1995</td>\n",
       "      <td>98122</td>\n",
       "      <td>2</td>\n",
       "      <td>0</td>\n",
       "      <td>5</td>\n",
       "    </tr>\n",
       "    <tr>\n",
       "      <th>30153</th>\n",
       "      <td>2/24/2022</td>\n",
       "      <td>775000.0</td>\n",
       "      <td>3</td>\n",
       "      <td>2.5</td>\n",
       "      <td>2570</td>\n",
       "      <td>2889</td>\n",
       "      <td>2.0</td>\n",
       "      <td>NO</td>\n",
       "      <td>NO</td>\n",
       "      <td>NO</td>\n",
       "      <td>...</td>\n",
       "      <td>PUBLIC</td>\n",
       "      <td>1830</td>\n",
       "      <td>740</td>\n",
       "      <td>480</td>\n",
       "      <td>100</td>\n",
       "      <td>2006</td>\n",
       "      <td>98055</td>\n",
       "      <td>2</td>\n",
       "      <td>0</td>\n",
       "      <td>6</td>\n",
       "    </tr>\n",
       "    <tr>\n",
       "      <th>30154</th>\n",
       "      <td>4/29/2022</td>\n",
       "      <td>500000.0</td>\n",
       "      <td>3</td>\n",
       "      <td>1.5</td>\n",
       "      <td>1200</td>\n",
       "      <td>11058</td>\n",
       "      <td>1.0</td>\n",
       "      <td>NO</td>\n",
       "      <td>NO</td>\n",
       "      <td>NO</td>\n",
       "      <td>...</td>\n",
       "      <td>PUBLIC</td>\n",
       "      <td>1200</td>\n",
       "      <td>0</td>\n",
       "      <td>420</td>\n",
       "      <td>0</td>\n",
       "      <td>1965</td>\n",
       "      <td>98148</td>\n",
       "      <td>2</td>\n",
       "      <td>0</td>\n",
       "      <td>5</td>\n",
       "    </tr>\n",
       "  </tbody>\n",
       "</table>\n",
       "<p>29149 rows × 24 columns</p>\n",
       "</div>"
      ],
      "text/plain": [
       "             date      price  bedrooms  bathrooms  sqft_living  sqft_lot  \\\n",
       "0       5/24/2022   675000.0         4        1.0         1180      7140   \n",
       "1      12/13/2021   920000.0         5        2.5         2770      6703   \n",
       "2       9/29/2021   311000.0         6        2.0         2880      6156   \n",
       "3      12/14/2021   775000.0         3        3.0         2160      1400   \n",
       "4       8/24/2021   592500.0         2        2.0         1120       758   \n",
       "...           ...        ...       ...        ...          ...       ...   \n",
       "30150  11/30/2021  1555000.0         5        2.0         1910      4000   \n",
       "30151   6/16/2021  1313000.0         3        2.0         2020      5800   \n",
       "30152   5/27/2022   800000.0         3        2.0         1620      3600   \n",
       "30153   2/24/2022   775000.0         3        2.5         2570      2889   \n",
       "30154   4/29/2022   500000.0         3        1.5         1200     11058   \n",
       "\n",
       "       floors waterfront greenbelt nuisance  ... sewer_system sqft_above  \\\n",
       "0         1.0         NO        NO       NO  ...       PUBLIC       1180   \n",
       "1         1.0         NO        NO      YES  ...       PUBLIC       1570   \n",
       "2         1.0         NO        NO       NO  ...       PUBLIC       1580   \n",
       "3         2.0         NO        NO       NO  ...       PUBLIC       1090   \n",
       "4         2.0         NO        NO      YES  ...       PUBLIC       1120   \n",
       "...       ...        ...       ...      ...  ...          ...        ...   \n",
       "30150     1.5         NO        NO       NO  ...       PUBLIC       1600   \n",
       "30151     2.0         NO        NO       NO  ...       PUBLIC       2020   \n",
       "30152     1.0         NO        NO      YES  ...       PUBLIC        940   \n",
       "30153     2.0         NO        NO       NO  ...       PUBLIC       1830   \n",
       "30154     1.0         NO        NO       NO  ...       PUBLIC       1200   \n",
       "\n",
       "      sqft_basement sqft_garage sqft_patio  yr_built  zipcode  condition_code  \\\n",
       "0                 0           0         40      1969    98055               3   \n",
       "1              1570           0        240      1950    98133               2   \n",
       "2              1580           0          0      1956    98178               2   \n",
       "3              1070         200        270      2010    98118               2   \n",
       "4               550         550         30      2012    98027               2   \n",
       "...             ...         ...        ...       ...      ...             ...   \n",
       "30150          1130           0        210      1921    98103               3   \n",
       "30151             0           0        520      2011    98116               2   \n",
       "30152           920         240        110      1995    98122               2   \n",
       "30153           740         480        100      2006    98055               2   \n",
       "30154             0         420          0      1965    98148               2   \n",
       "\n",
       "       view_code  grade_code  \n",
       "0              0           5  \n",
       "1              2           5  \n",
       "2              2           5  \n",
       "3              2           7  \n",
       "4              0           5  \n",
       "...          ...         ...  \n",
       "30150          0           6  \n",
       "30151          1           5  \n",
       "30152          0           5  \n",
       "30153          0           6  \n",
       "30154          0           5  \n",
       "\n",
       "[29149 rows x 24 columns]"
      ]
     },
     "execution_count": 19,
     "metadata": {},
     "output_type": "execute_result"
    }
   ],
   "source": [
    "#creating a new dataframe with zipcodes from kings county\n",
    "housing_df2 = housing_df[housing_df[\"zipcode\"].isin(zip_list)]\n",
    "housing_df2"
   ]
  },
  {
   "cell_type": "markdown",
   "metadata": {},
   "source": [
    "# Seeing correlations between the variables"
   ]
  },
  {
   "cell_type": "code",
   "execution_count": 20,
   "metadata": {},
   "outputs": [
    {
     "data": {
      "image/png": "[encoded data removed]",
      "text/plain": [
       "<Figure size 1152x432 with 2 Axes>"
      ]
     },
     "metadata": {
      "needs_background": "light"
     },
     "output_type": "display_data"
    }
   ],
   "source": [
    "#Creating a heatmap\n",
    "plt.figure(figsize=(16, 6))\n",
    "mask = np.triu(np.ones_like(housing_df2.corr(), dtype=np.bool))\n",
    "heatmap = sns.heatmap(housing_df2.corr(), mask=mask, vmin=-1, vmax=1, annot=True)"
   ]
  },
  {
   "cell_type": "markdown",
   "metadata": {},
   "source": [
    "# Simple Linear Regression - Price & Grade"
   ]
  },
  {
   "cell_type": "code",
   "execution_count": 21,
   "metadata": {},
   "outputs": [
    {
     "name": "stdout",
     "output_type": "stream",
     "text": [
      "                            OLS Regression Results                            \n",
      "==============================================================================\n",
      "Dep. Variable:                  price   R-squared:                       0.386\n",
      "Model:                            OLS   Adj. R-squared:                  0.386\n",
      "Method:                 Least Squares   F-statistic:                 1.831e+04\n",
      "Date:                Wed, 31 May 2023   Prob (F-statistic):               0.00\n",
      "Time:                        14:29:27   Log-Likelihood:                -18647.\n",
      "No. Observations:               29149   AIC:                         3.730e+04\n",
      "Df Residuals:                   29147   BIC:                         3.731e+04\n",
      "Df Model:                           1                                         \n",
      "Covariance Type:            nonrobust                                         \n",
      "==============================================================================\n",
      "                 coef    std err          t      P>|t|      [0.025      0.975]\n",
      "------------------------------------------------------------------------------\n",
      "const         11.9596      0.013    891.255      0.000      11.933      11.986\n",
      "grade_code     0.3155      0.002    135.326      0.000       0.311       0.320\n",
      "==============================================================================\n",
      "Omnibus:                     4631.458   Durbin-Watson:                   1.995\n",
      "Prob(Omnibus):                  0.000   Jarque-Bera (JB):            36335.741\n",
      "Skew:                          -0.543   Prob(JB):                         0.00\n",
      "Kurtosis:                       8.361   Cond. No.                         29.6\n",
      "==============================================================================\n",
      "\n",
      "Notes:\n",
      "[1] Standard Errors assume that the covariance matrix of the errors is correctly specified.\n"
     ]
    }
   ],
   "source": [
    "import statsmodels.api as sm\n",
    "\n",
    "X = housing_df2[['grade_code']]\n",
    "y = np.log(housing_df2['price'])\n",
    "\n",
    "simple_model = sm.OLS(endog = y, exog = sm.add_constant(X))\n",
    "\n",
    "simple_model_results = simple_model.fit()\n",
    "print(simple_model_results.summary())"
   ]
  },
  {
   "cell_type": "code",
   "execution_count": 22,
   "metadata": {},
   "outputs": [],
   "source": [
    "# Test Train Split model\n",
    "X_train, X_test, y_train, y_test = train_test_split(X, y, test_size = 0.20, random_state = 42)"
   ]
  },
  {
   "cell_type": "code",
   "execution_count": 23,
   "metadata": {},
   "outputs": [],
   "source": [
    "#Scaling\n",
    "scaler = StandardScaler()\n",
    "\n",
    "scaler.fit(X_train)\n",
    "\n",
    "X_train_transformed = scaler.transform(X_train)\n",
    "X_test_transformed = scaler.transform(X_test)\n",
    "# Creating linear regression model"
   ]
  },
  {
   "cell_type": "code",
   "execution_count": 24,
   "metadata": {},
   "outputs": [
    {
     "name": "stdout",
     "output_type": "stream",
     "text": [
      "train:0.3811969987274234\n",
      "test:0.40501567421807794\n"
     ]
    }
   ],
   "source": [
    "grade_lr = LinearRegression()\n",
    "grade_lr.fit(X_train_transformed, y_train)\n",
    "print('train:{}'.format(grade_lr.score(X_train_transformed, y_train)))\n",
    "print('test:{}'.format(grade_lr.score(X_test_transformed, y_test)))"
   ]
  },
  {
   "cell_type": "code",
   "execution_count": 25,
   "metadata": {},
   "outputs": [
    {
     "name": "stdout",
     "output_type": "stream",
     "text": [
      "Mean Absolute Error = $ 2.045236250867215\n",
      "Root Mean Square Error = $ 2.093580000658895\n"
     ]
    }
   ],
   "source": [
    "y_pred = grade_lr.predict(X_test)\n",
    "\n",
    "grade_mean = mean_absolute_error(y_test,y_pred)\n",
    "print('Mean Absolute Error = $', grade_mean)\n",
    "grade_r2 = mean_squared_error(y_test, y_pred, squared = False)\n",
    "print('Root Mean Square Error = $', grade_r2)"
   ]
  },
  {
   "cell_type": "code",
   "execution_count": 26,
   "metadata": {},
   "outputs": [
    {
     "data": {
      "text/plain": [
       "0.3811969987274234"
      ]
     },
     "execution_count": 26,
     "metadata": {},
     "output_type": "execute_result"
    }
   ],
   "source": [
    "r_squared = grade_lr.score(X_train_transformed, y_train)\n",
    "r_squared"
   ]
  },
  {
   "cell_type": "code",
   "execution_count": 27,
   "metadata": {},
   "outputs": [
    {
     "data": {
      "text/plain": [
       "0.3811757683091549"
      ]
     },
     "execution_count": 27,
     "metadata": {},
     "output_type": "execute_result"
    }
   ],
   "source": [
    "adj_r2 = 1 - (1-r_squared) * ((len(y)-1)/(len(y)-X_train_transformed.shape[1]-1))\n",
    "adj_r2"
   ]
  },
  {
   "cell_type": "code",
   "execution_count": 28,
   "metadata": {},
   "outputs": [
    {
     "data": {
      "text/plain": [
       "0.40501567421807794"
      ]
     },
     "execution_count": 28,
     "metadata": {},
     "output_type": "execute_result"
    }
   ],
   "source": [
    "grade_lr.score(X_test_transformed, y_test)"
   ]
  },
  {
   "cell_type": "code",
   "execution_count": 29,
   "metadata": {},
   "outputs": [
    {
     "data": {
      "image/png": "[encoded data removed]",
      "text/plain": [
       "<Figure size 432x288 with 1 Axes>"
      ]
     },
     "metadata": {
      "needs_background": "light"
     },
     "output_type": "display_data"
    }
   ],
   "source": [
    "plt.scatter(X_train_transformed, y_train, color = 'g')\n",
    "plt.plot(X_test_transformed, y_pred, color = 'k')\n",
    "\n",
    "plt.show()"
   ]
  },
  {
   "cell_type": "code",
   "execution_count": 30,
   "metadata": {},
   "outputs": [
    {
     "data": {
      "image/png": "[encoded data removed]",
      "text/plain": [
       "<Figure size 432x288 with 1 Axes>"
      ]
     },
     "metadata": {
      "needs_background": "light"
     },
     "output_type": "display_data"
    }
   ],
   "source": [
    "fig, ax = plt.subplots()\n",
    "\n",
    "sns.scatterplot(x = \"grade_code\", y = \"price\",hue = \"grade\", data = housing_df)\n",
    "ax.set_title(\"Price Per Grade\")\n",
    "ax.set_ylabel(\"Price\")\n",
    "ax.set_xlabel(\"Grade\")\n",
    "\n",
    "plt.legend(loc='upper left', bbox_to_anchor = (1,1))\n",
    "\n",
    "plt.show()"
   ]
  },
  {
   "cell_type": "markdown",
   "metadata": {},
   "source": [
    "# Simple Linear Regression: Price - Condition"
   ]
  },
  {
   "cell_type": "code",
   "execution_count": 31,
   "metadata": {},
   "outputs": [
    {
     "data": {
      "image/png": "[encoded data removed]",
      "text/plain": [
       "<Figure size 432x288 with 1 Axes>"
      ]
     },
     "metadata": {
      "needs_background": "light"
     },
     "output_type": "display_data"
    }
   ],
   "source": [
    "#viewing boxplot of price and condition\n",
    "fig, ax = plt.subplots()\n",
    "\n",
    "sns.barplot(x = \"condition_code\", y = \"price\",hue = \"condition\", data = housing_df)\n",
    "ax.set_title(\"Price Per Condition\")\n",
    "ax.set_ylabel(\"Price\")\n",
    "ax.set_xlabel(\"Condition\")\n",
    "\n",
    "plt.legend(loc='upper left', bbox_to_anchor = (1,1))\n",
    "\n",
    "plt.show()"
   ]
  },
  {
   "cell_type": "code",
   "execution_count": 32,
   "metadata": {},
   "outputs": [
    {
     "name": "stdout",
     "output_type": "stream",
     "text": [
      "                            OLS Regression Results                            \n",
      "==============================================================================\n",
      "Dep. Variable:                  price   R-squared:                       0.000\n",
      "Model:                            OLS   Adj. R-squared:                  0.000\n",
      "Method:                 Least Squares   F-statistic:                     1.072\n",
      "Date:                Wed, 31 May 2023   Prob (F-statistic):              0.300\n",
      "Time:                        14:29:31   Log-Likelihood:                -25752.\n",
      "No. Observations:               29149   AIC:                         5.151e+04\n",
      "Df Residuals:                   29147   BIC:                         5.152e+04\n",
      "Df Model:                           1                                         \n",
      "Covariance Type:            nonrobust                                         \n",
      "==================================================================================\n",
      "                     coef    std err          t      P>|t|      [0.025      0.975]\n",
      "----------------------------------------------------------------------------------\n",
      "const             13.7262      0.013   1095.705      0.000      13.702      13.751\n",
      "condition_code     0.0050      0.005      1.035      0.300      -0.004       0.015\n",
      "==============================================================================\n",
      "Omnibus:                     1669.451   Durbin-Watson:                   1.997\n",
      "Prob(Omnibus):                  0.000   Jarque-Bera (JB):             6944.949\n",
      "Skew:                           0.086   Prob(JB):                         0.00\n",
      "Kurtosis:                       5.385   Cond. No.                         10.8\n",
      "==============================================================================\n",
      "\n",
      "Notes:\n",
      "[1] Standard Errors assume that the covariance matrix of the errors is correctly specified.\n"
     ]
    }
   ],
   "source": [
    "X_cond = housing_df2[['condition_code']]\n",
    "y_cond = np.log(housing_df2['price'])\n",
    "\n",
    "# Replace None with appropriate code\n",
    "condition_model = sm.OLS(endog = y_cond, exog = sm.add_constant(X_cond))\n",
    "\n",
    "condition_model_results = condition_model.fit()\n",
    "print(condition_model_results.summary())"
   ]
  },
  {
   "cell_type": "code",
   "execution_count": 33,
   "metadata": {},
   "outputs": [],
   "source": [
    "X_cond_train, X_cond_test, y_cond_train, y_cond_test = train_test_split(X_cond, y_cond, test_size = 0.20, random_state = 42)"
   ]
  },
  {
   "cell_type": "code",
   "execution_count": 34,
   "metadata": {},
   "outputs": [
    {
     "data": {
      "text/plain": [
       "LinearRegression()"
      ]
     },
     "execution_count": 34,
     "metadata": {},
     "output_type": "execute_result"
    }
   ],
   "source": [
    "cond_lr = LinearRegression()\n",
    "cond_lr.fit(X_cond_train, y_cond_train)"
   ]
  },
  {
   "cell_type": "code",
   "execution_count": 35,
   "metadata": {},
   "outputs": [
    {
     "name": "stdout",
     "output_type": "stream",
     "text": [
      "Mean Absolute Error = $ 0.4408172407902587\n",
      "Root Mean Square Error = $ 2.093580000658895\n"
     ]
    }
   ],
   "source": [
    "y_cond_pred = cond_lr.predict(X_cond_test)\n",
    "\n",
    "cond_mean = mean_absolute_error(y_cond_test,y_cond_pred)\n",
    "print('Mean Absolute Error = $', cond_mean)\n",
    "cond_r2 = mean_squared_error(y_cond_test, y_cond_pred, squared = False)\n",
    "print('Root Mean Square Error = $', grade_r2)"
   ]
  },
  {
   "cell_type": "code",
   "execution_count": 36,
   "metadata": {},
   "outputs": [
    {
     "data": {
      "image/png": "[encoded data removed]",
      "text/plain": [
       "<Figure size 432x288 with 1 Axes>"
      ]
     },
     "metadata": {
      "needs_background": "light"
     },
     "output_type": "display_data"
    }
   ],
   "source": [
    "plt.scatter(X_cond_train, y_cond_train, color = 'g')\n",
    "plt.plot(X_cond_test, y_cond_pred, color = 'k')\n",
    "\n",
    "plt.show()"
   ]
  },
  {
   "cell_type": "markdown",
   "metadata": {},
   "source": [
    "### Multiple Linear Regression Model 1 "
   ]
  },
  {
   "cell_type": "code",
   "execution_count": 46,
   "metadata": {},
   "outputs": [],
   "source": [
    "from sklearn.model_selection import train_test_split\n",
    "from sklearn.linear_model import LinearRegression\n",
    "import statsmodels.api as sm\n",
    "from sklearn.metrics import r2_score, mean_squared_error, mean_absolute_error"
   ]
  },
  {
   "cell_type": "code",
   "execution_count": 47,
   "metadata": {},
   "outputs": [],
   "source": [
    "base = ['bedrooms', 'bathrooms',\"sqft_lot\",'sqft_above','floors',\"sqft_basement\",\n",
    "         'sqft_garage','sqft_patio',\"grade_code\",\"view_code\",\"condition_code\"]"
   ]
  },
  {
   "cell_type": "code",
   "execution_count": 48,
   "metadata": {},
   "outputs": [],
   "source": [
    "y = np.log(housing_df2['price'])\n",
    "\n",
    "X = housing_df2[base]\n",
    "\n",
    "X_train, X_test, y_train, y_test = train_test_split(X, y, test_size=0.3, random_state = 42)\n",
    "\n",
    "scaler = StandardScaler()\n",
    "\n",
    "scaler.fit(X_train)\n",
    "\n",
    "X_train_transformed = scaler.transform(X_train)\n",
    "X_test_transformed = scaler.transform(X_test)"
   ]
  },
  {
   "cell_type": "code",
   "execution_count": 49,
   "metadata": {},
   "outputs": [
    {
     "name": "stdout",
     "output_type": "stream",
     "text": [
      "train: 0.4726840761954455\n",
      "test: 0.49888688063050557:\n"
     ]
    }
   ],
   "source": [
    "lr = LinearRegression()\n",
    "\n",
    "lr.fit(X_train_transformed, y_train)\n",
    "print('train: {}'.format(lr.score(X_train_transformed,y_train)))\n",
    "print('test: {}:'.format( lr.score(X_test_transformed,y_test)))"
   ]
  },
  {
   "cell_type": "code",
   "execution_count": 50,
   "metadata": {},
   "outputs": [
    {
     "data": {
      "text/plain": [
       "0.3809633839759391"
      ]
     },
     "execution_count": 50,
     "metadata": {},
     "output_type": "execute_result"
    }
   ],
   "source": [
    "adj_r2 = 1 - (1-r_squared) * ((len(y)-1)/(len(y)-X_train_transformed.shape[1]-1))\n",
    "adj_r2"
   ]
  },
  {
   "cell_type": "code",
   "execution_count": 51,
   "metadata": {},
   "outputs": [
    {
     "name": "stdout",
     "output_type": "stream",
     "text": [
      "Mean Absolute Error = 0.2982228611763957 USD\n",
      "Root Mean Square Error = 0.4104656958262474 USD\n"
     ]
    }
   ],
   "source": [
    "y_pred = lr.predict(X_test_transformed)\n",
    "\n",
    "MAE = mean_absolute_error(y_test, y_pred)\n",
    "print('Mean Absolute Error =', MAE,'USD')\n",
    "\n",
    "RMSE = mean_squared_error(y_test, y_pred, squared = False)\n",
    "print('Root Mean Square Error =', RMSE,'USD')"
   ]
  },
  {
   "cell_type": "code",
   "execution_count": 52,
   "metadata": {},
   "outputs": [
    {
     "data": {
      "text/plain": [
       "<AxesSubplot:xlabel='price'>"
      ]
     },
     "execution_count": 52,
     "metadata": {},
     "output_type": "execute_result"
    },
    {
     "data": {
      "image/png": "[encoded data removed]",
      "text/plain": [
       "<Figure size 432x288 with 1 Axes>"
      ]
     },
     "metadata": {
      "needs_background": "light"
     },
     "output_type": "display_data"
    }
   ],
   "source": [
    "sns.scatterplot(x = y_test, y = y_pred)"
   ]
  },
  {
   "cell_type": "code",
   "execution_count": null,
   "metadata": {},
   "outputs": [],
   "source": []
  }
 ],
 "metadata": {
  "kernelspec": {
   "display_name": "Python (learn-env)",
   "language": "python",
   "name": "learn-env"
  },
  "language_info": {
   "codemirror_mode": {
    "name": "ipython",
    "version": 3
   },
   "file_extension": ".py",
   "mimetype": "text/x-python",
   "name": "python",
   "nbconvert_exporter": "python",
   "pygments_lexer": "ipython3",
   "version": "3.8.5"
  }
 },
 "nbformat": 4,
 "nbformat_minor": 5
}
